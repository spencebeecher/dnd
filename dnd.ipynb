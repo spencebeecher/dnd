{
 "cells": [
  {
   "cell_type": "code",
   "execution_count": 3,
   "metadata": {},
   "outputs": [],
   "source": [
    "from importlib import reload\n",
    "import matplotlib.pyplot as plt\n",
    "import dnd\n",
    "\n",
    "from dnd import Dice\n",
    "\n",
    "import pandas as pd\n",
    "import numpy as np"
   ]
  },
  {
   "cell_type": "code",
   "execution_count": 26,
   "metadata": {},
   "outputs": [
    {
     "data": {
      "text/html": [
       "<div>\n",
       "<style scoped>\n",
       "    .dataframe tbody tr th:only-of-type {\n",
       "        vertical-align: middle;\n",
       "    }\n",
       "\n",
       "    .dataframe tbody tr th {\n",
       "        vertical-align: top;\n",
       "    }\n",
       "\n",
       "    .dataframe thead th {\n",
       "        text-align: right;\n",
       "    }\n",
       "</style>\n",
       "<table border=\"1\" class=\"dataframe\">\n",
       "  <thead>\n",
       "    <tr style=\"text-align: right;\">\n",
       "      <th></th>\n",
       "      <th>name</th>\n",
       "      <th>tags</th>\n",
       "      <th>page_number</th>\n",
       "      <th>cha</th>\n",
       "      <th>wis</th>\n",
       "      <th>int</th>\n",
       "      <th>con</th>\n",
       "      <th>dex</th>\n",
       "      <th>str</th>\n",
       "      <th>size</th>\n",
       "      <th>...</th>\n",
       "      <th>condition_immunities_charmed</th>\n",
       "      <th>condition_immunities_grappled</th>\n",
       "      <th>condition_immunities_deafened</th>\n",
       "      <th>condition_immunities_poisoned</th>\n",
       "      <th>condition_immunities_exhaustion</th>\n",
       "      <th>condition_immunities_frightened</th>\n",
       "      <th>condition_immunities_petrified</th>\n",
       "      <th>condition_immunities_confusion</th>\n",
       "      <th>condition_immunities_frighened</th>\n",
       "      <th>condition_immunities_paralysis</th>\n",
       "    </tr>\n",
       "  </thead>\n",
       "  <tbody>\n",
       "    <tr>\n",
       "      <th>0</th>\n",
       "      <td>autumn eladrin</td>\n",
       "      <td>[medium,  fey,  cr10,  mordenkainens-tome-of-f...</td>\n",
       "      <td>195.0</td>\n",
       "      <td>18.0</td>\n",
       "      <td>17.0</td>\n",
       "      <td>14.0</td>\n",
       "      <td>16.0</td>\n",
       "      <td>16.0</td>\n",
       "      <td>12.0</td>\n",
       "      <td>medium fey (elf)</td>\n",
       "      <td>...</td>\n",
       "      <td>False</td>\n",
       "      <td>False</td>\n",
       "      <td>False</td>\n",
       "      <td>False</td>\n",
       "      <td>False</td>\n",
       "      <td>False</td>\n",
       "      <td>False</td>\n",
       "      <td>False</td>\n",
       "      <td>False</td>\n",
       "      <td>False</td>\n",
       "    </tr>\n",
       "    <tr>\n",
       "      <th>1</th>\n",
       "      <td>hellenrae</td>\n",
       "      <td>[medium,  humanoid,  cr5,  elemental-evil]</td>\n",
       "      <td>NaN</td>\n",
       "      <td>13.0</td>\n",
       "      <td>15.0</td>\n",
       "      <td>10.0</td>\n",
       "      <td>14.0</td>\n",
       "      <td>18.0</td>\n",
       "      <td>13.0</td>\n",
       "      <td>medium humanoid (human)</td>\n",
       "      <td>...</td>\n",
       "      <td>False</td>\n",
       "      <td>False</td>\n",
       "      <td>False</td>\n",
       "      <td>True</td>\n",
       "      <td>False</td>\n",
       "      <td>False</td>\n",
       "      <td>False</td>\n",
       "      <td>False</td>\n",
       "      <td>False</td>\n",
       "      <td>False</td>\n",
       "    </tr>\n",
       "    <tr>\n",
       "      <th>2</th>\n",
       "      <td>astral dreadnought (b)</td>\n",
       "      <td>[gargantuan,  monstrosity,  cr21,  mordenkaine...</td>\n",
       "      <td>117.0</td>\n",
       "      <td>18.0</td>\n",
       "      <td>14.0</td>\n",
       "      <td>5.0</td>\n",
       "      <td>25.0</td>\n",
       "      <td>7.0</td>\n",
       "      <td>28.0</td>\n",
       "      <td>gargantuan monstrosity (titan)</td>\n",
       "      <td>...</td>\n",
       "      <td>True</td>\n",
       "      <td>False</td>\n",
       "      <td>False</td>\n",
       "      <td>True</td>\n",
       "      <td>True</td>\n",
       "      <td>True</td>\n",
       "      <td>True</td>\n",
       "      <td>False</td>\n",
       "      <td>False</td>\n",
       "      <td>True</td>\n",
       "    </tr>\n",
       "    <tr>\n",
       "      <th>3</th>\n",
       "      <td>skin bat</td>\n",
       "      <td>[small,  undead,  cr1/2,  tome-of-beasts]</td>\n",
       "      <td>NaN</td>\n",
       "      <td>6.0</td>\n",
       "      <td>13.0</td>\n",
       "      <td>2.0</td>\n",
       "      <td>10.0</td>\n",
       "      <td>16.0</td>\n",
       "      <td>12.0</td>\n",
       "      <td>small undead</td>\n",
       "      <td>...</td>\n",
       "      <td>False</td>\n",
       "      <td>False</td>\n",
       "      <td>False</td>\n",
       "      <td>True</td>\n",
       "      <td>False</td>\n",
       "      <td>False</td>\n",
       "      <td>False</td>\n",
       "      <td>False</td>\n",
       "      <td>False</td>\n",
       "      <td>False</td>\n",
       "    </tr>\n",
       "    <tr>\n",
       "      <th>4</th>\n",
       "      <td>oaken bolter</td>\n",
       "      <td>[medium,  construct,  cr5,  mordenkainens-tome...</td>\n",
       "      <td>126.0</td>\n",
       "      <td>1.0</td>\n",
       "      <td>10.0</td>\n",
       "      <td>3.0</td>\n",
       "      <td>15.0</td>\n",
       "      <td>18.0</td>\n",
       "      <td>12.0</td>\n",
       "      <td>medium construct</td>\n",
       "      <td>...</td>\n",
       "      <td>True</td>\n",
       "      <td>False</td>\n",
       "      <td>False</td>\n",
       "      <td>True</td>\n",
       "      <td>True</td>\n",
       "      <td>True</td>\n",
       "      <td>True</td>\n",
       "      <td>False</td>\n",
       "      <td>False</td>\n",
       "      <td>True</td>\n",
       "    </tr>\n",
       "  </tbody>\n",
       "</table>\n",
       "<p>5 rows × 76 columns</p>\n",
       "</div>"
      ],
      "text/plain": [
       "                     name                                               tags  \\\n",
       "0          autumn eladrin  [medium,  fey,  cr10,  mordenkainens-tome-of-f...   \n",
       "1               hellenrae         [medium,  humanoid,  cr5,  elemental-evil]   \n",
       "2  astral dreadnought (b)  [gargantuan,  monstrosity,  cr21,  mordenkaine...   \n",
       "3                skin bat          [small,  undead,  cr1/2,  tome-of-beasts]   \n",
       "4            oaken bolter  [medium,  construct,  cr5,  mordenkainens-tome...   \n",
       "\n",
       "   page_number   cha   wis   int   con   dex   str  \\\n",
       "0        195.0  18.0  17.0  14.0  16.0  16.0  12.0   \n",
       "1          NaN  13.0  15.0  10.0  14.0  18.0  13.0   \n",
       "2        117.0  18.0  14.0   5.0  25.0   7.0  28.0   \n",
       "3          NaN   6.0  13.0   2.0  10.0  16.0  12.0   \n",
       "4        126.0   1.0  10.0   3.0  15.0  18.0  12.0   \n",
       "\n",
       "                             size  ... condition_immunities_charmed  \\\n",
       "0                medium fey (elf)  ...                        False   \n",
       "1         medium humanoid (human)  ...                        False   \n",
       "2  gargantuan monstrosity (titan)  ...                         True   \n",
       "3                    small undead  ...                        False   \n",
       "4                medium construct  ...                         True   \n",
       "\n",
       "  condition_immunities_grappled condition_immunities_deafened  \\\n",
       "0                         False                         False   \n",
       "1                         False                         False   \n",
       "2                         False                         False   \n",
       "3                         False                         False   \n",
       "4                         False                         False   \n",
       "\n",
       "  condition_immunities_poisoned condition_immunities_exhaustion  \\\n",
       "0                         False                           False   \n",
       "1                          True                           False   \n",
       "2                          True                            True   \n",
       "3                          True                           False   \n",
       "4                          True                            True   \n",
       "\n",
       "  condition_immunities_frightened  condition_immunities_petrified  \\\n",
       "0                           False                           False   \n",
       "1                           False                           False   \n",
       "2                            True                            True   \n",
       "3                           False                           False   \n",
       "4                            True                            True   \n",
       "\n",
       "   condition_immunities_confusion condition_immunities_frighened  \\\n",
       "0                           False                          False   \n",
       "1                           False                          False   \n",
       "2                           False                          False   \n",
       "3                           False                          False   \n",
       "4                           False                          False   \n",
       "\n",
       "  condition_immunities_paralysis  \n",
       "0                          False  \n",
       "1                          False  \n",
       "2                           True  \n",
       "3                          False  \n",
       "4                           True  \n",
       "\n",
       "[5 rows x 76 columns]"
      ]
     },
     "execution_count": 26,
     "metadata": {},
     "output_type": "execute_result"
    }
   ],
   "source": [
    "import re\n",
    "immunities = ['poison', 'fire', 'cold', 'lightning', 'bludgeoning', 'piercing', 'slashing', 'acid', 'necrotic', 'radiant', \n",
    "              'thunder', 'force', 'psychic',\n",
    "              'slashing', 'bludgeoning', 'piercing']\n",
    "\n",
    "conditions = {\n",
    "'prone' : 'prone',\n",
    "'blind' : 'blindness',\n",
    " 'blinded' : 'blindness',\n",
    " 'blindness': 'blindness',\n",
    "'charmed' : 'charmed',\n",
    " 'confusion': 'confusion',\n",
    "'deafeed' : 'deafened',\n",
    " 'deafened': 'deafened',\n",
    "'exhausted': 'exhaustion',\n",
    " 'exhaustion' : 'exhaustion',\n",
    "'fright': 'frighened',\n",
    " 'frightened' : 'frightened',\n",
    "'grappled' : 'grappled',\n",
    "'paralysis' : 'paralysis',\n",
    " 'paralyzed' : 'paralysis',\n",
    " 'petrification' : 'petrified',\n",
    " 'petrified' : 'petrified',\n",
    "'poisoned': 'poisoned',\n",
    "'restrained' : 'restrained',\n",
    "'stunned' : 'stunned',\n",
    "'unconscious' : 'unconscious'\n",
    "}\n",
    "\n",
    "removed = set()\n",
    "def map_immunities(value):\n",
    "    \n",
    "    if value == np.nan or type(value) != str:\n",
    "        return []\n",
    "    im=list([x for x in re.split('[,; \"]+', value) if x != '' ])\n",
    "    \n",
    "    for a in im:\n",
    "        if a not in immunities:\n",
    "            removed.add(a)\n",
    "    \n",
    "    return list([x for x in im if x in immunities])\n",
    "\n",
    "def map_condition_immunities(value):\n",
    "    if value == np.nan or type(value) != str:\n",
    "        return []\n",
    "    im=list([x for x in re.split('[,; \"]+', value) if x != '' ])\n",
    "    for a in im:\n",
    "        if a not in conditions:\n",
    "            removed.add(a)\n",
    "        \n",
    "\n",
    "    return list([conditions[x] for x in im if x in conditions])\n",
    "\n",
    "\n",
    "\n",
    "class Creature():\n",
    "    \n",
    "    def __init__(self, lines):\n",
    "        \n",
    "\n",
    "\n",
    "        comment_counter = 0\n",
    "        for line in lines:\n",
    "            if line.startswith('---'):\n",
    "                comment_counter += 1\n",
    "                if comment_counter == 2:\n",
    "                    break\n",
    "            else:\n",
    "                try:\n",
    "                    line = line.lower()\n",
    "\n",
    "                    \n",
    "                    parse_line = lambda x: x.split(': ')[1].strip()\n",
    "\n",
    "                    parse_string = lambda x: x.split(': ')[1].strip().removeprefix('\"').removesuffix('\"')\n",
    "\n",
    "                    parse_first_val = lambda x: int(x.split(': ')[1].split(' ')[0].strip())\n",
    "                    parse_attribute = parse_first_val\n",
    "\n",
    "                    parse_first_quote = lambda x: int(x.split(': ')[1].split(' ')[0].strip().removeprefix('\"').removesuffix('\"'))\n",
    "\n",
    "                    parse_tags = lambda x: list([y for y in x.split(': ')[1].strip().removeprefix('[').removesuffix(']').split(',')])\n",
    "\n",
    "                    \n",
    "                    if line.startswith('name:'):\n",
    "                        self.name = parse_string(line)\n",
    "                    elif line.startswith('tags:'):\n",
    "                        self.tags = parse_tags(line)\n",
    "                    elif line.startswith('cha:'):\n",
    "                        self.cha = parse_attribute(line)\n",
    "                    elif line.startswith('wis:'):\n",
    "                        self.wis = parse_attribute(line)\n",
    "                    elif line.startswith('int:'):\n",
    "                        self.int = parse_attribute(line)\n",
    "                    elif line.startswith('con:'):\n",
    "                        self.con = parse_attribute(line)\n",
    "                    elif line.startswith('dex:'):\n",
    "                        self.dex = parse_attribute(line)\n",
    "                    elif line.startswith('str:'):\n",
    "                        self.str = parse_attribute(line)\n",
    "                    elif line.startswith('size:'):\n",
    "                        self.size = line.split(': ')[1].strip()\n",
    "                    elif line.startswith('alignment:'):\n",
    "                        self.alignment = line.split(': ')[1].strip()\n",
    "                    elif line.startswith('challenge:'):\n",
    "                        self.challenge = parse_string(line)\n",
    "                    elif line.startswith('languages:'):\n",
    "                        self.languages = line.split(': ')[1].strip()\n",
    "                    elif line.startswith('skills:'):\n",
    "                        self.skills = line.split(': ')[1].strip()\n",
    "                    elif line.startswith('speed:'):\n",
    "                        self.speed = parse_line(line)\n",
    "                    elif line.startswith('hit_points:'):\n",
    "                        self.hit_points = parse_first_quote(line)\n",
    "                    elif line.startswith('armor_class:'):\n",
    "                        self.armor_class = parse_first_quote(line)\n",
    "                    elif line.startswith('page_number:'):\n",
    "                        self.page_number = parse_first_val(line)\n",
    "                    elif line.startswith('senses:'):\n",
    "                        self.senses = parse_line(line)\n",
    "                    elif line.startswith('damage_resistances:'):\n",
    "                        self.damage_resistances = map_immunities(parse_line(line))\n",
    "                    elif line.startswith('layout:'):\n",
    "                        pass\n",
    "                    elif line.startswith('saving_throws:'):\n",
    "                        self.saving_throws = parse_line(line)\n",
    "                    elif line.startswith('damage_immunities:'):\n",
    "                        self.damage_immunities = map_immunities(parse_line(line))\n",
    "                    elif line.startswith('condition_immunities:'):\n",
    "                        self.condition_immunities = map_condition_immunities(parse_line(line))\n",
    "                    elif line.startswith('damage_vulnerabilities:') or line.startswith('damage_vulnerabilites:'):\n",
    "                        self.damage_vulnerabilities = map_immunities(parse_line(line))\n",
    "\n",
    "                        \n",
    "                    else:\n",
    "                        print(f'{self.name} Unparsed line: {line}')\n",
    "                except:\n",
    "                    print('error', line)\n",
    "                    \n",
    "                    print(self)\n",
    "\n",
    "    def __str__(self):\n",
    "        return str(vars(self))\n",
    "    \n",
    "\n",
    "    #look through all md files in the creatures directory reading each in\n",
    "#and parsing the data into a pandas dataframe\n",
    "import os\n",
    "\n",
    "\n",
    "\n",
    "def read_creatures():\n",
    "    creatures = []\n",
    "    for filename in os.listdir('creatures'):\n",
    "        if filename.endswith('.md'):\n",
    "            with open('creatures/' + filename, 'r') as f:\n",
    "                creature = Creature(f.readlines())\n",
    "                creatures.append(creature)\n",
    "                \n",
    "    return creatures\n",
    "\n",
    "creatures = read_creatures()\n",
    "\n",
    "#Create a pandas dataframe from the creatures\n",
    "df = pd.DataFrame([c.__dict__ for c in creatures])\n",
    "\n",
    "import re\n",
    "level_regex = re.compile('(\\d+) .+')\n",
    "fractionlevel_regex = re.compile('(\\d+)/(\\d+) .+')\n",
    "def parse_level(value):\n",
    "    level_match = level_regex.match(value)\n",
    "    if level_match:\n",
    "        return float(level_match.group(1))\n",
    "    else:\n",
    "        fraction_match = fractionlevel_regex.match(value)\n",
    "        if fraction_match:\n",
    "            numerator = float(fraction_match.group(1))\n",
    "            denominator = float(fraction_match.group(2))\n",
    "            return numerator / denominator\n",
    "    return np.nan\n",
    "\n",
    "df['challenge_level'] = df.challenge.astype(str).apply(parse_level)\n",
    "\n",
    "# get all the unique tags in a column of a dataframe that is a list\n",
    "def get_tags(df, column):\n",
    "    tags = set()\n",
    "    for tag_list in df[column].dropna():\n",
    "        tags.update(tag_list)\n",
    "    return tags\n",
    "\n",
    "#turn a list of values into a dataframe of boolean values\n",
    "# and the values are in the column\n",
    "def list_to_df(df, column, in_place=False):\n",
    "    if not in_place:\n",
    "        df = df.copy()\n",
    "    values = get_tags(df, column)\n",
    "    for value in values:\n",
    "        df[f'{column}_{value}'] = df[column].apply(lambda x: value in x if type(x) == list else False)\n",
    "    return df\n",
    "\n",
    "df = list_to_df(df, 'damage_immunities')\n",
    "df = list_to_df(df, 'damage_resistances')\n",
    "df = list_to_df(df, 'damage_vulnerabilities')\n",
    "df = list_to_df(df, 'condition_immunities')\n",
    "\n",
    "df.head()\n"
   ]
  },
  {
   "cell_type": "code",
   "execution_count": 44,
   "metadata": {},
   "outputs": [
    {
     "data": {
      "text/plain": [
       "0       False\n",
       "1       False\n",
       "2       False\n",
       "3       False\n",
       "4        True\n",
       "        ...  \n",
       "1929    False\n",
       "1930    False\n",
       "1931    False\n",
       "1932    False\n",
       "1933    False\n",
       "Name: damage_immunities_bludgeoning, Length: 1934, dtype: bool"
      ]
     },
     "execution_count": 44,
     "metadata": {},
     "output_type": "execute_result"
    }
   ],
   "source": [
    "df.damage_immunities_bludgeoning"
   ]
  },
  {
   "cell_type": "code",
   "execution_count": 75,
   "metadata": {},
   "outputs": [
    {
     "data": {
      "text/plain": [
       "MultiIndex([(False, False),\n",
       "            (False,  True),\n",
       "            ( True, False),\n",
       "            ( True,  True)],\n",
       "           names=['damage_resistances_bludgeoning', 'damage_immunities_bludgeoning'])"
      ]
     },
     "execution_count": 75,
     "metadata": {},
     "output_type": "execute_result"
    }
   ],
   "source": [
    "p_df.columns"
   ]
  },
  {
   "cell_type": "code",
   "execution_count": 79,
   "metadata": {},
   "outputs": [
    {
     "data": {
      "text/plain": [
       "Text(0.5, 1.0, 'Bludgeoning Resistance and Immunity by Challenge Level')"
      ]
     },
     "execution_count": 79,
     "metadata": {},
     "output_type": "execute_result"
    },
    {
     "data": {
      "image/png": "[encoded data removed]",
      "text/plain": [
       "<Figure size 640x480 with 1 Axes>"
      ]
     },
     "metadata": {},
     "output_type": "display_data"
    }
   ],
   "source": [
    "pivot_cols = ['challenge_level', 'damage_resistances_bludgeoning', 'damage_immunities_bludgeoning']\n",
    "p_df = pd.DataFrame(df.groupby(pivot_cols).name.count()).pivot_table(index=pivot_cols[0], columns=pivot_cols[1:], values='name', fill_value=0)\n",
    "p_df = p_df[p_df[( True,  True)] == False]\n",
    "p_df.columns = ['No Resistance', 'Bludgeoning Immunity', 'Bludgeoning Resistance', 'Both']\n",
    "p_df.plot(kind='bar', stacked=True)\n",
    "plt.title('Bludgeoning Resistance and Immunity by Challenge Level')"
   ]
  },
  {
   "cell_type": "code",
   "execution_count": 80,
   "metadata": {},
   "outputs": [
    {
     "data": {
      "text/html": [
       "<div>\n",
       "<style scoped>\n",
       "    .dataframe tbody tr th:only-of-type {\n",
       "        vertical-align: middle;\n",
       "    }\n",
       "\n",
       "    .dataframe tbody tr th {\n",
       "        vertical-align: top;\n",
       "    }\n",
       "\n",
       "    .dataframe thead th {\n",
       "        text-align: right;\n",
       "    }\n",
       "</style>\n",
       "<table border=\"1\" class=\"dataframe\">\n",
       "  <thead>\n",
       "    <tr style=\"text-align: right;\">\n",
       "      <th></th>\n",
       "      <th>No Resistance</th>\n",
       "      <th>Bludgeoning Immunity</th>\n",
       "      <th>Bludgeoning Resistance</th>\n",
       "      <th>Both</th>\n",
       "      <th>percent_immune</th>\n",
       "      <th>percent_resistant</th>\n",
       "      <th>percent_no_resistance</th>\n",
       "    </tr>\n",
       "    <tr>\n",
       "      <th>challenge_level</th>\n",
       "      <th></th>\n",
       "      <th></th>\n",
       "      <th></th>\n",
       "      <th></th>\n",
       "      <th></th>\n",
       "      <th></th>\n",
       "      <th></th>\n",
       "    </tr>\n",
       "  </thead>\n",
       "  <tbody>\n",
       "    <tr>\n",
       "      <th>0.000</th>\n",
       "      <td>56.0</td>\n",
       "      <td>0.0</td>\n",
       "      <td>1.0</td>\n",
       "      <td>0.0</td>\n",
       "      <td>0.000000</td>\n",
       "      <td>0.017544</td>\n",
       "      <td>0.982456</td>\n",
       "    </tr>\n",
       "    <tr>\n",
       "      <th>0.125</th>\n",
       "      <td>42.0</td>\n",
       "      <td>0.0</td>\n",
       "      <td>1.0</td>\n",
       "      <td>0.0</td>\n",
       "      <td>0.000000</td>\n",
       "      <td>0.023256</td>\n",
       "      <td>0.976744</td>\n",
       "    </tr>\n",
       "    <tr>\n",
       "      <th>0.250</th>\n",
       "      <td>107.0</td>\n",
       "      <td>0.0</td>\n",
       "      <td>4.0</td>\n",
       "      <td>0.0</td>\n",
       "      <td>0.000000</td>\n",
       "      <td>0.036036</td>\n",
       "      <td>0.963964</td>\n",
       "    </tr>\n",
       "    <tr>\n",
       "      <th>0.500</th>\n",
       "      <td>107.0</td>\n",
       "      <td>1.0</td>\n",
       "      <td>11.0</td>\n",
       "      <td>0.0</td>\n",
       "      <td>0.008403</td>\n",
       "      <td>0.092437</td>\n",
       "      <td>0.899160</td>\n",
       "    </tr>\n",
       "    <tr>\n",
       "      <th>2.000</th>\n",
       "      <td>181.0</td>\n",
       "      <td>4.0</td>\n",
       "      <td>26.0</td>\n",
       "      <td>0.0</td>\n",
       "      <td>0.018957</td>\n",
       "      <td>0.123223</td>\n",
       "      <td>0.857820</td>\n",
       "    </tr>\n",
       "    <tr>\n",
       "      <th>3.000</th>\n",
       "      <td>141.0</td>\n",
       "      <td>5.0</td>\n",
       "      <td>30.0</td>\n",
       "      <td>0.0</td>\n",
       "      <td>0.028409</td>\n",
       "      <td>0.170455</td>\n",
       "      <td>0.801136</td>\n",
       "    </tr>\n",
       "    <tr>\n",
       "      <th>4.000</th>\n",
       "      <td>90.0</td>\n",
       "      <td>7.0</td>\n",
       "      <td>33.0</td>\n",
       "      <td>0.0</td>\n",
       "      <td>0.053846</td>\n",
       "      <td>0.253846</td>\n",
       "      <td>0.692308</td>\n",
       "    </tr>\n",
       "    <tr>\n",
       "      <th>5.000</th>\n",
       "      <td>120.0</td>\n",
       "      <td>5.0</td>\n",
       "      <td>45.0</td>\n",
       "      <td>0.0</td>\n",
       "      <td>0.029412</td>\n",
       "      <td>0.264706</td>\n",
       "      <td>0.705882</td>\n",
       "    </tr>\n",
       "    <tr>\n",
       "      <th>6.000</th>\n",
       "      <td>62.0</td>\n",
       "      <td>2.0</td>\n",
       "      <td>35.0</td>\n",
       "      <td>0.0</td>\n",
       "      <td>0.020202</td>\n",
       "      <td>0.353535</td>\n",
       "      <td>0.626263</td>\n",
       "    </tr>\n",
       "    <tr>\n",
       "      <th>7.000</th>\n",
       "      <td>60.0</td>\n",
       "      <td>3.0</td>\n",
       "      <td>35.0</td>\n",
       "      <td>0.0</td>\n",
       "      <td>0.030612</td>\n",
       "      <td>0.357143</td>\n",
       "      <td>0.612245</td>\n",
       "    </tr>\n",
       "    <tr>\n",
       "      <th>8.000</th>\n",
       "      <td>46.0</td>\n",
       "      <td>7.0</td>\n",
       "      <td>24.0</td>\n",
       "      <td>0.0</td>\n",
       "      <td>0.090909</td>\n",
       "      <td>0.311688</td>\n",
       "      <td>0.597403</td>\n",
       "    </tr>\n",
       "    <tr>\n",
       "      <th>9.000</th>\n",
       "      <td>55.0</td>\n",
       "      <td>4.0</td>\n",
       "      <td>22.0</td>\n",
       "      <td>0.0</td>\n",
       "      <td>0.049383</td>\n",
       "      <td>0.271605</td>\n",
       "      <td>0.679012</td>\n",
       "    </tr>\n",
       "    <tr>\n",
       "      <th>10.000</th>\n",
       "      <td>28.0</td>\n",
       "      <td>4.0</td>\n",
       "      <td>27.0</td>\n",
       "      <td>0.0</td>\n",
       "      <td>0.067797</td>\n",
       "      <td>0.457627</td>\n",
       "      <td>0.474576</td>\n",
       "    </tr>\n",
       "    <tr>\n",
       "      <th>11.000</th>\n",
       "      <td>23.0</td>\n",
       "      <td>4.0</td>\n",
       "      <td>24.0</td>\n",
       "      <td>0.0</td>\n",
       "      <td>0.078431</td>\n",
       "      <td>0.470588</td>\n",
       "      <td>0.450980</td>\n",
       "    </tr>\n",
       "    <tr>\n",
       "      <th>13.000</th>\n",
       "      <td>15.0</td>\n",
       "      <td>6.0</td>\n",
       "      <td>17.0</td>\n",
       "      <td>0.0</td>\n",
       "      <td>0.157895</td>\n",
       "      <td>0.447368</td>\n",
       "      <td>0.394737</td>\n",
       "    </tr>\n",
       "    <tr>\n",
       "      <th>14.000</th>\n",
       "      <td>15.0</td>\n",
       "      <td>4.0</td>\n",
       "      <td>7.0</td>\n",
       "      <td>0.0</td>\n",
       "      <td>0.153846</td>\n",
       "      <td>0.269231</td>\n",
       "      <td>0.576923</td>\n",
       "    </tr>\n",
       "    <tr>\n",
       "      <th>15.000</th>\n",
       "      <td>9.0</td>\n",
       "      <td>3.0</td>\n",
       "      <td>12.0</td>\n",
       "      <td>0.0</td>\n",
       "      <td>0.125000</td>\n",
       "      <td>0.500000</td>\n",
       "      <td>0.375000</td>\n",
       "    </tr>\n",
       "    <tr>\n",
       "      <th>16.000</th>\n",
       "      <td>7.0</td>\n",
       "      <td>2.0</td>\n",
       "      <td>14.0</td>\n",
       "      <td>0.0</td>\n",
       "      <td>0.086957</td>\n",
       "      <td>0.608696</td>\n",
       "      <td>0.304348</td>\n",
       "    </tr>\n",
       "    <tr>\n",
       "      <th>19.000</th>\n",
       "      <td>1.0</td>\n",
       "      <td>1.0</td>\n",
       "      <td>6.0</td>\n",
       "      <td>0.0</td>\n",
       "      <td>0.125000</td>\n",
       "      <td>0.750000</td>\n",
       "      <td>0.125000</td>\n",
       "    </tr>\n",
       "    <tr>\n",
       "      <th>20.000</th>\n",
       "      <td>6.0</td>\n",
       "      <td>3.0</td>\n",
       "      <td>5.0</td>\n",
       "      <td>0.0</td>\n",
       "      <td>0.214286</td>\n",
       "      <td>0.357143</td>\n",
       "      <td>0.428571</td>\n",
       "    </tr>\n",
       "    <tr>\n",
       "      <th>21.000</th>\n",
       "      <td>6.0</td>\n",
       "      <td>4.0</td>\n",
       "      <td>9.0</td>\n",
       "      <td>0.0</td>\n",
       "      <td>0.210526</td>\n",
       "      <td>0.473684</td>\n",
       "      <td>0.315789</td>\n",
       "    </tr>\n",
       "    <tr>\n",
       "      <th>22.000</th>\n",
       "      <td>4.0</td>\n",
       "      <td>2.0</td>\n",
       "      <td>9.0</td>\n",
       "      <td>0.0</td>\n",
       "      <td>0.133333</td>\n",
       "      <td>0.600000</td>\n",
       "      <td>0.266667</td>\n",
       "    </tr>\n",
       "    <tr>\n",
       "      <th>23.000</th>\n",
       "      <td>4.0</td>\n",
       "      <td>8.0</td>\n",
       "      <td>5.0</td>\n",
       "      <td>0.0</td>\n",
       "      <td>0.470588</td>\n",
       "      <td>0.294118</td>\n",
       "      <td>0.235294</td>\n",
       "    </tr>\n",
       "    <tr>\n",
       "      <th>24.000</th>\n",
       "      <td>4.0</td>\n",
       "      <td>4.0</td>\n",
       "      <td>3.0</td>\n",
       "      <td>0.0</td>\n",
       "      <td>0.363636</td>\n",
       "      <td>0.272727</td>\n",
       "      <td>0.363636</td>\n",
       "    </tr>\n",
       "    <tr>\n",
       "      <th>25.000</th>\n",
       "      <td>0.0</td>\n",
       "      <td>1.0</td>\n",
       "      <td>1.0</td>\n",
       "      <td>0.0</td>\n",
       "      <td>0.500000</td>\n",
       "      <td>0.500000</td>\n",
       "      <td>0.000000</td>\n",
       "    </tr>\n",
       "    <tr>\n",
       "      <th>26.000</th>\n",
       "      <td>0.0</td>\n",
       "      <td>3.0</td>\n",
       "      <td>3.0</td>\n",
       "      <td>0.0</td>\n",
       "      <td>0.500000</td>\n",
       "      <td>0.500000</td>\n",
       "      <td>0.000000</td>\n",
       "    </tr>\n",
       "    <tr>\n",
       "      <th>27.000</th>\n",
       "      <td>0.0</td>\n",
       "      <td>2.0</td>\n",
       "      <td>0.0</td>\n",
       "      <td>0.0</td>\n",
       "      <td>1.000000</td>\n",
       "      <td>0.000000</td>\n",
       "      <td>0.000000</td>\n",
       "    </tr>\n",
       "    <tr>\n",
       "      <th>30.000</th>\n",
       "      <td>0.0</td>\n",
       "      <td>9.0</td>\n",
       "      <td>4.0</td>\n",
       "      <td>0.0</td>\n",
       "      <td>0.692308</td>\n",
       "      <td>0.307692</td>\n",
       "      <td>0.000000</td>\n",
       "    </tr>\n",
       "    <tr>\n",
       "      <th>35.000</th>\n",
       "      <td>0.0</td>\n",
       "      <td>2.0</td>\n",
       "      <td>0.0</td>\n",
       "      <td>0.0</td>\n",
       "      <td>1.000000</td>\n",
       "      <td>0.000000</td>\n",
       "      <td>0.000000</td>\n",
       "    </tr>\n",
       "  </tbody>\n",
       "</table>\n",
       "</div>"
      ],
      "text/plain": [
       "                 No Resistance  Bludgeoning Immunity  Bludgeoning Resistance  \\\n",
       "challenge_level                                                                \n",
       "0.000                     56.0                   0.0                     1.0   \n",
       "0.125                     42.0                   0.0                     1.0   \n",
       "0.250                    107.0                   0.0                     4.0   \n",
       "0.500                    107.0                   1.0                    11.0   \n",
       "2.000                    181.0                   4.0                    26.0   \n",
       "3.000                    141.0                   5.0                    30.0   \n",
       "4.000                     90.0                   7.0                    33.0   \n",
       "5.000                    120.0                   5.0                    45.0   \n",
       "6.000                     62.0                   2.0                    35.0   \n",
       "7.000                     60.0                   3.0                    35.0   \n",
       "8.000                     46.0                   7.0                    24.0   \n",
       "9.000                     55.0                   4.0                    22.0   \n",
       "10.000                    28.0                   4.0                    27.0   \n",
       "11.000                    23.0                   4.0                    24.0   \n",
       "13.000                    15.0                   6.0                    17.0   \n",
       "14.000                    15.0                   4.0                     7.0   \n",
       "15.000                     9.0                   3.0                    12.0   \n",
       "16.000                     7.0                   2.0                    14.0   \n",
       "19.000                     1.0                   1.0                     6.0   \n",
       "20.000                     6.0                   3.0                     5.0   \n",
       "21.000                     6.0                   4.0                     9.0   \n",
       "22.000                     4.0                   2.0                     9.0   \n",
       "23.000                     4.0                   8.0                     5.0   \n",
       "24.000                     4.0                   4.0                     3.0   \n",
       "25.000                     0.0                   1.0                     1.0   \n",
       "26.000                     0.0                   3.0                     3.0   \n",
       "27.000                     0.0                   2.0                     0.0   \n",
       "30.000                     0.0                   9.0                     4.0   \n",
       "35.000                     0.0                   2.0                     0.0   \n",
       "\n",
       "                 Both  percent_immune  percent_resistant  \\\n",
       "challenge_level                                            \n",
       "0.000             0.0        0.000000           0.017544   \n",
       "0.125             0.0        0.000000           0.023256   \n",
       "0.250             0.0        0.000000           0.036036   \n",
       "0.500             0.0        0.008403           0.092437   \n",
       "2.000             0.0        0.018957           0.123223   \n",
       "3.000             0.0        0.028409           0.170455   \n",
       "4.000             0.0        0.053846           0.253846   \n",
       "5.000             0.0        0.029412           0.264706   \n",
       "6.000             0.0        0.020202           0.353535   \n",
       "7.000             0.0        0.030612           0.357143   \n",
       "8.000             0.0        0.090909           0.311688   \n",
       "9.000             0.0        0.049383           0.271605   \n",
       "10.000            0.0        0.067797           0.457627   \n",
       "11.000            0.0        0.078431           0.470588   \n",
       "13.000            0.0        0.157895           0.447368   \n",
       "14.000            0.0        0.153846           0.269231   \n",
       "15.000            0.0        0.125000           0.500000   \n",
       "16.000            0.0        0.086957           0.608696   \n",
       "19.000            0.0        0.125000           0.750000   \n",
       "20.000            0.0        0.214286           0.357143   \n",
       "21.000            0.0        0.210526           0.473684   \n",
       "22.000            0.0        0.133333           0.600000   \n",
       "23.000            0.0        0.470588           0.294118   \n",
       "24.000            0.0        0.363636           0.272727   \n",
       "25.000            0.0        0.500000           0.500000   \n",
       "26.000            0.0        0.500000           0.500000   \n",
       "27.000            0.0        1.000000           0.000000   \n",
       "30.000            0.0        0.692308           0.307692   \n",
       "35.000            0.0        1.000000           0.000000   \n",
       "\n",
       "                 percent_no_resistance  \n",
       "challenge_level                         \n",
       "0.000                         0.982456  \n",
       "0.125                         0.976744  \n",
       "0.250                         0.963964  \n",
       "0.500                         0.899160  \n",
       "2.000                         0.857820  \n",
       "3.000                         0.801136  \n",
       "4.000                         0.692308  \n",
       "5.000                         0.705882  \n",
       "6.000                         0.626263  \n",
       "7.000                         0.612245  \n",
       "8.000                         0.597403  \n",
       "9.000                         0.679012  \n",
       "10.000                        0.474576  \n",
       "11.000                        0.450980  \n",
       "13.000                        0.394737  \n",
       "14.000                        0.576923  \n",
       "15.000                        0.375000  \n",
       "16.000                        0.304348  \n",
       "19.000                        0.125000  \n",
       "20.000                        0.428571  \n",
       "21.000                        0.315789  \n",
       "22.000                        0.266667  \n",
       "23.000                        0.235294  \n",
       "24.000                        0.363636  \n",
       "25.000                        0.000000  \n",
       "26.000                        0.000000  \n",
       "27.000                        0.000000  \n",
       "30.000                        0.000000  \n",
       "35.000                        0.000000  "
      ]
     },
     "execution_count": 80,
     "metadata": {},
     "output_type": "execute_result"
    }
   ],
   "source": [
    "p_df['percent_immune'] = p_df['Bludgeoning Immunity'] / (p_df['Bludgeoning Immunity'] + p_df['Bludgeoning Resistance'] + p_df['No Resistance']) \n",
    "p_df['percent_resistant'] = p_df['Bludgeoning Resistance'] / (p_df['Bludgeoning Immunity'] + p_df['Bludgeoning Resistance'] + p_df['No Resistance'])\n",
    "p_df['percent_no_resistance'] = p_df['No Resistance'] / (p_df['Bludgeoning Immunity'] + p_df['Bludgeoning Resistance'] + p_df['No Resistance'])\n",
    "p_df "
   ]
  },
  {
   "cell_type": "code",
   "execution_count": 3,
   "metadata": {},
   "outputs": [
    {
     "data": {
      "text/html": [
       "<div>\n",
       "<style scoped>\n",
       "    .dataframe tbody tr th:only-of-type {\n",
       "        vertical-align: middle;\n",
       "    }\n",
       "\n",
       "    .dataframe tbody tr th {\n",
       "        vertical-align: top;\n",
       "    }\n",
       "\n",
       "    .dataframe thead th {\n",
       "        text-align: right;\n",
       "    }\n",
       "</style>\n",
       "<table border=\"1\" class=\"dataframe\">\n",
       "  <thead>\n",
       "    <tr style=\"text-align: right;\">\n",
       "      <th></th>\n",
       "      <th>Level_CR</th>\n",
       "      <th>Abl</th>\n",
       "      <th>Prof</th>\n",
       "      <th>Total</th>\n",
       "      <th>AC</th>\n",
       "      <th>Hit_Pcnt</th>\n",
       "    </tr>\n",
       "  </thead>\n",
       "  <tbody>\n",
       "    <tr>\n",
       "      <th>0</th>\n",
       "      <td>1</td>\n",
       "      <td>3</td>\n",
       "      <td>2</td>\n",
       "      <td>5</td>\n",
       "      <td>13</td>\n",
       "      <td>65</td>\n",
       "    </tr>\n",
       "    <tr>\n",
       "      <th>1</th>\n",
       "      <td>2</td>\n",
       "      <td>3</td>\n",
       "      <td>2</td>\n",
       "      <td>5</td>\n",
       "      <td>13</td>\n",
       "      <td>65</td>\n",
       "    </tr>\n",
       "    <tr>\n",
       "      <th>2</th>\n",
       "      <td>3</td>\n",
       "      <td>3</td>\n",
       "      <td>2</td>\n",
       "      <td>5</td>\n",
       "      <td>13</td>\n",
       "      <td>65</td>\n",
       "    </tr>\n",
       "    <tr>\n",
       "      <th>3</th>\n",
       "      <td>4</td>\n",
       "      <td>4</td>\n",
       "      <td>2</td>\n",
       "      <td>6</td>\n",
       "      <td>14</td>\n",
       "      <td>65</td>\n",
       "    </tr>\n",
       "    <tr>\n",
       "      <th>4</th>\n",
       "      <td>5</td>\n",
       "      <td>4</td>\n",
       "      <td>3</td>\n",
       "      <td>7</td>\n",
       "      <td>15</td>\n",
       "      <td>65</td>\n",
       "    </tr>\n",
       "    <tr>\n",
       "      <th>5</th>\n",
       "      <td>6</td>\n",
       "      <td>4</td>\n",
       "      <td>3</td>\n",
       "      <td>7</td>\n",
       "      <td>15</td>\n",
       "      <td>65</td>\n",
       "    </tr>\n",
       "    <tr>\n",
       "      <th>6</th>\n",
       "      <td>7</td>\n",
       "      <td>4</td>\n",
       "      <td>3</td>\n",
       "      <td>7</td>\n",
       "      <td>15</td>\n",
       "      <td>65</td>\n",
       "    </tr>\n",
       "    <tr>\n",
       "      <th>7</th>\n",
       "      <td>8</td>\n",
       "      <td>5</td>\n",
       "      <td>3</td>\n",
       "      <td>8</td>\n",
       "      <td>16</td>\n",
       "      <td>65</td>\n",
       "    </tr>\n",
       "    <tr>\n",
       "      <th>8</th>\n",
       "      <td>9</td>\n",
       "      <td>5</td>\n",
       "      <td>4</td>\n",
       "      <td>9</td>\n",
       "      <td>16</td>\n",
       "      <td>70</td>\n",
       "    </tr>\n",
       "    <tr>\n",
       "      <th>9</th>\n",
       "      <td>10</td>\n",
       "      <td>5</td>\n",
       "      <td>4</td>\n",
       "      <td>9</td>\n",
       "      <td>17</td>\n",
       "      <td>65</td>\n",
       "    </tr>\n",
       "    <tr>\n",
       "      <th>10</th>\n",
       "      <td>11</td>\n",
       "      <td>5</td>\n",
       "      <td>4</td>\n",
       "      <td>9</td>\n",
       "      <td>17</td>\n",
       "      <td>65</td>\n",
       "    </tr>\n",
       "    <tr>\n",
       "      <th>11</th>\n",
       "      <td>12</td>\n",
       "      <td>5</td>\n",
       "      <td>4</td>\n",
       "      <td>9</td>\n",
       "      <td>17</td>\n",
       "      <td>65</td>\n",
       "    </tr>\n",
       "    <tr>\n",
       "      <th>12</th>\n",
       "      <td>13</td>\n",
       "      <td>5</td>\n",
       "      <td>5</td>\n",
       "      <td>10</td>\n",
       "      <td>18</td>\n",
       "      <td>65</td>\n",
       "    </tr>\n",
       "    <tr>\n",
       "      <th>13</th>\n",
       "      <td>14</td>\n",
       "      <td>5</td>\n",
       "      <td>5</td>\n",
       "      <td>10</td>\n",
       "      <td>18</td>\n",
       "      <td>65</td>\n",
       "    </tr>\n",
       "    <tr>\n",
       "      <th>14</th>\n",
       "      <td>15</td>\n",
       "      <td>5</td>\n",
       "      <td>5</td>\n",
       "      <td>10</td>\n",
       "      <td>18</td>\n",
       "      <td>65</td>\n",
       "    </tr>\n",
       "    <tr>\n",
       "      <th>15</th>\n",
       "      <td>16</td>\n",
       "      <td>5</td>\n",
       "      <td>5</td>\n",
       "      <td>10</td>\n",
       "      <td>18</td>\n",
       "      <td>65</td>\n",
       "    </tr>\n",
       "    <tr>\n",
       "      <th>16</th>\n",
       "      <td>17</td>\n",
       "      <td>5</td>\n",
       "      <td>6</td>\n",
       "      <td>11</td>\n",
       "      <td>19</td>\n",
       "      <td>65</td>\n",
       "    </tr>\n",
       "    <tr>\n",
       "      <th>17</th>\n",
       "      <td>18</td>\n",
       "      <td>5</td>\n",
       "      <td>6</td>\n",
       "      <td>11</td>\n",
       "      <td>19</td>\n",
       "      <td>65</td>\n",
       "    </tr>\n",
       "    <tr>\n",
       "      <th>18</th>\n",
       "      <td>19</td>\n",
       "      <td>5</td>\n",
       "      <td>6</td>\n",
       "      <td>11</td>\n",
       "      <td>19</td>\n",
       "      <td>65</td>\n",
       "    </tr>\n",
       "    <tr>\n",
       "      <th>19</th>\n",
       "      <td>20</td>\n",
       "      <td>5</td>\n",
       "      <td>6</td>\n",
       "      <td>11</td>\n",
       "      <td>19</td>\n",
       "      <td>65</td>\n",
       "    </tr>\n",
       "  </tbody>\n",
       "</table>\n",
       "</div>"
      ],
      "text/plain": [
       "    Level_CR  Abl  Prof  Total  AC  Hit_Pcnt\n",
       "0          1    3     2      5  13        65\n",
       "1          2    3     2      5  13        65\n",
       "2          3    3     2      5  13        65\n",
       "3          4    4     2      6  14        65\n",
       "4          5    4     3      7  15        65\n",
       "5          6    4     3      7  15        65\n",
       "6          7    4     3      7  15        65\n",
       "7          8    5     3      8  16        65\n",
       "8          9    5     4      9  16        70\n",
       "9         10    5     4      9  17        65\n",
       "10        11    5     4      9  17        65\n",
       "11        12    5     4      9  17        65\n",
       "12        13    5     5     10  18        65\n",
       "13        14    5     5     10  18        65\n",
       "14        15    5     5     10  18        65\n",
       "15        16    5     5     10  18        65\n",
       "16        17    5     6     11  19        65\n",
       "17        18    5     6     11  19        65\n",
       "18        19    5     6     11  19        65\n",
       "19        20    5     6     11  19        65"
      ]
     },
     "execution_count": 3,
     "metadata": {},
     "output_type": "execute_result"
    }
   ],
   "source": [
    "dnd.fundamental_math()"
   ]
  },
  {
   "cell_type": "code",
   "execution_count": 33,
   "metadata": {},
   "outputs": [
    {
     "name": "stdout",
     "output_type": "stream",
     "text": [
      "ts smite hw\t\t 49.2027\n"
     ]
    }
   ],
   "source": [
    "level = 10\n",
    "charisma = 4\n",
    "agonizing_blast = charisma\n",
    "proficiency_bonus = dnd.proficency_bonus(level)\n",
    "hex = Dice(1, 6)\n",
    "hex_warrior = proficiency_bonus\n",
    "weapon_damage = Dice(1, 10)\n",
    "weapon_bonus_damage = 3 + charisma + hex_warrior\n",
    "to_hit = 10\n",
    "# get dc\n",
    "ac = dnd.get_AC(level)\n",
    "\n",
    "smite = Dice(2, 8)\n",
    "\n",
    "\n",
    "num_attacks = 3\n",
    "\n",
    "adv = {'advantage':True, 'crit_on':20}\n",
    "\n",
    "print('ts smite hw\\t\\t',\n",
    "    dnd.roll_damage(ac, to_hit, weapon_damage, \n",
    "    bonus_damage=weapon_bonus_damage , **adv\n",
    "    , crit_added_damage_dice=smite\n",
    ").mean()*num_attacks)\n",
    "\n"
   ]
  },
  {
   "cell_type": "code",
   "execution_count": 31,
   "metadata": {},
   "outputs": [
    {
     "name": "stdout",
     "output_type": "stream",
     "text": [
      "ts smite hw\t\t 55.0791\n"
     ]
    }
   ],
   "source": [
    "level = 10\n",
    "charisma = 3\n",
    "agonizing_blast = charisma\n",
    "proficiency_bonus = dnd.proficency_bonus(level)\n",
    "hex = Dice(1, 6)\n",
    "hex_warrior = proficiency_bonus\n",
    "weapon_damage = Dice(1, 10)\n",
    "weapon_bonus_damage = 3 + charisma + charisma + hex_warrior\n",
    "to_hit = 10\n",
    "# get dc\n",
    "ac = dnd.get_AC(level)\n",
    "\n",
    "smite = Dice(2, 8)\n",
    "\n",
    "\n",
    "num_attacks = 3\n",
    "\n",
    "adv = {'advantage':True, 'crit_on':20}\n",
    "\n",
    "\n",
    "print('ts smite hw\\t\\t',\n",
    "    dnd.roll_damage(ac, to_hit, weapon_damage, \n",
    "    bonus_damage=weapon_bonus_damage , **adv\n",
    "    , crit_added_damage_dice=smite\n",
    ").mean()*num_attacks)\n",
    "\n"
   ]
  },
  {
   "cell_type": "code",
   "execution_count": 33,
   "metadata": {},
   "outputs": [
    {
     "data": {
      "text/plain": [
       "27.0"
      ]
     },
     "execution_count": 33,
     "metadata": {},
     "output_type": "execute_result"
    }
   ],
   "source": [
    "Dice(2,8).expectation()*3"
   ]
  },
  {
   "cell_type": "code",
   "execution_count": 34,
   "metadata": {},
   "outputs": [
    {
     "data": {
      "text/plain": [
       "67.5"
      ]
     },
     "execution_count": 34,
     "metadata": {},
     "output_type": "execute_result"
    }
   ],
   "source": [
    "Dice(5,8).expectation()*3"
   ]
  },
  {
   "cell_type": "code",
   "execution_count": 45,
   "metadata": {},
   "outputs": [
    {
     "data": {
      "text/plain": [
       "3.5"
      ]
     },
     "execution_count": 45,
     "metadata": {},
     "output_type": "execute_result"
    }
   ],
   "source": [
    "Dice(1,6).expectation()"
   ]
  },
  {
   "cell_type": "code",
   "execution_count": 48,
   "metadata": {},
   "outputs": [
    {
     "name": "stdout",
     "output_type": "stream",
     "text": [
      "sele attack \t 28.732\n",
      "sele single attack \t 146.376\n"
     ]
    }
   ],
   "source": [
    "num_melee_skeletons = 4\n",
    "num_ranged_skeletons = 5*2*8\n",
    "\n",
    "print('sele attack \\t',\n",
    "    (dnd.roll_damage(20, 4+3, Dice(1, 6), \n",
    "    bonus_damage=3+5 \n",
    ").mean() + dnd.roll_damage(20, 0+3, Dice(1, 6), \n",
    "    bonus_damage=3+5 \n",
    ").mean())*num_melee_skeletons)\n",
    "\n",
    "print('sele single attack \\t',\n",
    "    dnd.roll_damage(20, 4, Dice(1, 6), \n",
    "    bonus_damage=3, crit_on=20\n",
    ").mean()*num_ranged_skeletons)"
   ]
  },
  {
   "cell_type": "code",
   "execution_count": 53,
   "metadata": {},
   "outputs": [
    {
     "name": "stdout",
     "output_type": "stream",
     "text": [
      "eb \t\t\t 41.0\n",
      "eb cast hex warrior\t 47.3292\n"
     ]
    },
    {
     "ename": "TypeError",
     "evalue": "unsupported operand type(s) for +: 'NoneType' and 'int'",
     "output_type": "error",
     "traceback": [
      "\u001b[0;31m---------------------------------------------------------------------------\u001b[0m",
      "\u001b[0;31mTypeError\u001b[0m                                 Traceback (most recent call last)",
      "Cell \u001b[0;32mIn[53], line 27\u001b[0m\n\u001b[1;32m     24\u001b[0m \u001b[38;5;28mprint\u001b[39m(\u001b[38;5;124m'\u001b[39m\u001b[38;5;124meb cast hex warrior\u001b[39m\u001b[38;5;130;01m\\t\u001b[39;00m\u001b[38;5;124m'\u001b[39m, dnd\u001b[38;5;241m.\u001b[39mroll_damage(\u001b[38;5;241m20\u001b[39m, \u001b[38;5;241m13\u001b[39m, eldritch_blast, bonus_damage\u001b[38;5;241m=\u001b[39magonizing_blast\u001b[38;5;241m+\u001b[39mhex_warrior, \u001b[38;5;241m*\u001b[39m\u001b[38;5;241m*\u001b[39madv)\u001b[38;5;241m.\u001b[39mmean()\u001b[38;5;241m*\u001b[39mnum_eb)\n\u001b[1;32m     25\u001b[0m \u001b[38;5;66;03m#print('eb double up after hw\\t', dnd.roll_damage(20, 13, eldritch_blast, bonus_damage=agonizing_blast+hex_warrior, **adv).mean()*num_eb*2)\u001b[39;00m\n\u001b[0;32m---> 27\u001b[0m \u001b[38;5;28mprint\u001b[39m(\u001b[38;5;124m'\u001b[39m\u001b[38;5;124meb cast hex, hw\u001b[39m\u001b[38;5;130;01m\\t\u001b[39;00m\u001b[38;5;130;01m\\t\u001b[39;00m\u001b[38;5;124m'\u001b[39m, dnd\u001b[38;5;241m.\u001b[39mroll_damage(\u001b[38;5;241m20\u001b[39m, \u001b[38;5;241m13\u001b[39m, eldritch_blast, bonus_damage\u001b[38;5;241m=\u001b[39magonizing_blast\u001b[38;5;241m+\u001b[39m\u001b[38;5;28mhex\u001b[39m\u001b[38;5;241m+\u001b[39mhex_warrior, \u001b[38;5;241m*\u001b[39m\u001b[38;5;241m*\u001b[39madv)\u001b[38;5;241m.\u001b[39mmean()\u001b[38;5;241m*\u001b[39mnum_eb)\n\u001b[1;32m     28\u001b[0m \u001b[38;5;66;03m#print('eb loaded\\t\\t', dnd.roll_damage(20, 13, eldritch_blast, bonus_damage=agonizing_blast+hex+hex_warrior, **adv).mean()*num_eb*2)\u001b[39;00m\n\u001b[1;32m     30\u001b[0m \u001b[38;5;28mprint\u001b[39m(\u001b[38;5;124m'\u001b[39m\u001b[38;5;124meb cast hex\u001b[39m\u001b[38;5;130;01m\\t\u001b[39;00m\u001b[38;5;130;01m\\t\u001b[39;00m\u001b[38;5;124m'\u001b[39m, dnd\u001b[38;5;241m.\u001b[39mroll_damage(\u001b[38;5;241m20\u001b[39m, \u001b[38;5;241m13\u001b[39m, eldritch_blast, bonus_damage\u001b[38;5;241m=\u001b[39magonizing_blast\u001b[38;5;241m+\u001b[39m\u001b[38;5;28mhex\u001b[39m, \u001b[38;5;241m*\u001b[39m\u001b[38;5;241m*\u001b[39madv)\u001b[38;5;241m.\u001b[39mmean()\u001b[38;5;241m*\u001b[39mnum_eb)\n",
      "\u001b[0;31mTypeError\u001b[0m: unsupported operand type(s) for +: 'NoneType' and 'int'"
     ]
    }
   ],
   "source": [
    "level = 20\n",
    "charisma = 5\n",
    "agonizing_blast = charisma\n",
    "proficiency_bonus = dnd.proficency_bonus(level)\n",
    "hex = Dice(1, 6)\n",
    "hex_warrior = proficiency_bonus\n",
    "weapon_damage = Dice(1, 10)\n",
    "weapon_bonus_damage = 3 + charisma + charisma\n",
    "\n",
    "smite = Dice(5, 8)\n",
    "eldritch_smite = Dice(5, 8)\n",
    "\n",
    "\n",
    "eldritch_blast = Dice(1, 10)\n",
    "\n",
    "num_attacks = 3\n",
    "num_eb = 4\n",
    "\n",
    "adv = {'advantage':False, 'crit_on':20}\n",
    "total_wepon_damange = weapon_damage + weapon_bonus_damage\n",
    "\n",
    "print('eb \\t\\t\\t', dnd.roll_damage(20, 13, eldritch_blast+hex, bonus_damage=agonizing_blast).mean()*num_eb)\n",
    "#print('eb double up\\t\\t', dnd.roll_damage(20, 13, eldritch_blast, bonus_damage=agonizing_blast).mean()*num_eb*2)\n",
    "print('eb cast hex warrior\\t', dnd.roll_damage(20, 13, eldritch_blast, bonus_damage=agonizing_blast+hex_warrior, **adv).mean()*num_eb)\n",
    "#print('eb double up after hw\\t', dnd.roll_damage(20, 13, eldritch_blast, bonus_damage=agonizing_blast+hex_warrior, **adv).mean()*num_eb*2)\n",
    "\n",
    "print('eb cast hex, hw\\t\\t', dnd.roll_damage(20, 13, eldritch_blast, bonus_damage=agonizing_blast+hex+hex_warrior, **adv).mean()*num_eb)\n",
    "#print('eb loaded\\t\\t', dnd.roll_damage(20, 13, eldritch_blast, bonus_damage=agonizing_blast+hex+hex_warrior, **adv).mean()*num_eb*2)\n",
    "\n",
    "print('eb cast hex\\t\\t', dnd.roll_damage(20, 13, eldritch_blast, bonus_damage=agonizing_blast+hex, **adv).mean()*num_eb)\n",
    "#print('eb cast hex double up\\t', dnd.roll_damage(20, 13, eldritch_blast, bonus_damage=agonizing_blast+hex, **adv).mean()*num_eb*2)\n",
    "print()\n",
    "\n",
    "print('ts smite hw\\t\\t',\n",
    "    dnd.roll_damage(20, 14, Dice(1, 10)+smite, \n",
    "    bonus_damage=weapon_bonus_damage+hex_warrior, **adv\n",
    ").mean()*num_attacks)\n",
    "\n",
    "print('ts smite eld_smite\\t\\t',\n",
    "    dnd.roll_damage(20, 14, Dice(1, 10)+smite, \n",
    "    bonus_damage=weapon_bonus_damage, **adv\n",
    ").mean()*num_attacks+eldritch_smite.expectation())\n",
    "\n",
    "print('ts smite eld_smite hw\\t\\t',\n",
    "    dnd.roll_damage(20, 14, Dice(1, 10)+smite, \n",
    "    bonus_damage=weapon_bonus_damage+hex_warrior, **adv\n",
    ").mean()*num_attacks+eldritch_smite.expectation())\n",
    "\n",
    "print('ts smite hex\\t\\t',\n",
    "    dnd.roll_damage(20, 14, Dice(1, 10)+smite, \n",
    "    bonus_damage=weapon_bonus_damage+hex, **adv\n",
    ").mean()*num_attacks)\n",
    "\n",
    "\n",
    "print('ts \\t\\t\\t',\n",
    "    dnd.roll_damage(20, 14, Dice(1, 10), \n",
    "    bonus_damage=weapon_bonus_damage, **adv\n",
    ").mean()*num_attacks)\n",
    "\n",
    "print('ts smite sustainable\\t\\t',\n",
    "    dnd.roll_damage(20, 14, Dice(1, 10), \n",
    "    bonus_damage=weapon_bonus_damage+hex, \n",
    "    crit_added_damage_dice=smite+eldritch_smite,\n",
    "    **adv\n",
    ").mean()*num_attacks)\n",
    "\n",
    "print('ts smite hex sustainable\\t\\t',\n",
    "    dnd.roll_damage(20, 14, Dice(1, 10)+Dice(1,6), \n",
    "    bonus_damage=weapon_bonus_damage+hex, \n",
    "    crit_added_damage_dice=smite+eldritch_smite,\n",
    "    **adv\n",
    ").mean()*num_attacks)\n",
    "\n",
    "print('eldritch_smite\\t\\t', eldritch_smite.expectation())\n",
    "\n",
    "print('smite\\t\\t', smite.expectation())\n",
    "\n",
    "print('sele magic stone \\t',\n",
    "    dnd.roll_damage(20, 2+5, Dice(1, 6), \n",
    "    bonus_damage=charisma , **adv\n",
    ").mean())\n",
    "\n",
    "print('sele single attack \\t',\n",
    "    dnd.roll_damage(20, 2+2+1, Dice(1, 6), \n",
    "    bonus_damage=3+5 , **adv\n",
    ").mean())\n"
   ]
  },
  {
   "cell_type": "code",
   "execution_count": 51,
   "metadata": {},
   "outputs": [
    {
     "data": {
      "text/plain": [
       "5.5"
      ]
     },
     "execution_count": 51,
     "metadata": {},
     "output_type": "execute_result"
    }
   ],
   "source": [
    "(Dice(1,6)+Dice(2,1)).expectation()"
   ]
  },
  {
   "cell_type": "code",
   "execution_count": 12,
   "metadata": {},
   "outputs": [
    {
     "name": "stdout",
     "output_type": "stream",
     "text": [
      "sele single attack \t 41.536\n"
     ]
    }
   ],
   "source": [
    "print('sele single attack \\t',\n",
    "    dnd.roll_damage(20, 2+2+1, Dice(1, 6), \n",
    "    bonus_damage=3 \n",
    ").mean()*2*10)"
   ]
  },
  {
   "cell_type": "code",
   "execution_count": 177,
   "metadata": {},
   "outputs": [
    {
     "data": {
      "text/plain": [
       "16"
      ]
     },
     "execution_count": 177,
     "metadata": {},
     "output_type": "execute_result"
    }
   ],
   "source": [
    "def num_skele(level):\n",
    "    return 4+(level-3)*2\n",
    "\n",
    "num_skele(4) * 2 + num_skele(3)\n"
   ]
  },
  {
   "cell_type": "code",
   "execution_count": 119,
   "metadata": {},
   "outputs": [
    {
     "data": {
      "text/plain": [
       "0.0999"
      ]
     },
     "execution_count": 119,
     "metadata": {},
     "output_type": "execute_result"
    }
   ],
   "source": [
    "dnd.spell_save_attack(5+5+Dice(1,4).expectation()+5,19, save_advantage=False).mean()"
   ]
  },
  {
   "cell_type": "code",
   "execution_count": 268,
   "metadata": {},
   "outputs": [
    {
     "data": {
      "text/plain": [
       "36.255"
      ]
     },
     "execution_count": 268,
     "metadata": {},
     "output_type": "execute_result"
    }
   ],
   "source": [
    "weapon_bounus = 1\n",
    "adv = {'advantage':False, 'crit_on':20}\n",
    "\n",
    "dnd.roll_damage(\n",
    "    20,\n",
    "    4+weapon_bounus,\n",
    "    Dice(1,6),\n",
    "    bonus_damage=2+weapon_bounus+5,\n",
    "    **adv\n",
    ").mean()*5*2"
   ]
  },
  {
   "cell_type": "code",
   "execution_count": 277,
   "metadata": {},
   "outputs": [
    {
     "data": {
      "text/plain": [
       "18.5125"
      ]
     },
     "execution_count": 277,
     "metadata": {},
     "output_type": "execute_result"
    }
   ],
   "source": [
    "weapon_bounus = 1\n",
    "adv = {'advantage':False, 'crit_on':20}\n",
    "\n",
    "dnd.roll_damage(\n",
    "    20,\n",
    "    4+weapon_bounus,\n",
    "    Dice(1,6),\n",
    "    bonus_damage=2+weapon_bounus+5,\n",
    "    **adv\n",
    ").mean()*5"
   ]
  },
  {
   "cell_type": "code",
   "execution_count": 106,
   "metadata": {},
   "outputs": [
    {
     "data": {
      "text/plain": [
       "92.94399999999999"
      ]
     },
     "execution_count": 106,
     "metadata": {},
     "output_type": "execute_result"
    }
   ],
   "source": [
    "\n",
    "dnd.roll_damage(20, 4+3, \n",
    "    Dice(1,6) + Dice(1,6), \n",
    "    bonus_damage=2+3+10, **adv\n",
    ").mean()*10"
   ]
  },
  {
   "cell_type": "code",
   "execution_count": 59,
   "metadata": {},
   "outputs": [
    {
     "data": {
      "text/plain": [
       "31.091598309719114"
      ]
     },
     "execution_count": 59,
     "metadata": {},
     "output_type": "execute_result"
    }
   ],
   "source": [
    "pally_attack[pally_attack>0].mean()"
   ]
  },
  {
   "cell_type": "code",
   "execution_count": 282,
   "metadata": {},
   "outputs": [
    {
     "name": "stdout",
     "output_type": "stream",
     "text": [
      "Chace to be hit 0.651\n",
      "Wisdom saving throw failure: 0.3091\n",
      "Dex saving throw failure: 0.659\n",
      "Chance to hit: 0.8025\n",
      "Damage for first round: 40.3118\n",
      "Damage for second round: 57.9459\n"
     ]
    }
   ],
   "source": [
    "level = 20\n",
    "charisma = 5\n",
    "strength = 2\n",
    "ability_score = charisma\n",
    "melee_weapon = Dice(1,10) \n",
    "extra_dice = Dice(1,6) \n",
    "weapon_bonus = 3\n",
    "bonus_damage = 2*charisma + weapon_bonus #+ dnd.proficency_bonus(level)\n",
    "smite = Dice(4,8)+Dice(5,8)\n",
    "to_hit = dnd.proficency_bonus(level) + ability_score + weapon_bonus\n",
    "adv = {'advantage':False, 'crit_on':20}\n",
    "\n",
    "enemy_ac = dnd.get_AC(level)\n",
    "AC = 19\n",
    "attackers_disadvantage = False\n",
    "\n",
    "pally_attack = dnd.roll_damage(enemy_ac, to_hit, melee_weapon+extra_dice, bonus_damage=bonus_damage, crit_added_damage_dice=smite, **adv)\n",
    "pally_attack2 = dnd.roll_damage(enemy_ac, to_hit, melee_weapon+extra_dice, bonus_damage=bonus_damage, crit_added_damage_dice=smite, **adv)\n",
    "pam_attack = dnd.roll_damage(enemy_ac, to_hit, Dice(1,4)+extra_dice, bonus_damage=bonus_damage, crit_added_damage_dice=smite, **adv)\n",
    "\n",
    "wis_saving_throw = dnd.spell_save_attack(-1 + ability_score + dnd.proficency_bonus(level), 10+level/2, save_advantage=True)\n",
    "dex_saving_throw = dnd.spell_save_attack(-1 + ability_score, 10+level/2, save_advantage=True)\n",
    "\n",
    "chance_to_be_hit = (dnd.roll_damage(AC, dnd.attack_bonus(level), Dice(1,2), disadvantage=attackers_disadvantage) > 0).mean()\n",
    "\n",
    "print('Chace to be hit', chance_to_be_hit)\n",
    "print('Wisdom saving throw failure:', wis_saving_throw.mean())\n",
    "print('Dex saving throw failure:',dex_saving_throw.mean())\n",
    "\n",
    "print('Chance to hit:', (pally_attack > 0).mean())\n",
    "print('Damage for first round:', (pally_attack + pally_attack2).mean())\n",
    "print('Damage for second round:', (pally_attack + pally_attack2 + pam_attack).mean())"
   ]
  },
  {
   "cell_type": "code",
   "execution_count": 279,
   "metadata": {},
   "outputs": [
    {
     "data": {
      "text/plain": [
       "19"
      ]
     },
     "execution_count": 279,
     "metadata": {},
     "output_type": "execute_result"
    }
   ],
   "source": [
    "bonus_damage"
   ]
  },
  {
   "cell_type": "code",
   "execution_count": 49,
   "metadata": {},
   "outputs": [
    {
     "data": {
      "text/plain": [
       "19"
      ]
     },
     "execution_count": 49,
     "metadata": {},
     "output_type": "execute_result"
    }
   ],
   "source": [
    "charisma + charisma + weapon_bonus + dnd.proficency_bonus(level)"
   ]
  },
  {
   "cell_type": "code",
   "execution_count": 50,
   "metadata": {},
   "outputs": [
    {
     "data": {
      "text/plain": [
       "9.0"
      ]
     },
     "execution_count": 50,
     "metadata": {},
     "output_type": "execute_result"
    }
   ],
   "source": [
    "(melee_weapon+extra_dice).expectation()"
   ]
  },
  {
   "cell_type": "code",
   "execution_count": 52,
   "metadata": {},
   "outputs": [
    {
     "data": {
      "text/plain": [
       "28.0"
      ]
     },
     "execution_count": 52,
     "metadata": {},
     "output_type": "execute_result"
    }
   ],
   "source": [
    "np.percentile(pally_attack[pally_attack >0],50)"
   ]
  },
  {
   "cell_type": "code",
   "execution_count": 17,
   "metadata": {},
   "outputs": [
    {
     "name": "stdout",
     "output_type": "stream",
     "text": [
      "Chace to be hit 0.5491\n",
      "Wisdom saving throw success: 0.2997\n",
      "Dex saving throw success: 0.4532\n",
      "Chance to hit: 0.7051\n",
      "Damege per  hit: 8.8356\n",
      "Damage for first round: 17.6002\n",
      "Damage for second round: 24.0831\n"
     ]
    }
   ],
   "source": [
    "level = 8\n",
    "charisma = 3\n",
    "strength = 2\n",
    "ability_score = charisma\n",
    "melee_weapon = Dice(1,10) \n",
    "weapon_bonus = 3\n",
    "bonus_damage = ability_score + weapon_bonus \n",
    "smite = Dice(2,8)\n",
    "to_hit = dnd.proficency_bonus(level) + ability_score + weapon_bonus\n",
    "adv = {'advantage':False, 'crit_on':20}\n",
    "\n",
    "enemy_ac = dnd.get_AC(level)\n",
    "AC = 18\n",
    "attackers_disadvantage = False\n",
    "\n",
    "pally_attack = dnd.roll_damage(enemy_ac, to_hit, melee_weapon, bonus_damage=bonus_damage, crit_added_damage_dice=smite, **adv)\n",
    "pally_attack2 = dnd.roll_damage(enemy_ac, to_hit, melee_weapon, bonus_damage=bonus_damage, crit_added_damage_dice=smite, **adv)\n",
    "pam_attack = dnd.roll_damage(enemy_ac, to_hit, Dice(1,4), bonus_damage=bonus_damage, crit_added_damage_dice=smite, **adv)\n",
    "\n",
    "\n",
    "\n",
    "chance_to_be_hit = (dnd.roll_damage(AC, dnd.attack_bonus(level), Dice(1,2), disadvantage=attackers_disadvantage) > 0).mean()\n",
    "\n",
    "print('Chace to be hit', chance_to_be_hit)\n",
    "print('Wisdom saving throw success:', wis_saving_throw.mean())\n",
    "print('Dex saving throw success:',dex_saving_throw.mean())\n",
    "\n",
    "print('Chance to hit:', (pally_attack2 > 0).mean())\n",
    "print('Damege per  hit:', (pally_attack2).mean())\n",
    "print('Damage for first round:', (pally_attack + pally_attack2).mean())\n",
    "print('Damage for second round:', (pally_attack + pally_attack2 + pam_attack).mean())"
   ]
  },
  {
   "cell_type": "code",
   "execution_count": 21,
   "metadata": {},
   "outputs": [
    {
     "name": "stdout",
     "output_type": "stream",
     "text": [
      "Chace to be hit 0.5975\n",
      "Wisdom saving throw success: 0.6047\n",
      "Dex saving throw success: 0.41\n",
      "Chance to hit: 0.7041\n",
      "Damege per  hit: 12.8745\n",
      "Damage for first round: 25.7047\n",
      "Damage for second round: 33.6623\n"
     ]
    }
   ],
   "source": [
    "level = 9\n",
    "charisma = 3\n",
    "strength = 2\n",
    "ability_score = strength\n",
    "melee_weapon = Dice(1,10) + Dice(1,6)\n",
    "weapon_bonus = 3\n",
    "bonus_damage = ability_score + charisma + weapon_bonus \n",
    "smite = Dice(2,8)\n",
    "to_hit = dnd.proficency_bonus(level) + ability_score + weapon_bonus\n",
    "adv = {'advantage':False, 'crit_on':20}\n",
    "\n",
    "enemy_ac = dnd.get_AC(level)\n",
    "AC = 19\n",
    "attackers_disadvantage = False\n",
    "\n",
    "pally_attack = dnd.roll_damage(enemy_ac, to_hit, melee_weapon, bonus_damage=bonus_damage, crit_added_damage_dice=smite, **adv)\n",
    "pally_attack2 = dnd.roll_damage(enemy_ac, to_hit, melee_weapon, bonus_damage=bonus_damage, crit_added_damage_dice=smite, **adv)\n",
    "pam_attack = dnd.roll_damage(enemy_ac, to_hit, Dice(1,4), bonus_damage=bonus_damage, crit_added_damage_dice=smite, **adv)\n",
    "\n",
    "wis_saving_throw = dnd.spell_save(-1 + charisma + dnd.proficency_bonus(level), 10+level/2)\n",
    "dex_saving_throw = dnd.spell_save(-1 + charisma, 10+level/2)\n",
    "\n",
    "chance_to_be_hit = (dnd.roll_damage(AC, dnd.attack_bonus(level), Dice(1,2), disadvantage=attackers_disadvantage) > 0).mean()\n",
    "\n",
    "print('Chace to be hit', chance_to_be_hit)\n",
    "print('Wisdom saving throw success:', wis_saving_throw.mean())\n",
    "print('Dex saving throw success:',dex_saving_throw.mean())\n",
    "\n",
    "print('Chance to hit:', (pally_attack2 > 0).mean())\n",
    "print('Damege per  hit:', (pally_attack2).mean())\n",
    "print('Damage for first round:', (pally_attack + pally_attack2).mean())\n",
    "print('Damage for second round:', (pally_attack + pally_attack2 + pam_attack).mean())"
   ]
  },
  {
   "cell_type": "code",
   "execution_count": 22,
   "metadata": {},
   "outputs": [
    {
     "name": "stdout",
     "output_type": "stream",
     "text": [
      "Chace to be hit 0.5929\n",
      "Wisdom saving throw success: 0.6051\n",
      "Dex saving throw success: 0.4003\n",
      "Chance to hit: 0.6842\n",
      "Damege per  hit: 13.1678\n",
      "Damage for first round: 26.5701\n",
      "Damage for second round: 35.1545\n"
     ]
    }
   ],
   "source": [
    "level = 10\n",
    "charisma = 3\n",
    "strength = 2\n",
    "ability_score = charisma\n",
    "melee_weapon = Dice(1,10) + Dice(1,6)\n",
    "weapon_bonus = 3\n",
    "bonus_damage = ability_score + charisma + weapon_bonus \n",
    "smite = Dice(2,8)\n",
    "to_hit = dnd.proficency_bonus(level) + ability_score + weapon_bonus\n",
    "adv = {'advantage':False, 'crit_on':20}\n",
    "\n",
    "enemy_ac = dnd.get_AC(level)\n",
    "AC = 18\n",
    "attackers_disadvantage = False\n",
    "\n",
    "pally_attack = dnd.roll_damage(enemy_ac, to_hit, melee_weapon, bonus_damage=bonus_damage, crit_added_damage_dice=smite, **adv)\n",
    "pally_attack2 = dnd.roll_damage(enemy_ac, to_hit, melee_weapon, bonus_damage=bonus_damage, crit_added_damage_dice=smite, **adv)\n",
    "pam_attack = dnd.roll_damage(enemy_ac, to_hit, Dice(1,4), bonus_damage=bonus_damage, crit_added_damage_dice=smite, **adv)\n",
    "\n",
    "wis_saving_throw = dnd.spell_save(-1 + charisma + dnd.proficency_bonus(level), 10+level/2)\n",
    "dex_saving_throw = dnd.spell_save(-1 + charisma, 10+level/2)\n",
    "\n",
    "chance_to_be_hit = (dnd.roll_damage(AC, dnd.attack_bonus(level), Dice(1,2), disadvantage=attackers_disadvantage) > 0).mean()\n",
    "\n",
    "print('Chace to be hit', chance_to_be_hit)\n",
    "print('Wisdom saving throw success:', wis_saving_throw.mean())\n",
    "print('Dex saving throw success:',dex_saving_throw.mean())\n",
    "\n",
    "print('Chance to hit:', (pally_attack2 > 0).mean())\n",
    "print('Damege per  hit:', (pally_attack2).mean())\n",
    "print('Damage for first round:', (pally_attack + pally_attack2).mean())\n",
    "print('Damage for second round:', (pally_attack + pally_attack2 + pam_attack).mean())"
   ]
  },
  {
   "cell_type": "code",
   "execution_count": 23,
   "metadata": {},
   "outputs": [
    {
     "data": {
      "text/plain": [
       "array([15])"
      ]
     },
     "execution_count": 23,
     "metadata": {},
     "output_type": "execute_result"
    }
   ],
   "source": [
    "Dice(1,20).roll()+4"
   ]
  },
  {
   "cell_type": "code",
   "execution_count": 24,
   "metadata": {},
   "outputs": [
    {
     "name": "stdout",
     "output_type": "stream",
     "text": [
      "Chace to be hit 0.7035\n",
      "Wisdom saving throw success: 0.5517\n",
      "Dex saving throw success: 0.2378\n",
      "Chance to hit: 0.9621\n",
      "Damege per  hit: 47.9647\n",
      "Damage for first round: 95.9405\n",
      "Damage for second round: 116.8443\n"
     ]
    }
   ],
   "source": [
    "level = 20\n",
    "charisma = 5\n",
    "strength = 3\n",
    "ability_score = charisma \n",
    "melee_weapon = Dice(1,10) + Dice(1,8) + Dice(4,8)\n",
    "weapon_bonus = 3\n",
    "bonus_damage = ability_score + charisma + weapon_bonus + 6\n",
    "smite = None\n",
    "to_hit = dnd.proficency_bonus(level) + ability_score + weapon_bonus\n",
    "adv = {'advantage':True, 'crit_on':20}\n",
    "\n",
    "enemy_ac = dnd.get_AC(level)\n",
    "AC = 18\n",
    "attackers_disadvantage = False\n",
    "\n",
    "pally_attack = dnd.roll_damage(enemy_ac, to_hit, melee_weapon, bonus_damage=bonus_damage, crit_added_damage_dice=smite, **adv)\n",
    "pally_attack2 = dnd.roll_damage(enemy_ac, to_hit, melee_weapon, bonus_damage=bonus_damage, crit_added_damage_dice=smite, **adv)\n",
    "pam_attack = dnd.roll_damage(enemy_ac, to_hit, Dice(1,4), bonus_damage=bonus_damage, crit_added_damage_dice=smite, **adv)\n",
    "\n",
    "wis_saving_throw = dnd.spell_save(-1 + charisma + dnd.proficency_bonus(level), 10+level/2)\n",
    "dex_saving_throw = dnd.spell_save(-1 + charisma, 10+level/2)\n",
    "\n",
    "chance_to_be_hit = (dnd.roll_damage(AC, dnd.attack_bonus(level), Dice(1,2), disadvantage=attackers_disadvantage) > 0).mean()\n",
    "\n",
    "print('Chace to be hit', chance_to_be_hit)\n",
    "print('Wisdom saving throw success:', wis_saving_throw.mean())\n",
    "print('Dex saving throw success:', dex_saving_throw.mean())\n",
    "\n",
    "print('Chance to hit:', (pally_attack2 > 0).mean())\n",
    "print('Damege per  hit:', (pally_attack2).mean())\n",
    "print('Damage for first round:', (pally_attack + pally_attack2).mean())\n",
    "print('Damage for second round:', (pally_attack + pally_attack2 + pam_attack).mean())"
   ]
  },
  {
   "cell_type": "code",
   "execution_count": 25,
   "metadata": {},
   "outputs": [
    {
     "data": {
      "text/plain": [
       "0.5629"
      ]
     },
     "execution_count": 25,
     "metadata": {},
     "output_type": "execute_result"
    }
   ],
   "source": [
    "(dnd.roll_damage(18, 12, Dice(1,2), disadvantage=True) > 0).mean()"
   ]
  },
  {
   "cell_type": "code",
   "execution_count": 26,
   "metadata": {},
   "outputs": [
    {
     "data": {
      "text/plain": [
       "0.4495"
      ]
     },
     "execution_count": 26,
     "metadata": {},
     "output_type": "execute_result"
    }
   ],
   "source": [
    "dnd.spell_save(8, 10+level/2).mean()"
   ]
  },
  {
   "cell_type": "code",
   "execution_count": 257,
   "metadata": {},
   "outputs": [
    {
     "data": {
      "text/plain": [
       "0.8821"
      ]
     },
     "execution_count": 257,
     "metadata": {},
     "output_type": "execute_result"
    }
   ],
   "source": [
    "(dnd.roll_damage(22, to_hit, melee_weapon, bonus_damage=bonus_damage, crit_added_damage_dice=smite, **adv)>0).mean()"
   ]
  },
  {
   "cell_type": "code",
   "execution_count": 221,
   "metadata": {},
   "outputs": [
    {
     "name": "stdout",
     "output_type": "stream",
     "text": [
      "Chace to  hit 0.5442\n",
      "Chace to be hit 0.7058\n",
      "Damage per round: 64.0574\n"
     ]
    },
    {
     "data": {
      "text/plain": [
       "<Axes: >"
      ]
     },
     "execution_count": 221,
     "metadata": {},
     "output_type": "execute_result"
    },
    {
     "data": {
      "image/png": "[encoded data removed]",
      "text/plain": [
       "<Figure size 640x480 with 1 Axes>"
      ]
     },
     "metadata": {},
     "output_type": "display_data"
    }
   ],
   "source": [
    "# skeletons 2 short swords\n",
    "num_skeletons = 4\n",
    "level = 12\n",
    "charisma = 5\n",
    "dex = 2\n",
    "ability_score = None \n",
    "melee_weapon = Dice(1,6) + Dice(1,4)\n",
    "weapon_bonus = 2\n",
    "bonus_damage = None \n",
    "to_hit = 2 + dex + weapon_bonus\n",
    "adv = {'advantage':False, 'crit_on':20}\n",
    "enemy_ac = 16 #dnd.get_AC(level)\n",
    "\n",
    "AC = 16\n",
    "chance_to_be_hit = (dnd.roll_damage(AC, dnd.attack_bonus(level), Dice(1,2), disadvantage=attackers_disadvantage) > 0).mean()\n",
    "\n",
    "\n",
    "attacks = dnd.roll_damage(enemy_ac, to_hit, melee_weapon, bonus_damage=dex + charisma + weapon_bonus, **adv)\n",
    "print('Chace to  hit', (attacks>0).mean())\n",
    "attacks += dnd.roll_damage(enemy_ac, to_hit, melee_weapon, bonus_damage= charisma + weapon_bonus, **adv)\n",
    "for _ in range(num_skeletons -1):\n",
    "    attacks += dnd.roll_damage(enemy_ac, to_hit, melee_weapon, bonus_damage=dex + charisma + weapon_bonus, **adv)\n",
    "    attacks += dnd.roll_damage(enemy_ac, to_hit, melee_weapon, bonus_damage= charisma + weapon_bonus, **adv)\n",
    "\n",
    "print('Chace to be hit', chance_to_be_hit)\n",
    "print('Damage per round:', (attacks).mean())\n",
    "\n",
    "pd.Series(attacks).hist()"
   ]
  },
  {
   "cell_type": "code",
   "execution_count": 207,
   "metadata": {},
   "outputs": [
    {
     "name": "stdout",
     "output_type": "stream",
     "text": [
      "Chace to be hit 0.8032\n",
      "Damage per round: 112.1627\n"
     ]
    },
    {
     "data": {
      "text/plain": [
       "<Axes: >"
      ]
     },
     "execution_count": 207,
     "metadata": {},
     "output_type": "execute_result"
    },
    {
     "data": {
      "image/png": "[encoded data removed]",
      "text/plain": [
       "<Figure size 640x480 with 1 Axes>"
      ]
     },
     "metadata": {},
     "output_type": "display_data"
    }
   ],
   "source": [
    "# skeletons bows\n",
    "num_skeletons = 28\n",
    "level = 20\n",
    "charisma = 3\n",
    "dex = 2\n",
    "ability_score = None \n",
    "melee_weapon = Dice(1,6)\n",
    "weapon_bonus = 0\n",
    "bonus_damage = None \n",
    "to_hit = 7\n",
    "adv = {'advantage':False, 'crit_on':20}\n",
    "enemy_ac = dnd.get_AC(level)\n",
    "\n",
    "AC = 16\n",
    "chance_to_be_hit = (dnd.roll_damage(AC, dnd.attack_bonus(level), Dice(1,2), disadvantage=attackers_disadvantage) > 0).mean()\n",
    "\n",
    "\n",
    "attacks = dnd.roll_damage(enemy_ac, to_hit, melee_weapon, bonus_damage=dex + charisma+ weapon_bonus, **adv)\n",
    "\n",
    "\n",
    "for _ in range(num_skeletons -1):\n",
    "    attacks += dnd.roll_damage(enemy_ac, to_hit, melee_weapon, bonus_damage=dex + charisma+ weapon_bonus, **adv)\n",
    "\n",
    "print('Chace to be hit', chance_to_be_hit)\n",
    "print('Damage per round:', (attacks).mean())\n",
    "\n",
    "pd.Series(attacks).hist()"
   ]
  },
  {
   "cell_type": "code",
   "execution_count": 193,
   "metadata": {},
   "outputs": [
    {
     "name": "stdout",
     "output_type": "stream",
     "text": [
      "Chace to be hit 0.6949\n",
      "Damage per round: 7.0573\n"
     ]
    },
    {
     "data": {
      "text/plain": [
       "<Axes: >"
      ]
     },
     "execution_count": 193,
     "metadata": {},
     "output_type": "execute_result"
    },
    {
     "data": {
      "image/png": "[encoded data removed]",
      "text/plain": [
       "<Figure size 640x480 with 1 Axes>"
      ]
     },
     "metadata": {},
     "output_type": "display_data"
    }
   ],
   "source": [
    "# skeletons bows\n",
    "num_skeletons = 3\n",
    "level = 12\n",
    "charisma = 4\n",
    "dex = 2\n",
    "ability_score = None \n",
    "melee_weapon = Dice(1,6)\n",
    "weapon_bonus = 0\n",
    "bonus_damage = None \n",
    "to_hit = 2 + dex + weapon_bonus\n",
    "adv = {'advantage':False, 'crit_on':20}\n",
    "enemy_ac = dnd.get_AC(level)\n",
    "\n",
    "AC = 16\n",
    "chance_to_be_hit = (dnd.roll_damage(AC, dnd.attack_bonus(level), Dice(1,2), disadvantage=attackers_disadvantage) > 0).mean()\n",
    "\n",
    "\n",
    "attacks = dnd.roll_damage(enemy_ac, to_hit, melee_weapon, bonus_damage=dex + weapon_bonus, **adv)\n",
    "\n",
    "\n",
    "for _ in range(num_skeletons -1):\n",
    "    attacks += dnd.roll_damage(enemy_ac, to_hit, melee_weapon, bonus_damage=dex + weapon_bonus, **adv)\n",
    "\n",
    "print('Chace to be hit', chance_to_be_hit)\n",
    "print('Damage per round:', (attacks).mean())\n",
    "\n",
    "pd.Series(attacks).hist()"
   ]
  },
  {
   "cell_type": "code",
   "execution_count": 143,
   "metadata": {},
   "outputs": [
    {
     "name": "stdout",
     "output_type": "stream",
     "text": [
      "Chace to be hit 0.357\n",
      "Wisdom saving throw success: 0.5954\n",
      "Dex saving throw success: 0.3986\n",
      "Chance to hit: 0.7438\n",
      "Damege per  hit: 16.6003\n",
      "Damage for first round: 33.1268\n",
      "Damage for second round: 43.8057\n"
     ]
    }
   ],
   "source": [
    "level = 12\n",
    "charisma = 4\n",
    "strength = 4\n",
    "ability_score = strength\n",
    "melee_weapon = Dice(1,10) + Dice(1,8)\n",
    "weapon_bonus = 3\n",
    "bonus_damage = ability_score + charisma + weapon_bonus \n",
    "smite = Dice(2,8)\n",
    "to_hit = dnd.proficency_bonus(level) + ability_score + weapon_bonus\n",
    "adv = {'advantage':False, 'crit_on':20}\n",
    "\n",
    "enemy_ac = dnd.get_AC(level)\n",
    "AC = 18\n",
    "attackers_disadvantage = False\n",
    "\n",
    "pally_attack = dnd.roll_damage(enemy_ac, to_hit, melee_weapon, bonus_damage=bonus_damage, crit_added_damage_dice=smite, **adv)\n",
    "pally_attack2 = dnd.roll_damage(enemy_ac, to_hit, melee_weapon, bonus_damage=bonus_damage, crit_added_damage_dice=smite, **adv)\n",
    "pam_attack = dnd.roll_damage(enemy_ac, to_hit, Dice(1,4), bonus_damage=bonus_damage, crit_added_damage_dice=smite, **adv)\n",
    "\n",
    "wis_saving_throw = dnd.spell_save(-1 + charisma + dnd.proficency_bonus(level), 10+level/2)\n",
    "dex_saving_throw = dnd.spell_save(-1 + charisma, 10+level/2)\n",
    "\n",
    "chance_to_be_hit = (dnd.roll_damage(AC, dnd.attack_bonus(level), Dice(1,2), disadvantage=attackers_disadvantage) > 0).mean()\n",
    "\n",
    "print('Chace to be hit', chance_to_be_hit)\n",
    "print('Wisdom saving throw success:', wis_saving_throw.mean())\n",
    "print('Dex saving throw success:',dex_saving_throw.mean())\n",
    "\n",
    "print('Chance to hit:', (pally_attack2 > 0).mean())\n",
    "print('Damege per  hit:', (pally_attack2).mean())\n",
    "print('Damage for first round:', (pally_attack + pally_attack2).mean())\n",
    "print('Damage for second round:', (pally_attack + pally_attack2 + pam_attack).mean())"
   ]
  },
  {
   "cell_type": "code",
   "execution_count": 130,
   "metadata": {},
   "outputs": [
    {
     "name": "stdout",
     "output_type": "stream",
     "text": [
      "Chace to be hit 0.5979\n",
      "Wisdom saving throw success: 0.5988\n",
      "Dex saving throw success: 0.4072\n",
      "Chance to hit: 0.7462\n",
      "Damege per  hit: 16.6391\n",
      "Damage for first round: 33.3151\n",
      "Damage for second round: 43.9656\n"
     ]
    }
   ],
   "source": [
    "level = 12\n",
    "charisma = 4\n",
    "strength = 4\n",
    "ability_score = charisma\n",
    "melee_weapon = Dice(1,10) + Dice(1,8)\n",
    "weapon_bonus = 3\n",
    "bonus_damage = ability_score + charisma + weapon_bonus \n",
    "smite = Dice(2,8)\n",
    "to_hit = dnd.proficency_bonus(level) + ability_score + weapon_bonus\n",
    "adv = {'advantage':False, 'crit_on':20}\n",
    "\n",
    "enemy_ac = dnd.get_AC(level)\n",
    "AC = 18\n",
    "attackers_disadvantage = False\n",
    "\n",
    "pally_attack = dnd.roll_damage(enemy_ac, to_hit, melee_weapon, bonus_damage=bonus_damage, crit_added_damage_dice=smite, **adv)\n",
    "pally_attack2 = dnd.roll_damage(enemy_ac, to_hit, melee_weapon, bonus_damage=bonus_damage, crit_added_damage_dice=smite, **adv)\n",
    "pam_attack = dnd.roll_damage(enemy_ac, to_hit, Dice(1,4), bonus_damage=bonus_damage, crit_added_damage_dice=smite, **adv)\n",
    "\n",
    "wis_saving_throw = dnd.spell_save(-1 + charisma + dnd.proficency_bonus(level), 10+level/2)\n",
    "dex_saving_throw = dnd.spell_save(-1 + charisma, 10+level/2)\n",
    "\n",
    "chance_to_be_hit = (dnd.roll_damage(AC, dnd.attack_bonus(level), Dice(1,2), disadvantage=attackers_disadvantage) > 0).mean()\n",
    "\n",
    "print('Chace to be hit', chance_to_be_hit)\n",
    "print('Wisdom saving throw success:', wis_saving_throw.mean())\n",
    "print('Dex saving throw success:',dex_saving_throw.mean())\n",
    "\n",
    "print('Chance to hit:', (pally_attack2 > 0).mean())\n",
    "print('Damege per  hit:', (pally_attack2).mean())\n",
    "print('Damage for first round:', (pally_attack + pally_attack2).mean())\n",
    "print('Damage for second round:', (pally_attack + pally_attack2 + pam_attack).mean())"
   ]
  },
  {
   "cell_type": "code",
   "execution_count": 127,
   "metadata": {},
   "outputs": [
    {
     "name": "stdout",
     "output_type": "stream",
     "text": [
      "Chace to be hit 0.5895\n",
      "Wisdom saving throw success: 0.5897\n",
      "Dex saving throw success: 0.3966\n",
      "Chance to hit: 0.7035\n",
      "Damege per  hit: 15.0206\n",
      "Damage for first round: 29.8117\n",
      "Damage for second round: 39.1762\n"
     ]
    }
   ],
   "source": [
    "level = 11\n",
    "charisma = 4\n",
    "strength = 3\n",
    "ability_score = strength\n",
    "melee_weapon = Dice(1,10) + Dice(1,8) \n",
    "weapon_bonus = 3\n",
    "bonus_damage = ability_score + charisma + weapon_bonus \n",
    "smite = Dice(2,8)\n",
    "to_hit = dnd.proficency_bonus(level) + ability_score + weapon_bonus \n",
    "adv = {'advantage':False, 'crit_on':20}\n",
    "\n",
    "enemy_ac = dnd.get_AC(level)\n",
    "AC = 18\n",
    "attackers_disadvantage = False\n",
    "\n",
    "pally_attack = dnd.roll_damage(enemy_ac, to_hit, melee_weapon, bonus_damage=bonus_damage, crit_added_damage_dice=smite, **adv)\n",
    "pally_attack2 = dnd.roll_damage(enemy_ac, to_hit, melee_weapon, bonus_damage=bonus_damage, crit_added_damage_dice=smite, **adv)\n",
    "pam_attack = dnd.roll_damage(enemy_ac, to_hit, Dice(1,4), bonus_damage=bonus_damage, crit_added_damage_dice=smite, **adv)\n",
    "\n",
    "wis_saving_throw = dnd.spell_save(-1 + charisma + dnd.proficency_bonus(level), 10+level/2)\n",
    "dex_saving_throw = dnd.spell_save(-1 + charisma, 10+level/2)\n",
    "\n",
    "chance_to_be_hit = (dnd.roll_damage(AC, dnd.attack_bonus(level), Dice(1,2), disadvantage=attackers_disadvantage) > 0).mean()\n",
    "\n",
    "print('Chace to be hit', chance_to_be_hit)\n",
    "print('Wisdom saving throw success:', wis_saving_throw.mean())\n",
    "print('Dex saving throw success:',dex_saving_throw.mean())\n",
    "\n",
    "print('Chance to hit:', (pally_attack2 > 0).mean())\n",
    "print('Damege per  hit:', (pally_attack2).mean())\n",
    "print('Damage for first round:', (pally_attack + pally_attack2).mean())\n",
    "print('Damage for second round:', (pally_attack + pally_attack2 + pam_attack).mean())"
   ]
  },
  {
   "cell_type": "code",
   "execution_count": 5,
   "metadata": {},
   "outputs": [
    {
     "name": "stdout",
     "output_type": "stream",
     "text": [
      "Chace to be hit 0.3409\n",
      "Wisdom saving throw success: 0.6605\n",
      "Dex saving throw success: 0.49\n",
      "Damage per round: 10.2391\n"
     ]
    }
   ],
   "source": [
    "level = 6\n",
    "ability_score = 2\n",
    "melee_weapon = Dice(1,6)\n",
    "smite = Dice(2,8)\n",
    "to_hit = dnd.proficency_bonus(level)+ability_score\n",
    "bonus_damage = ability_score\n",
    "\n",
    "pally_attack = dnd.roll_damage(dnd.get_AC(level), to_hit, melee_weapon, bonus_damage=bonus_damage, crit_added_damage_dice=smite)\n",
    "pally_attack2 = dnd.roll_damage(dnd.get_AC(level), to_hit, melee_weapon, bonus_damage, crit_added_damage_dice=smite)\n",
    "pam_attack = dnd.roll_damage(dnd.get_AC(level), to_hit, Dice(1,4), bonus_damage, crit_added_damage_dice=smite)\n",
    "\n",
    "lvl_6_pally = pally_attack + pally_attack2 + pam_attack\n",
    "\n",
    "wis_saving_throw = dnd.spell_save(-1 + 3 + dnd.proficency_bonus(level), 10+level/2)\n",
    "dex_saving_throw = dnd.spell_save(-1 + 3, 10+level/2)\n",
    "\n",
    "chance_to_be_hit = (dnd.roll_damage(21, dnd.attack_bonus(level), Dice(1,2)) > 0).mean()\n",
    "\n",
    "print('Chace to be hit', chance_to_be_hit)\n",
    "print('Wisdom saving throw success:', wis_saving_throw.mean())\n",
    "print('Dex saving throw success:',dex_saving_throw.mean())\n",
    "\n",
    "print('Damage per round:', lvl_6_pally.mean())"
   ]
  },
  {
   "cell_type": "code",
   "execution_count": 6,
   "metadata": {},
   "outputs": [
    {
     "name": "stdout",
     "output_type": "stream",
     "text": [
      "Chace to be hit 0.3526\n",
      "Wisdom saving throw success: 0.5502\n",
      "Dex saving throw success: 0.3988\n",
      "Damage for first round: 10.5613\n",
      "Damage for second round: 15.2529\n"
     ]
    }
   ],
   "source": [
    "level = 7\n",
    "ability_score = 2\n",
    "melee_weapon = Dice(1,6)\n",
    "smite = Dice(2,8)\n",
    "to_hit = dnd.proficency_bonus(level)+ability_score\n",
    "bonus_damage = ability_score+3\n",
    "\n",
    "pally_attack = dnd.roll_damage(dnd.get_AC(level), to_hit, melee_weapon, bonus_damage=bonus_damage, crit_added_damage_dice=smite)\n",
    "pally_attack2 = dnd.roll_damage(dnd.get_AC(level), to_hit, melee_weapon, bonus_damage, crit_added_damage_dice=smite)\n",
    "pam_attack = dnd.roll_damage(dnd.get_AC(level), to_hit, Dice(1,4), bonus_damage, crit_added_damage_dice=smite)\n",
    "\n",
    "wis_saving_throw = dnd.spell_save(-1 + ability_score + dnd.proficency_bonus(level), 10+level/2)\n",
    "dex_saving_throw = dnd.spell_save(-1 + ability_score, 10+level/2)\n",
    "\n",
    "chance_to_be_hit = (dnd.roll_damage(21, dnd.attack_bonus(level), Dice(1,2)) > 0).mean()\n",
    "\n",
    "print('Chace to be hit', chance_to_be_hit)\n",
    "print('Wisdom saving throw success:', wis_saving_throw.mean())\n",
    "print('Dex saving throw success:',dex_saving_throw.mean())\n",
    "\n",
    "print('Damage for first round:', (pally_attack + pally_attack2).mean())\n",
    "print('Damage for second round:', (pally_attack + pally_attack2 + pam_attack).mean())"
   ]
  },
  {
   "cell_type": "code",
   "execution_count": 145,
   "metadata": {},
   "outputs": [
    {
     "data": {
      "text/plain": [
       "19.0823"
      ]
     },
     "execution_count": 145,
     "metadata": {},
     "output_type": "execute_result"
    }
   ],
   "source": [
    "dnd.roll_damage(dnd.get_AC(level), to_hit, Dice(2,10)+Dice(1,6), bonus_damage=10).mean()"
   ]
  },
  {
   "cell_type": "code",
   "execution_count": 7,
   "metadata": {},
   "outputs": [
    {
     "name": "stdout",
     "output_type": "stream",
     "text": [
      "Chace to be hit 0.3484\n",
      "Wisdom saving throw success: 0.5964\n",
      "Dex saving throw: 0.4451\n",
      "Edritch blast round: 9.2882\n",
      "Magic stone round: 8.2107\n",
      "Damage for first round: 13.6156\n",
      "Damage for second round: 17.5467\n"
     ]
    }
   ],
   "source": [
    "level = 7\n",
    "ability_score = 3\n",
    "melee_weapon = Dice(2,6)\n",
    "smite = Dice(2,8)\n",
    "to_hit = dnd.proficency_bonus(level)+ability_score\n",
    "bonus_damage = ability_score\n",
    "adv = {}#{'advantage':True, 'crit_on':19}\n",
    "\n",
    "pally_attack = dnd.roll_damage(dnd.get_AC(level), to_hit, melee_weapon, bonus_damage=bonus_damage, crit_added_damage_dice=smite, **adv)\n",
    "eldrith_blast = dnd.roll_damage(dnd.get_AC(level), to_hit, Dice(2,10)+Dice(1,6))\n",
    "magic_stone = dnd.roll_damage(dnd.get_AC(level), to_hit, Dice(2,6), bonus_damage=ability_score*2)\n",
    "pally_attack2 = dnd.roll_damage(dnd.get_AC(level), to_hit, melee_weapon, bonus_damage, crit_added_damage_dice=smite, **adv)\n",
    "pam_attack = dnd.roll_damage(dnd.get_AC(level), to_hit, Dice(1,4), bonus_damage, crit_added_damage_dice=smite, **adv)\n",
    "\n",
    "wis_saving_throw = dnd.spell_save(-1 + ability_score + dnd.proficency_bonus(level), 10+level/2)\n",
    "dex_saving_throw = dnd.spell_save(-1 + ability_score, 10+level/2)\n",
    "\n",
    "chance_to_be_hit = (dnd.roll_damage(21, dnd.attack_bonus(level), Dice(1,2)) > 0).mean()\n",
    "\n",
    "print('Chace to be hit', chance_to_be_hit)\n",
    "print('Wisdom saving throw success:', wis_saving_throw.mean())\n",
    "print('Dex saving throw:',dex_saving_throw.mean())\n",
    "\n",
    "print('Edritch blast round:', eldrith_blast.mean())\n",
    "print('Magic stone round:', magic_stone.mean())\n",
    "print('Damage for first round:', (pally_attack + pally_attack2).mean())\n",
    "print('Damage for second round:', (pally_attack + pally_attack2 + pam_attack).mean())"
   ]
  },
  {
   "cell_type": "code",
   "execution_count": 8,
   "metadata": {},
   "outputs": [
    {
     "name": "stdout",
     "output_type": "stream",
     "text": [
      "Chace to be hit 0.3984\n",
      "Wisdom saving throw success: 0.5916\n",
      "Dex saving throw success: 0.4553\n",
      "Magic stone round: 7.4949\n",
      "Edritch blast round: 8.7422\n",
      "Damage for first round: 15.7173\n",
      "Damage for second round: 20.9847\n"
     ]
    }
   ],
   "source": [
    "level = 8\n",
    "ability_score = 3\n",
    "melee_weapon = Dice(2,6)\n",
    "smite = Dice(2,8)\n",
    "to_hit = dnd.proficency_bonus(level)+ability_score\n",
    "bonus_damage = ability_score*2\n",
    "adv = {}#{'advantage':True, 'crit_on':19}\n",
    "\n",
    "pally_attack = dnd.roll_damage(dnd.get_AC(level), to_hit, melee_weapon, bonus_damage=bonus_damage, crit_added_damage_dice=smite, **adv)\n",
    "eldrith_blast = dnd.roll_damage(dnd.get_AC(level), to_hit, Dice(2,10)+Dice(1,6))\n",
    "magic_stone = dnd.roll_damage(dnd.get_AC(level), to_hit, Dice(2,6), bonus_damage=ability_score*2)\n",
    "pally_attack2 = dnd.roll_damage(dnd.get_AC(level), to_hit, melee_weapon, bonus_damage, crit_added_damage_dice=smite, **adv)\n",
    "pam_attack = dnd.roll_damage(dnd.get_AC(level), to_hit, Dice(1,4), bonus_damage, crit_added_damage_dice=smite, **adv)\n",
    "\n",
    "wis_saving_throw = dnd.spell_save(-1 + ability_score + dnd.proficency_bonus(level), 10+level/2)\n",
    "dex_saving_throw = dnd.spell_save(-1 + ability_score, 10+level/2)\n",
    "\n",
    "chance_to_be_hit = (dnd.roll_damage(21, dnd.attack_bonus(level), Dice(1,2)) > 0).mean()\n",
    "\n",
    "print('Chace to be hit', chance_to_be_hit)\n",
    "print('Wisdom saving throw success:', wis_saving_throw.mean())\n",
    "print('Dex saving throw success:',dex_saving_throw.mean())\n",
    "\n",
    "print('Magic stone round:', magic_stone.mean())\n",
    "print('Edritch blast round:', eldrith_blast.mean())\n",
    "print('Damage for first round:', (pally_attack + pally_attack2).mean())\n",
    "print('Damage for second round:', (pally_attack + pally_attack2 + pam_attack).mean())"
   ]
  },
  {
   "cell_type": "code",
   "execution_count": 9,
   "metadata": {},
   "outputs": [
    {
     "name": "stdout",
     "output_type": "stream",
     "text": [
      "Chace to be hit 0.4469\n",
      "Wisdom saving throw success: 0.6561\n",
      "Dex saving throw success: 0.4534\n",
      "Edritch blast round: 12.6362\n",
      "Damage for first round: 21.1131\n",
      "Damage for second round: 28.4732\n"
     ]
    }
   ],
   "source": [
    "level = 9\n",
    "ability_score = 4\n",
    "melee_weapon = Dice(2,6)\n",
    "smite = Dice(2,8)\n",
    "to_hit = dnd.proficency_bonus(level)+ability_score\n",
    "bonus_damage = ability_score*2\n",
    "adv = {}#{'advantage':True, 'crit_on':19}\n",
    "\n",
    "pally_attack = dnd.roll_damage(dnd.get_AC(level), to_hit, melee_weapon, bonus_damage=bonus_damage, crit_added_damage_dice=smite, **adv)\n",
    "eldrith_blast = dnd.roll_damage(dnd.get_AC(level), to_hit, Dice(2,10)+Dice(2,6))\n",
    "pally_attack2 = dnd.roll_damage(dnd.get_AC(level), to_hit, melee_weapon, bonus_damage, crit_added_damage_dice=smite, **adv)\n",
    "pam_attack = dnd.roll_damage(dnd.get_AC(level), to_hit, Dice(1,4), bonus_damage, crit_added_damage_dice=smite, **adv)\n",
    "\n",
    "wis_saving_throw = dnd.spell_save(-1 + ability_score + dnd.proficency_bonus(level), 10+level/2)\n",
    "dex_saving_throw = dnd.spell_save(-1 + ability_score, 10+level/2)\n",
    "\n",
    "chance_to_be_hit = (dnd.roll_damage(21, dnd.attack_bonus(level), Dice(1,2)) > 0).mean()\n",
    "\n",
    "print('Chace to be hit', chance_to_be_hit)\n",
    "print('Wisdom saving throw success:', wis_saving_throw.mean())\n",
    "print('Dex saving throw success:',dex_saving_throw.mean())\n",
    "\n",
    "print('Edritch blast round:', eldrith_blast.mean())\n",
    "print('Damage for first round:', (pally_attack + pally_attack2).mean())\n",
    "print('Damage for second round:', (pally_attack + pally_attack2 + pam_attack).mean())"
   ]
  },
  {
   "cell_type": "code",
   "execution_count": 10,
   "metadata": {},
   "outputs": [
    {
     "name": "stdout",
     "output_type": "stream",
     "text": [
      "Chace to be hit 0.4517\n",
      "Wisdom saving throw success: 0.6502\n",
      "Dex saving throw success: 0.454\n",
      "Edritch blast round: 16.4005\n",
      "Magic stone round: 13.9873\n",
      "Damage for first round: 19.6675\n",
      "Damage for second round: 26.4957\n"
     ]
    }
   ],
   "source": [
    "level = 10\n",
    "ability_score = 4\n",
    "melee_weapon = Dice(2,6)\n",
    "smite = Dice(2,8)\n",
    "to_hit = dnd.proficency_bonus(level)+ability_score\n",
    "bonus_damage = ability_score*2\n",
    "adv = {}#{'advantage':True, 'crit_on':19}\n",
    "\n",
    "pally_attack = dnd.roll_damage(dnd.get_AC(level), to_hit, melee_weapon, bonus_damage=bonus_damage, crit_added_damage_dice=smite, **adv)\n",
    "eldrith_blast = dnd.roll_damage(dnd.get_AC(level), to_hit, Dice(2,10)+Dice(2,6), bonus_damage=ability_score*2) \n",
    "magic_stone = dnd.roll_damage(dnd.get_AC(level), to_hit, Dice(2,6)+Dice(2,6), bonus_damage=ability_score*2)\n",
    "pally_attack2 = dnd.roll_damage(dnd.get_AC(level), to_hit, melee_weapon, bonus_damage, crit_added_damage_dice=smite, **adv)\n",
    "pam_attack = dnd.roll_damage(dnd.get_AC(level), to_hit, Dice(1,4), bonus_damage, crit_added_damage_dice=smite, **adv)\n",
    "\n",
    "wis_saving_throw = dnd.spell_save(-1 + ability_score + dnd.proficency_bonus(level), 10+level/2)\n",
    "dex_saving_throw = dnd.spell_save(-1 + ability_score, 10+level/2)\n",
    "\n",
    "chance_to_be_hit = (dnd.roll_damage(21, dnd.attack_bonus(level), Dice(1,2)) > 0).mean()\n",
    "\n",
    "print('Chace to be hit', chance_to_be_hit)\n",
    "print('Wisdom saving throw success:', wis_saving_throw.mean())\n",
    "print('Dex saving throw success:',dex_saving_throw.mean())\n",
    "\n",
    "print('Edritch blast round:', eldrith_blast.mean())\n",
    "print('Magic stone round:', magic_stone.mean())\n",
    "print('Damage for first round:', (pally_attack + pally_attack2).mean())\n",
    "print('Damage for second round:', (pally_attack + pally_attack2 + pam_attack).mean())"
   ]
  },
  {
   "cell_type": "code",
   "execution_count": null,
   "metadata": {},
   "outputs": [],
   "source": [
    "level = 14\n",
    "ability_score = 5\n",
    "melee_weapon = Dice(1,6) + Dice(1,8)\n",
    "smite = Dice(2,8)\n",
    "to_hit = dnd.proficency_bonus(level) + ability_score\n",
    "bonus_damage = ability_score * 2\n",
    "adv = {'advantage':False, 'crit_on':19}\n",
    "enemy_ac = dnd.get_AC(level)\n",
    "attackers_disadvantage = False\n",
    "\n",
    "pally_attack = dnd.roll_damage(enemy_ac, to_hit, melee_weapon, bonus_damage=bonus_damage, crit_added_damage_dice=smite, **adv)\n",
    "eldrith_blast = dnd.roll_damage(enemy_ac, to_hit, Dice(3,10)+Dice(3,6), bonus_damage=ability_score*3) \n",
    "normal_skele = dnd.roll_damage(enemy_ac, 2, Dice(3,6), bonus_damage=2) \n",
    "\n",
    "magic_stone = dnd.roll_damage(enemy_ac, to_hit, Dice(3,6), bonus_damage=ability_score*3)\n",
    "magic_stone_eldrith_blast = dnd.roll_damage(enemy_ac, to_hit, Dice(3,10), bonus_damage=ability_score*3) \n",
    "\n",
    "pally_attack2 = dnd.roll_damage(enemy_ac, to_hit, melee_weapon, bonus_damage=bonus_damage, crit_added_damage_dice=smite, **adv)\n",
    "pam_attack = dnd.roll_damage(enemy_ac, to_hit, Dice(1,4), bonus_damage=bonus_damage, crit_added_damage_dice=smite, **adv)\n",
    "\n",
    "wis_saving_throw = dnd.spell_save(-1 + ability_score + dnd.proficency_bonus(level), 10+level/2)\n",
    "dex_saving_throw = dnd.spell_save(-1 + ability_score, 10+level/2)\n",
    "\n",
    "chance_to_be_hit = (dnd.roll_damage(21, dnd.attack_bonus(level), Dice(1,2), disadvantage=attackers_disadvantage) > 0).mean()\n",
    "\n",
    "print('Chace to be hit', chance_to_be_hit)\n",
    "print('Wisdom saving throw success:', wis_saving_throw.mean())\n",
    "print('Dex saving throw success:',dex_saving_throw.mean())\n",
    "\n",
    "print('Edritch blast round:', eldrith_blast.mean())\n",
    "print('Magic stone round:', (magic_stone_eldrith_blast+magic_stone).mean())\n",
    "print('Damage for first round:', (pally_attack + pally_attack2).mean())\n",
    "print('Damage for second round:', (pally_attack + pally_attack2 + pam_attack).mean())"
   ]
  },
  {
   "cell_type": "code",
   "execution_count": null,
   "metadata": {},
   "outputs": [],
   "source": []
  },
  {
   "cell_type": "code",
   "execution_count": 33,
   "metadata": {},
   "outputs": [
    {
     "name": "stdout",
     "output_type": "stream",
     "text": [
      "Chace to be hit 0.4907\n",
      "Wisdom saving throw success: 0.6573\n",
      "Dex saving throw success: 0.3969\n",
      "Edritch blast round: 28.882\n",
      "Magic stone round: 38.2805\n",
      "Damage for first round: 26.8412\n",
      "Damage for second round: 36.2194\n"
     ]
    }
   ],
   "source": [
    "level = 14\n",
    "ability_score = 5\n",
    "melee_weapon = Dice(1,6)+Dice(1,8)\n",
    "smite = Dice(2,8)\n",
    "to_hit = dnd.proficency_bonus(level)+ability_score\n",
    "bonus_damage = ability_score*2\n",
    "adv = {'advantage':False, 'crit_on':19}\n",
    "enemy_ac = dnd.get_AC(level)\n",
    "attackers_disadvantage = False\n",
    "\n",
    "pally_attack = dnd.roll_damage(enemy_ac, to_hit, melee_weapon, bonus_damage=bonus_damage, crit_added_damage_dice=smite, **adv)\n",
    "eldrith_blast = dnd.roll_damage(enemy_ac, to_hit, Dice(3,10)+Dice(3,6), bonus_damage=ability_score*3) \n",
    "normal_skele = dnd.roll_damage(enemy_ac, 2, Dice(3,6), bonus_damage=2) \n",
    "\n",
    "magic_stone = dnd.roll_damage(enemy_ac, to_hit, Dice(3,6), bonus_damage=ability_score*3)\n",
    "magic_stone_eldrith_blast = dnd.roll_damage(enemy_ac, to_hit, Dice(3,10), bonus_damage=ability_score*3) \n",
    "\n",
    "pally_attack2 = dnd.roll_damage(enemy_ac, to_hit, melee_weapon, bonus_damage=bonus_damage, crit_added_damage_dice=smite, **adv)\n",
    "pam_attack = dnd.roll_damage(enemy_ac, to_hit, Dice(1,4), bonus_damage=bonus_damage, crit_added_damage_dice=smite, **adv)\n",
    "\n",
    "wis_saving_throw = dnd.spell_save(-1 + ability_score + dnd.proficency_bonus(level), 10+level/2)\n",
    "dex_saving_throw = dnd.spell_save(-1 + ability_score, 10+level/2)\n",
    "\n",
    "chance_to_be_hit = (dnd.roll_damage(21, dnd.attack_bonus(level), Dice(1,2), disadvantage=attackers_disadvantage) > 0).mean()\n",
    "\n",
    "print('Chace to be hit', chance_to_be_hit)\n",
    "print('Wisdom saving throw success:', wis_saving_throw.mean())\n",
    "print('Dex saving throw success:',dex_saving_throw.mean())\n",
    "\n",
    "print('Edritch blast round:', eldrith_blast.mean())\n",
    "print('Magic stone round:', (magic_stone_eldrith_blast+magic_stone).mean())\n",
    "print('Damage for first round:', (pally_attack + pally_attack2).mean())\n",
    "print('Damage for second round:', (pally_attack + pally_attack2 + pam_attack).mean())"
   ]
  },
  {
   "cell_type": "code",
   "execution_count": 34,
   "metadata": {},
   "outputs": [
    {
     "name": "stdout",
     "output_type": "stream",
     "text": [
      "Chace to be hit 0.2512\n",
      "Wisdom saving throw success: 0.6517\n",
      "Dex saving throw success: 0.3972\n",
      "Edritch blast round: 28.3892\n",
      "Magic stone round: 38.684\n",
      "Damage for first round: 38.2526\n",
      "Damage for second round: 51.295\n"
     ]
    }
   ],
   "source": [
    "level = 14\n",
    "ability_score = 5\n",
    "melee_weapon = Dice(1,6)+Dice(1,8)\n",
    "smite = Dice(2,8)\n",
    "to_hit = dnd.proficency_bonus(level)+ability_score\n",
    "bonus_damage = ability_score*2\n",
    "adv = {'advantage':True, 'crit_on':19}\n",
    "enemy_ac = dnd.get_AC(level)\n",
    "attackers_disadvantage = True\n",
    "\n",
    "pally_attack = dnd.roll_damage(enemy_ac, to_hit, melee_weapon, bonus_damage=bonus_damage, crit_added_damage_dice=smite, **adv)\n",
    "eldrith_blast = dnd.roll_damage(enemy_ac, to_hit, Dice(3,10)+Dice(3,6), bonus_damage=ability_score*3) \n",
    "normal_skele = dnd.roll_damage(enemy_ac, 2, Dice(3,6), bonus_damage=2) \n",
    "\n",
    "magic_stone = dnd.roll_damage(enemy_ac, to_hit, Dice(3,6), bonus_damage=ability_score*3)\n",
    "magic_stone_eldrith_blast = dnd.roll_damage(enemy_ac, to_hit, Dice(3,10), bonus_damage=ability_score*3) \n",
    "\n",
    "pally_attack2 = dnd.roll_damage(enemy_ac, to_hit, melee_weapon, bonus_damage=bonus_damage, crit_added_damage_dice=smite, **adv)\n",
    "pam_attack = dnd.roll_damage(enemy_ac, to_hit, Dice(1,4), bonus_damage=bonus_damage, crit_added_damage_dice=smite, **adv)\n",
    "\n",
    "wis_saving_throw = dnd.spell_save(-1 + ability_score + dnd.proficency_bonus(level), 10+level/2)\n",
    "dex_saving_throw = dnd.spell_save(-1 + ability_score, 10+level/2)\n",
    "\n",
    "chance_to_be_hit = (dnd.roll_damage(21, dnd.attack_bonus(level), Dice(1,2), disadvantage=attackers_disadvantage) > 0).mean()\n",
    "\n",
    "print('Chace to be hit', chance_to_be_hit)\n",
    "print('Wisdom saving throw success:', wis_saving_throw.mean())\n",
    "print('Dex saving throw success:',dex_saving_throw.mean())\n",
    "\n",
    "print('Edritch blast round:', eldrith_blast.mean())\n",
    "print('Magic stone round:', (magic_stone_eldrith_blast+magic_stone).mean())\n",
    "print('Damage for first round:', (pally_attack + pally_attack2).mean())\n",
    "print('Damage for second round:', (pally_attack + pally_attack2 + pam_attack).mean())"
   ]
  },
  {
   "cell_type": "code",
   "execution_count": 91,
   "metadata": {},
   "outputs": [
    {
     "name": "stdout",
     "output_type": "stream",
     "text": [
      "probablity to lose concentration (attack) 0.20191420000000004\n",
      "probablity to lose concentration (dex save) 0.3551165\n"
     ]
    }
   ],
   "source": [
    "damage = 50.0 \n",
    "level = 15\n",
    "con = 8 \n",
    "dex = 4\n",
    "chance_to_be_hit = (dnd.roll_damage(21, dnd.attack_bonus(level), Dice(1,2), disadvantage=True) > 0).mean()\n",
    "\n",
    "spell_save = dnd.advantage_roll(advantage=False, disadvantage=False, num_simulations=4000)\n",
    "\n",
    "fail_spell_save = (19 > (dex + spell_save)).mean()\n",
    "\n",
    "con_save = dnd.advantage_roll(advantage=False, disadvantage=False, num_simulations=4000)\n",
    "con_DC = max(10.0, damage/2.0)\n",
    "fail_con_check = (con_DC > (con_save+con)).mean() \n",
    "\n",
    "print('probablity to lose concentration (attack)', chance_to_be_hit * fail_con_check)\n",
    "print('probablity to lose concentration (dex save)', fail_spell_save * fail_con_check)"
   ]
  },
  {
   "cell_type": "code",
   "execution_count": 92,
   "metadata": {},
   "outputs": [
    {
     "name": "stdout",
     "output_type": "stream",
     "text": [
      "Chace to be hit 0.5423\n",
      "Wisdom saving throw success: 0.5462\n",
      "Dex saving throw success: 0.2522\n",
      "Edritch blast round: 28.2727\n",
      "Magic stone round: 38.1506\n",
      "Damage for first round: 26.997\n",
      "Damage for second round: 36.2165\n"
     ]
    }
   ],
   "source": [
    "level = 20\n",
    "ability_score = 5\n",
    "melee_weapon = Dice(1,6)+Dice(1,8)\n",
    "smite = Dice(2,8)\n",
    "to_hit = dnd.proficency_bonus(level)+ability_score\n",
    "bonus_damage = ability_score*2\n",
    "adv = {'advantage':False, 'crit_on':19}\n",
    "enemy_ac = dnd.get_AC(level)\n",
    "attackers_disadvantage = False\n",
    "\n",
    "pally_attack = dnd.roll_damage(enemy_ac, to_hit, melee_weapon, bonus_damage=bonus_damage, crit_added_damage_dice=smite, **adv)\n",
    "eldrith_blast = dnd.roll_damage(enemy_ac, to_hit, Dice(3,10)+Dice(3,6), bonus_damage=ability_score*3) \n",
    "normal_skele = dnd.roll_damage(enemy_ac, 2, Dice(3,6), bonus_damage=2) \n",
    "\n",
    "magic_stone = dnd.roll_damage(enemy_ac, to_hit, Dice(3,6), bonus_damage=ability_score*3)\n",
    "magic_stone_eldrith_blast = dnd.roll_damage(enemy_ac, to_hit, Dice(3,10), bonus_damage=ability_score*3) \n",
    "\n",
    "pally_attack2 = dnd.roll_damage(enemy_ac, to_hit, melee_weapon, bonus_damage=bonus_damage, crit_added_damage_dice=smite, **adv)\n",
    "pam_attack = dnd.roll_damage(enemy_ac, to_hit, Dice(1,4), bonus_damage=bonus_damage, crit_added_damage_dice=smite, **adv)\n",
    "\n",
    "wis_saving_throw = dnd.spell_save(-1 + ability_score + dnd.proficency_bonus(level), 10+level/2)\n",
    "dex_saving_throw = dnd.spell_save(-1 + ability_score, 10+level/2)\n",
    "\n",
    "chance_to_be_hit = (dnd.roll_damage(21, dnd.attack_bonus(level), Dice(1,2), disadvantage=attackers_disadvantage) > 0).mean()\n",
    "\n",
    "print('Chace to be hit', chance_to_be_hit)\n",
    "print('Wisdom saving throw success:', wis_saving_throw.mean())\n",
    "print('Dex saving throw success:',dex_saving_throw.mean())\n",
    "\n",
    "print('Edritch blast round:', eldrith_blast.mean())\n",
    "print('Magic stone round:', (magic_stone_eldrith_blast+magic_stone).mean())\n",
    "print('Damage for first round:', (pally_attack + pally_attack2).mean())\n",
    "print('Damage for second round:', (pally_attack + pally_attack2 + pam_attack).mean())"
   ]
  }
 ],
 "metadata": {
  "kernelspec": {
   "display_name": "Python 3",
   "language": "python",
   "name": "python3"
  },
  "language_info": {
   "codemirror_mode": {
    "name": "ipython",
    "version": 3
   },
   "file_extension": ".py",
   "mimetype": "text/x-python",
   "name": "python",
   "nbconvert_exporter": "python",
   "pygments_lexer": "ipython3",
   "version": "3.11.7"
  },
  "orig_nbformat": 4
 },
 "nbformat": 4,
 "nbformat_minor": 2
}
