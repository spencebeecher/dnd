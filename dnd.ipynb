{
 "cells": [
  {
   "cell_type": "code",
   "execution_count": 871,
   "metadata": {},
   "outputs": [],
   "source": [
    "from importlib import reload\n",
    "\n",
    "import dnd\n",
    "reload(dnd)\n",
    "import pandas as pd\n",
    "from dnd import DiceRoll as dr\n",
    "\n",
    "import numpy as np"
   ]
  },
  {
   "cell_type": "code",
   "execution_count": 876,
   "metadata": {},
   "outputs": [
    {
     "name": "stdout",
     "output_type": "stream",
     "text": [
      "Chace to be hit 0.3523\n",
      "Wisdom saving throw: 0.6516\n",
      "Dex saving throw: 0.4975\n",
      "Damage per round: 10.3398\n"
     ]
    }
   ],
   "source": [
    "level = 6\n",
    "AS = 2\n",
    "melee_weapon = dr(1,6)\n",
    "smite = dr(2,8)\n",
    "to_hit = dnd.proficency_bonus(level)+AS\n",
    "bonus_damage = AS\n",
    "\n",
    "pally_attack = dnd.roll_damage(dnd.get_AC(level), to_hit, melee_weapon, bonus_damage=bonus_damage, crit_added_damage_dice=smite)\n",
    "pally_attack2 = dnd.roll_damage(dnd.get_AC(level), to_hit, melee_weapon, bonus_damage, crit_added_damage_dice=smite)\n",
    "pam_attack = dnd.roll_damage(dnd.get_AC(level), to_hit, dr(1,4), bonus_damage, crit_added_damage_dice=smite)\n",
    "\n",
    "lvl_6_pally = pally_attack + pally_attack2 + pam_attack\n",
    "\n",
    "wis_saving_throw = dnd.spell_save(-1 + 3 + dnd.proficency_bonus(level), 10+level/2)\n",
    "dex_saving_throw = dnd.spell_save(-1 + 3, 10+level/2)\n",
    "\n",
    "chance_to_be_hit = (dnd.roll_damage(21, dnd.attack_bonus(level), dr(1,2)) > 0).mean()\n",
    "\n",
    "print('Chace to be hit', chance_to_be_hit)\n",
    "print('Wisdom saving throw:', wis_saving_throw.mean())\n",
    "print('Dex saving throw:',dex_saving_throw.mean())\n",
    "\n",
    "print('Damage per round:', lvl_6_pally.mean())"
   ]
  },
  {
   "cell_type": "code",
   "execution_count": 883,
   "metadata": {},
   "outputs": [
    {
     "name": "stdout",
     "output_type": "stream",
     "text": [
      "Chace to be hit 0.3471\n",
      "Wisdom saving throw: 0.5519\n",
      "Dex saving throw: 0.3899\n",
      "Damage for first round: 10.6975\n",
      "Damage for second round: 15.443\n"
     ]
    }
   ],
   "source": [
    "level = 7\n",
    "AS = 2\n",
    "melee_weapon = dr(1,6)\n",
    "smite = dr(2,8)\n",
    "to_hit = dnd.proficency_bonus(level)+AS\n",
    "bonus_damage = AS+3\n",
    "\n",
    "pally_attack = dnd.roll_damage(dnd.get_AC(level), to_hit, melee_weapon, bonus_damage=bonus_damage, crit_added_damage_dice=smite)\n",
    "pally_attack2 = dnd.roll_damage(dnd.get_AC(level), to_hit, melee_weapon, bonus_damage, crit_added_damage_dice=smite)\n",
    "pam_attack = dnd.roll_damage(dnd.get_AC(level), to_hit, dr(1,4), bonus_damage, crit_added_damage_dice=smite)\n",
    "\n",
    "wis_saving_throw = dnd.spell_save(-1 + AS + dnd.proficency_bonus(level), 10+level/2)\n",
    "dex_saving_throw = dnd.spell_save(-1 + AS, 10+level/2)\n",
    "\n",
    "chance_to_be_hit = (dnd.roll_damage(21, dnd.attack_bonus(level), dr(1,2)) > 0).mean()\n",
    "\n",
    "print('Chace to be hit', chance_to_be_hit)\n",
    "print('Wisdom saving throw:', wis_saving_throw.mean())\n",
    "print('Dex saving throw:',dex_saving_throw.mean())\n",
    "\n",
    "print('Damage for first round:', (pally_attack + pally_attack2).mean())\n",
    "print('Damage for second round:', (pally_attack + pally_attack2 + pam_attack).mean())"
   ]
  },
  {
   "cell_type": "code",
   "execution_count": 884,
   "metadata": {},
   "outputs": [
    {
     "name": "stdout",
     "output_type": "stream",
     "text": [
      "Chace to be hit 0.344\n",
      "Wisdom saving throw: 0.5979\n",
      "Dex saving throw: 0.45\n",
      "Edritch blast round: 9.2859\n",
      "Damage for first round: 13.6039\n",
      "Damage for second round: 17.4907\n"
     ]
    }
   ],
   "source": [
    "level = 7\n",
    "AS = 3\n",
    "melee_weapon = dr(2,6)\n",
    "smite = dr(2,8)\n",
    "to_hit = dnd.proficency_bonus(level)+AS\n",
    "bonus_damage = AS\n",
    "adv = {}#{'advantage':True, 'crit_on':19}\n",
    "\n",
    "pally_attack = dnd.roll_damage(dnd.get_AC(level), to_hit, melee_weapon, bonus_damage=bonus_damage, crit_added_damage_dice=smite, **adv)\n",
    "eldrith_blast = dnd.roll_damage(dnd.get_AC(level), to_hit, dr(2,10)+dr(1,6))\n",
    "pally_attack2 = dnd.roll_damage(dnd.get_AC(level), to_hit, melee_weapon, bonus_damage, crit_added_damage_dice=smite, **adv)\n",
    "pam_attack = dnd.roll_damage(dnd.get_AC(level), to_hit, dr(1,4), bonus_damage, crit_added_damage_dice=smite, **adv)\n",
    "\n",
    "wis_saving_throw = dnd.spell_save(-1 + AS + dnd.proficency_bonus(level), 10+level/2)\n",
    "dex_saving_throw = dnd.spell_save(-1 + AS, 10+level/2)\n",
    "\n",
    "chance_to_be_hit = (dnd.roll_damage(21, dnd.attack_bonus(level), dr(1,2)) > 0).mean()\n",
    "\n",
    "print('Chace to be hit', chance_to_be_hit)\n",
    "print('Wisdom saving throw:', wis_saving_throw.mean())\n",
    "print('Dex saving throw:',dex_saving_throw.mean())\n",
    "\n",
    "print('Edritch blast round:', eldrith_blast.mean())\n",
    "print('Damage for first round:', (pally_attack + pally_attack2).mean())\n",
    "print('Damage for second round:', (pally_attack + pally_attack2 + pam_attack).mean())"
   ]
  },
  {
   "cell_type": "code",
   "execution_count": 885,
   "metadata": {},
   "outputs": [
    {
     "name": "stdout",
     "output_type": "stream",
     "text": [
      "Chace to be hit 0.4059\n",
      "Wisdom saving throw: 0.6025\n",
      "Dex saving throw: 0.4451\n",
      "Edritch blast round: 8.8431\n",
      "Damage for first round: 15.8056\n",
      "Damage for second round: 21.1745\n"
     ]
    }
   ],
   "source": [
    "level = 8\n",
    "AS = 3\n",
    "melee_weapon = dr(2,6)\n",
    "smite = dr(2,8)\n",
    "to_hit = dnd.proficency_bonus(level)+AS\n",
    "bonus_damage = AS*2\n",
    "adv = {}#{'advantage':True, 'crit_on':19}\n",
    "\n",
    "pally_attack = dnd.roll_damage(dnd.get_AC(level), to_hit, melee_weapon, bonus_damage=bonus_damage, crit_added_damage_dice=smite, **adv)\n",
    "eldrith_blast = dnd.roll_damage(dnd.get_AC(level), to_hit, dr(2,10)+dr(1,6))\n",
    "pally_attack2 = dnd.roll_damage(dnd.get_AC(level), to_hit, melee_weapon, bonus_damage, crit_added_damage_dice=smite, **adv)\n",
    "pam_attack = dnd.roll_damage(dnd.get_AC(level), to_hit, dr(1,4), bonus_damage, crit_added_damage_dice=smite, **adv)\n",
    "\n",
    "wis_saving_throw = dnd.spell_save(-1 + AS + dnd.proficency_bonus(level), 10+level/2)\n",
    "dex_saving_throw = dnd.spell_save(-1 + AS, 10+level/2)\n",
    "\n",
    "chance_to_be_hit = (dnd.roll_damage(21, dnd.attack_bonus(level), dr(1,2)) > 0).mean()\n",
    "\n",
    "print('Chace to be hit', chance_to_be_hit)\n",
    "print('Wisdom saving throw:', wis_saving_throw.mean())\n",
    "print('Dex saving throw:',dex_saving_throw.mean())\n",
    "\n",
    "print('Edritch blast round:', eldrith_blast.mean())\n",
    "print('Damage for first round:', (pally_attack + pally_attack2).mean())\n",
    "print('Damage for second round:', (pally_attack + pally_attack2 + pam_attack).mean())"
   ]
  },
  {
   "cell_type": "code",
   "execution_count": 886,
   "metadata": {},
   "outputs": [
    {
     "name": "stdout",
     "output_type": "stream",
     "text": [
      "Chace to be hit 0.4611\n",
      "Wisdom saving throw: 0.6478\n",
      "Dex saving throw: 0.4489\n",
      "Edritch blast round: 12.6614\n",
      "Damage for first round: 21.0933\n",
      "Damage for second round: 28.5174\n"
     ]
    }
   ],
   "source": [
    "level = 9\n",
    "AS = 4\n",
    "melee_weapon = dr(2,6)\n",
    "smite = dr(2,8)\n",
    "to_hit = dnd.proficency_bonus(level)+AS\n",
    "bonus_damage = AS*2\n",
    "adv = {}#{'advantage':True, 'crit_on':19}\n",
    "\n",
    "pally_attack = dnd.roll_damage(dnd.get_AC(level), to_hit, melee_weapon, bonus_damage=bonus_damage, crit_added_damage_dice=smite, **adv)\n",
    "eldrith_blast = dnd.roll_damage(dnd.get_AC(level), to_hit, dr(2,10)+dr(2,6))\n",
    "pally_attack2 = dnd.roll_damage(dnd.get_AC(level), to_hit, melee_weapon, bonus_damage, crit_added_damage_dice=smite, **adv)\n",
    "pam_attack = dnd.roll_damage(dnd.get_AC(level), to_hit, dr(1,4), bonus_damage, crit_added_damage_dice=smite, **adv)\n",
    "\n",
    "wis_saving_throw = dnd.spell_save(-1 + AS + dnd.proficency_bonus(level), 10+level/2)\n",
    "dex_saving_throw = dnd.spell_save(-1 + AS, 10+level/2)\n",
    "\n",
    "chance_to_be_hit = (dnd.roll_damage(21, dnd.attack_bonus(level), dr(1,2)) > 0).mean()\n",
    "\n",
    "print('Chace to be hit', chance_to_be_hit)\n",
    "print('Wisdom saving throw:', wis_saving_throw.mean())\n",
    "print('Dex saving throw:',dex_saving_throw.mean())\n",
    "\n",
    "print('Edritch blast round:', eldrith_blast.mean())\n",
    "print('Damage for first round:', (pally_attack + pally_attack2).mean())\n",
    "print('Damage for second round:', (pally_attack + pally_attack2 + pam_attack).mean())"
   ]
  },
  {
   "cell_type": "code",
   "execution_count": 887,
   "metadata": {},
   "outputs": [
    {
     "name": "stdout",
     "output_type": "stream",
     "text": [
      "Chace to be hit 0.4593\n",
      "Wisdom saving throw: 0.65\n",
      "Dex saving throw: 0.446\n",
      "Edritch blast round: 16.5467\n",
      "Damage for first round: 19.5937\n",
      "Damage for second round: 26.5229\n"
     ]
    }
   ],
   "source": [
    "level = 10\n",
    "AS = 4\n",
    "melee_weapon = dr(2,6)\n",
    "smite = dr(2,8)\n",
    "to_hit = dnd.proficency_bonus(level)+AS\n",
    "bonus_damage = AS*2\n",
    "adv = {}#{'advantage':True, 'crit_on':19}\n",
    "\n",
    "pally_attack = dnd.roll_damage(dnd.get_AC(level), to_hit, melee_weapon, bonus_damage=bonus_damage, crit_added_damage_dice=smite, **adv)\n",
    "eldrith_blast = dnd.roll_damage(dnd.get_AC(level), to_hit, dr(2,10)+dr(2,6), bonus_damage=AS*2) \n",
    "pally_attack2 = dnd.roll_damage(dnd.get_AC(level), to_hit, melee_weapon, bonus_damage, crit_added_damage_dice=smite, **adv)\n",
    "pam_attack = dnd.roll_damage(dnd.get_AC(level), to_hit, dr(1,4), bonus_damage, crit_added_damage_dice=smite, **adv)\n",
    "\n",
    "wis_saving_throw = dnd.spell_save(-1 + AS + dnd.proficency_bonus(level), 10+level/2)\n",
    "dex_saving_throw = dnd.spell_save(-1 + AS, 10+level/2)\n",
    "\n",
    "chance_to_be_hit = (dnd.roll_damage(21, dnd.attack_bonus(level), dr(1,2)) > 0).mean()\n",
    "\n",
    "print('Chace to be hit', chance_to_be_hit)\n",
    "print('Wisdom saving throw:', wis_saving_throw.mean())\n",
    "print('Dex saving throw:',dex_saving_throw.mean())\n",
    "\n",
    "print('Edritch blast round:', eldrith_blast.mean())\n",
    "print('Damage for first round:', (pally_attack + pally_attack2).mean())\n",
    "print('Damage for second round:', (pally_attack + pally_attack2 + pam_attack).mean())"
   ]
  },
  {
   "cell_type": "code",
   "execution_count": 888,
   "metadata": {},
   "outputs": [
    {
     "name": "stdout",
     "output_type": "stream",
     "text": [
      "Chace to be hit 0.4993\n",
      "Wisdom saving throw: 0.6573\n",
      "Dex saving throw: 0.3915\n",
      "Edritch blast round: 18.8401\n",
      "Damage for first round: 29.9548\n",
      "Damage for second round: 38.6185\n"
     ]
    }
   ],
   "source": [
    "level = 14\n",
    "AS = 5\n",
    "melee_weapon = dr(2,6)+dr(1,8)\n",
    "smite = dr(2,8)\n",
    "to_hit = dnd.proficency_bonus(level)+AS\n",
    "bonus_damage = AS*2\n",
    "adv = {}#{'advantage':True, 'crit_on':19}\n",
    "\n",
    "pally_attack = dnd.roll_damage(dnd.get_AC(level), to_hit, melee_weapon, bonus_damage=bonus_damage, crit_added_damage_dice=smite, **adv)\n",
    "eldrith_blast = dnd.roll_damage(dnd.get_AC(level), to_hit, dr(2,10)+dr(2,6), bonus_damage=AS*2) \n",
    "pally_attack2 = dnd.roll_damage(dnd.get_AC(level), to_hit, melee_weapon, bonus_damage, crit_added_damage_dice=smite, **adv)\n",
    "pam_attack = dnd.roll_damage(dnd.get_AC(level), to_hit, dr(1,4), bonus_damage, crit_added_damage_dice=smite, **adv)\n",
    "\n",
    "wis_saving_throw = dnd.spell_save(-1 + AS + dnd.proficency_bonus(level), 10+level/2)\n",
    "dex_saving_throw = dnd.spell_save(-1 + AS, 10+level/2)\n",
    "\n",
    "chance_to_be_hit = (dnd.roll_damage(21, dnd.attack_bonus(level), dr(1,2)) > 0).mean()\n",
    "\n",
    "print('Chace to be hit', chance_to_be_hit)\n",
    "print('Wisdom saving throw:', wis_saving_throw.mean())\n",
    "print('Dex saving throw:',dex_saving_throw.mean())\n",
    "\n",
    "print('Edritch blast round:', eldrith_blast.mean())\n",
    "print('Damage for first round:', (pally_attack + pally_attack2).mean())\n",
    "print('Damage for second round:', (pally_attack + pally_attack2 + pam_attack).mean())"
   ]
  }
 ],
 "metadata": {
  "kernelspec": {
   "display_name": "Python 3",
   "language": "python",
   "name": "python3"
  },
  "language_info": {
   "codemirror_mode": {
    "name": "ipython",
    "version": 3
   },
   "file_extension": ".py",
   "mimetype": "text/x-python",
   "name": "python",
   "nbconvert_exporter": "python",
   "pygments_lexer": "ipython3",
   "version": "3.9.6"
  },
  "orig_nbformat": 4
 },
 "nbformat": 4,
 "nbformat_minor": 2
}
