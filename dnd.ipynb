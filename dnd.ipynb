{
 "cells": [
  {
   "cell_type": "code",
   "execution_count": 48,
   "metadata": {},
   "outputs": [],
   "source": [
    "from importlib import reload\n",
    "import matplotlib.pyplot as plt\n",
    "import dnd\n",
    "reload(dnd)\n",
    "from dnd import Dice\n",
    "\n",
    "import pandas as pd\n",
    "import numpy as np"
   ]
  },
  {
   "cell_type": "code",
   "execution_count": 14,
   "metadata": {},
   "outputs": [
    {
     "data": {
      "text/html": [
       "<div>\n",
       "<style scoped>\n",
       "    .dataframe tbody tr th:only-of-type {\n",
       "        vertical-align: middle;\n",
       "    }\n",
       "\n",
       "    .dataframe tbody tr th {\n",
       "        vertical-align: top;\n",
       "    }\n",
       "\n",
       "    .dataframe thead th {\n",
       "        text-align: right;\n",
       "    }\n",
       "</style>\n",
       "<table border=\"1\" class=\"dataframe\">\n",
       "  <thead>\n",
       "    <tr style=\"text-align: right;\">\n",
       "      <th></th>\n",
       "      <th>Level_CR</th>\n",
       "      <th>Abl</th>\n",
       "      <th>Prof</th>\n",
       "      <th>Total</th>\n",
       "      <th>AC</th>\n",
       "      <th>Hit_Pcnt</th>\n",
       "    </tr>\n",
       "  </thead>\n",
       "  <tbody>\n",
       "    <tr>\n",
       "      <th>0</th>\n",
       "      <td>1</td>\n",
       "      <td>3</td>\n",
       "      <td>2</td>\n",
       "      <td>5</td>\n",
       "      <td>13</td>\n",
       "      <td>65</td>\n",
       "    </tr>\n",
       "    <tr>\n",
       "      <th>1</th>\n",
       "      <td>2</td>\n",
       "      <td>3</td>\n",
       "      <td>2</td>\n",
       "      <td>5</td>\n",
       "      <td>13</td>\n",
       "      <td>65</td>\n",
       "    </tr>\n",
       "    <tr>\n",
       "      <th>2</th>\n",
       "      <td>3</td>\n",
       "      <td>3</td>\n",
       "      <td>2</td>\n",
       "      <td>5</td>\n",
       "      <td>13</td>\n",
       "      <td>65</td>\n",
       "    </tr>\n",
       "    <tr>\n",
       "      <th>3</th>\n",
       "      <td>4</td>\n",
       "      <td>4</td>\n",
       "      <td>2</td>\n",
       "      <td>6</td>\n",
       "      <td>14</td>\n",
       "      <td>65</td>\n",
       "    </tr>\n",
       "    <tr>\n",
       "      <th>4</th>\n",
       "      <td>5</td>\n",
       "      <td>4</td>\n",
       "      <td>3</td>\n",
       "      <td>7</td>\n",
       "      <td>15</td>\n",
       "      <td>65</td>\n",
       "    </tr>\n",
       "    <tr>\n",
       "      <th>5</th>\n",
       "      <td>6</td>\n",
       "      <td>4</td>\n",
       "      <td>3</td>\n",
       "      <td>7</td>\n",
       "      <td>15</td>\n",
       "      <td>65</td>\n",
       "    </tr>\n",
       "    <tr>\n",
       "      <th>6</th>\n",
       "      <td>7</td>\n",
       "      <td>4</td>\n",
       "      <td>3</td>\n",
       "      <td>7</td>\n",
       "      <td>15</td>\n",
       "      <td>65</td>\n",
       "    </tr>\n",
       "    <tr>\n",
       "      <th>7</th>\n",
       "      <td>8</td>\n",
       "      <td>5</td>\n",
       "      <td>3</td>\n",
       "      <td>8</td>\n",
       "      <td>16</td>\n",
       "      <td>65</td>\n",
       "    </tr>\n",
       "    <tr>\n",
       "      <th>8</th>\n",
       "      <td>9</td>\n",
       "      <td>5</td>\n",
       "      <td>4</td>\n",
       "      <td>9</td>\n",
       "      <td>16</td>\n",
       "      <td>70</td>\n",
       "    </tr>\n",
       "    <tr>\n",
       "      <th>9</th>\n",
       "      <td>10</td>\n",
       "      <td>5</td>\n",
       "      <td>4</td>\n",
       "      <td>9</td>\n",
       "      <td>17</td>\n",
       "      <td>65</td>\n",
       "    </tr>\n",
       "    <tr>\n",
       "      <th>10</th>\n",
       "      <td>11</td>\n",
       "      <td>5</td>\n",
       "      <td>4</td>\n",
       "      <td>9</td>\n",
       "      <td>17</td>\n",
       "      <td>65</td>\n",
       "    </tr>\n",
       "    <tr>\n",
       "      <th>11</th>\n",
       "      <td>12</td>\n",
       "      <td>5</td>\n",
       "      <td>4</td>\n",
       "      <td>9</td>\n",
       "      <td>17</td>\n",
       "      <td>65</td>\n",
       "    </tr>\n",
       "    <tr>\n",
       "      <th>12</th>\n",
       "      <td>13</td>\n",
       "      <td>5</td>\n",
       "      <td>5</td>\n",
       "      <td>10</td>\n",
       "      <td>18</td>\n",
       "      <td>65</td>\n",
       "    </tr>\n",
       "    <tr>\n",
       "      <th>13</th>\n",
       "      <td>14</td>\n",
       "      <td>5</td>\n",
       "      <td>5</td>\n",
       "      <td>10</td>\n",
       "      <td>18</td>\n",
       "      <td>65</td>\n",
       "    </tr>\n",
       "    <tr>\n",
       "      <th>14</th>\n",
       "      <td>15</td>\n",
       "      <td>5</td>\n",
       "      <td>5</td>\n",
       "      <td>10</td>\n",
       "      <td>18</td>\n",
       "      <td>65</td>\n",
       "    </tr>\n",
       "    <tr>\n",
       "      <th>15</th>\n",
       "      <td>16</td>\n",
       "      <td>5</td>\n",
       "      <td>5</td>\n",
       "      <td>10</td>\n",
       "      <td>18</td>\n",
       "      <td>65</td>\n",
       "    </tr>\n",
       "    <tr>\n",
       "      <th>16</th>\n",
       "      <td>17</td>\n",
       "      <td>5</td>\n",
       "      <td>6</td>\n",
       "      <td>11</td>\n",
       "      <td>19</td>\n",
       "      <td>65</td>\n",
       "    </tr>\n",
       "    <tr>\n",
       "      <th>17</th>\n",
       "      <td>18</td>\n",
       "      <td>5</td>\n",
       "      <td>6</td>\n",
       "      <td>11</td>\n",
       "      <td>19</td>\n",
       "      <td>65</td>\n",
       "    </tr>\n",
       "    <tr>\n",
       "      <th>18</th>\n",
       "      <td>19</td>\n",
       "      <td>5</td>\n",
       "      <td>6</td>\n",
       "      <td>11</td>\n",
       "      <td>19</td>\n",
       "      <td>65</td>\n",
       "    </tr>\n",
       "    <tr>\n",
       "      <th>19</th>\n",
       "      <td>20</td>\n",
       "      <td>5</td>\n",
       "      <td>6</td>\n",
       "      <td>11</td>\n",
       "      <td>19</td>\n",
       "      <td>65</td>\n",
       "    </tr>\n",
       "  </tbody>\n",
       "</table>\n",
       "</div>"
      ],
      "text/plain": [
       "    Level_CR  Abl  Prof  Total  AC  Hit_Pcnt\n",
       "0          1    3     2      5  13        65\n",
       "1          2    3     2      5  13        65\n",
       "2          3    3     2      5  13        65\n",
       "3          4    4     2      6  14        65\n",
       "4          5    4     3      7  15        65\n",
       "5          6    4     3      7  15        65\n",
       "6          7    4     3      7  15        65\n",
       "7          8    5     3      8  16        65\n",
       "8          9    5     4      9  16        70\n",
       "9         10    5     4      9  17        65\n",
       "10        11    5     4      9  17        65\n",
       "11        12    5     4      9  17        65\n",
       "12        13    5     5     10  18        65\n",
       "13        14    5     5     10  18        65\n",
       "14        15    5     5     10  18        65\n",
       "15        16    5     5     10  18        65\n",
       "16        17    5     6     11  19        65\n",
       "17        18    5     6     11  19        65\n",
       "18        19    5     6     11  19        65\n",
       "19        20    5     6     11  19        65"
      ]
     },
     "execution_count": 14,
     "metadata": {},
     "output_type": "execute_result"
    }
   ],
   "source": [
    "dnd.fundamental_math()"
   ]
  },
  {
   "cell_type": "code",
   "execution_count": 15,
   "metadata": {},
   "outputs": [
    {
     "data": {
      "text/html": [
       "<div>\n",
       "<style scoped>\n",
       "    .dataframe tbody tr th:only-of-type {\n",
       "        vertical-align: middle;\n",
       "    }\n",
       "\n",
       "    .dataframe tbody tr th {\n",
       "        vertical-align: top;\n",
       "    }\n",
       "\n",
       "    .dataframe thead th {\n",
       "        text-align: right;\n",
       "    }\n",
       "</style>\n",
       "<table border=\"1\" class=\"dataframe\">\n",
       "  <thead>\n",
       "    <tr style=\"text-align: right;\">\n",
       "      <th></th>\n",
       "      <th>Level_CR</th>\n",
       "      <th>Max Expected_HP</th>\n",
       "      <th>Low_DPR</th>\n",
       "      <th>Target_DPR</th>\n",
       "      <th>High_DPR</th>\n",
       "      <th>Dude_Stop</th>\n",
       "      <th>Warlock</th>\n",
       "      <th>TWF_Rogue</th>\n",
       "    </tr>\n",
       "  </thead>\n",
       "  <tbody>\n",
       "    <tr>\n",
       "      <th>0</th>\n",
       "      <td>1</td>\n",
       "      <td>85</td>\n",
       "      <td>3.5</td>\n",
       "      <td>7.1</td>\n",
       "      <td>14.2</td>\n",
       "      <td>28.3</td>\n",
       "      <td>6.30</td>\n",
       "      <td>10.47</td>\n",
       "    </tr>\n",
       "    <tr>\n",
       "      <th>1</th>\n",
       "      <td>2</td>\n",
       "      <td>100</td>\n",
       "      <td>4.2</td>\n",
       "      <td>8.3</td>\n",
       "      <td>16.7</td>\n",
       "      <td>33.3</td>\n",
       "      <td>8.25</td>\n",
       "      <td>10.47</td>\n",
       "    </tr>\n",
       "    <tr>\n",
       "      <th>2</th>\n",
       "      <td>3</td>\n",
       "      <td>115</td>\n",
       "      <td>4.8</td>\n",
       "      <td>9.6</td>\n",
       "      <td>19.2</td>\n",
       "      <td>38.3</td>\n",
       "      <td>8.25</td>\n",
       "      <td>14.10</td>\n",
       "    </tr>\n",
       "    <tr>\n",
       "      <th>3</th>\n",
       "      <td>4</td>\n",
       "      <td>130</td>\n",
       "      <td>5.4</td>\n",
       "      <td>10.8</td>\n",
       "      <td>21.7</td>\n",
       "      <td>43.3</td>\n",
       "      <td>8.90</td>\n",
       "      <td>14.75</td>\n",
       "    </tr>\n",
       "    <tr>\n",
       "      <th>4</th>\n",
       "      <td>5</td>\n",
       "      <td>145</td>\n",
       "      <td>6.0</td>\n",
       "      <td>12.1</td>\n",
       "      <td>24.2</td>\n",
       "      <td>48.3</td>\n",
       "      <td>17.80</td>\n",
       "      <td>18.37</td>\n",
       "    </tr>\n",
       "    <tr>\n",
       "      <th>5</th>\n",
       "      <td>6</td>\n",
       "      <td>160</td>\n",
       "      <td>6.7</td>\n",
       "      <td>13.3</td>\n",
       "      <td>26.7</td>\n",
       "      <td>53.3</td>\n",
       "      <td>17.80</td>\n",
       "      <td>18.37</td>\n",
       "    </tr>\n",
       "    <tr>\n",
       "      <th>6</th>\n",
       "      <td>7</td>\n",
       "      <td>175</td>\n",
       "      <td>7.3</td>\n",
       "      <td>14.6</td>\n",
       "      <td>29.2</td>\n",
       "      <td>58.3</td>\n",
       "      <td>17.80</td>\n",
       "      <td>21.99</td>\n",
       "    </tr>\n",
       "    <tr>\n",
       "      <th>7</th>\n",
       "      <td>8</td>\n",
       "      <td>190</td>\n",
       "      <td>7.9</td>\n",
       "      <td>15.8</td>\n",
       "      <td>31.7</td>\n",
       "      <td>63.3</td>\n",
       "      <td>19.10</td>\n",
       "      <td>22.64</td>\n",
       "    </tr>\n",
       "    <tr>\n",
       "      <th>8</th>\n",
       "      <td>9</td>\n",
       "      <td>205</td>\n",
       "      <td>8.5</td>\n",
       "      <td>17.1</td>\n",
       "      <td>34.2</td>\n",
       "      <td>68.3</td>\n",
       "      <td>19.10</td>\n",
       "      <td>26.26</td>\n",
       "    </tr>\n",
       "    <tr>\n",
       "      <th>9</th>\n",
       "      <td>10</td>\n",
       "      <td>220</td>\n",
       "      <td>9.2</td>\n",
       "      <td>18.3</td>\n",
       "      <td>36.7</td>\n",
       "      <td>73.3</td>\n",
       "      <td>19.10</td>\n",
       "      <td>26.26</td>\n",
       "    </tr>\n",
       "    <tr>\n",
       "      <th>10</th>\n",
       "      <td>11</td>\n",
       "      <td>235</td>\n",
       "      <td>9.8</td>\n",
       "      <td>19.6</td>\n",
       "      <td>39.2</td>\n",
       "      <td>78.3</td>\n",
       "      <td>28.65</td>\n",
       "      <td>29.89</td>\n",
       "    </tr>\n",
       "    <tr>\n",
       "      <th>11</th>\n",
       "      <td>12</td>\n",
       "      <td>250</td>\n",
       "      <td>10.4</td>\n",
       "      <td>20.8</td>\n",
       "      <td>41.7</td>\n",
       "      <td>83.3</td>\n",
       "      <td>28.65</td>\n",
       "      <td>29.89</td>\n",
       "    </tr>\n",
       "    <tr>\n",
       "      <th>12</th>\n",
       "      <td>13</td>\n",
       "      <td>265</td>\n",
       "      <td>11.0</td>\n",
       "      <td>22.1</td>\n",
       "      <td>44.2</td>\n",
       "      <td>88.3</td>\n",
       "      <td>28.65</td>\n",
       "      <td>33.51</td>\n",
       "    </tr>\n",
       "    <tr>\n",
       "      <th>13</th>\n",
       "      <td>14</td>\n",
       "      <td>280</td>\n",
       "      <td>11.7</td>\n",
       "      <td>23.3</td>\n",
       "      <td>46.7</td>\n",
       "      <td>93.3</td>\n",
       "      <td>28.65</td>\n",
       "      <td>33.51</td>\n",
       "    </tr>\n",
       "    <tr>\n",
       "      <th>14</th>\n",
       "      <td>15</td>\n",
       "      <td>295</td>\n",
       "      <td>12.3</td>\n",
       "      <td>24.6</td>\n",
       "      <td>49.2</td>\n",
       "      <td>98.3</td>\n",
       "      <td>28.65</td>\n",
       "      <td>37.13</td>\n",
       "    </tr>\n",
       "    <tr>\n",
       "      <th>15</th>\n",
       "      <td>16</td>\n",
       "      <td>310</td>\n",
       "      <td>12.9</td>\n",
       "      <td>25.8</td>\n",
       "      <td>51.7</td>\n",
       "      <td>103.3</td>\n",
       "      <td>28.65</td>\n",
       "      <td>37.13</td>\n",
       "    </tr>\n",
       "    <tr>\n",
       "      <th>16</th>\n",
       "      <td>17</td>\n",
       "      <td>325</td>\n",
       "      <td>13.5</td>\n",
       "      <td>27.1</td>\n",
       "      <td>54.2</td>\n",
       "      <td>108.3</td>\n",
       "      <td>38.20</td>\n",
       "      <td>40.75</td>\n",
       "    </tr>\n",
       "    <tr>\n",
       "      <th>17</th>\n",
       "      <td>18</td>\n",
       "      <td>340</td>\n",
       "      <td>14.2</td>\n",
       "      <td>28.3</td>\n",
       "      <td>56.7</td>\n",
       "      <td>113.3</td>\n",
       "      <td>38.20</td>\n",
       "      <td>40.75</td>\n",
       "    </tr>\n",
       "    <tr>\n",
       "      <th>18</th>\n",
       "      <td>19</td>\n",
       "      <td>355</td>\n",
       "      <td>14.8</td>\n",
       "      <td>29.6</td>\n",
       "      <td>59.2</td>\n",
       "      <td>118.3</td>\n",
       "      <td>38.20</td>\n",
       "      <td>44.38</td>\n",
       "    </tr>\n",
       "    <tr>\n",
       "      <th>19</th>\n",
       "      <td>20</td>\n",
       "      <td>400</td>\n",
       "      <td>16.7</td>\n",
       "      <td>33.3</td>\n",
       "      <td>66.7</td>\n",
       "      <td>133.3</td>\n",
       "      <td>38.20</td>\n",
       "      <td>44.38</td>\n",
       "    </tr>\n",
       "  </tbody>\n",
       "</table>\n",
       "</div>"
      ],
      "text/plain": [
       "    Level_CR  Max Expected_HP  Low_DPR  Target_DPR  High_DPR  Dude_Stop  \\\n",
       "0          1               85      3.5         7.1      14.2       28.3   \n",
       "1          2              100      4.2         8.3      16.7       33.3   \n",
       "2          3              115      4.8         9.6      19.2       38.3   \n",
       "3          4              130      5.4        10.8      21.7       43.3   \n",
       "4          5              145      6.0        12.1      24.2       48.3   \n",
       "5          6              160      6.7        13.3      26.7       53.3   \n",
       "6          7              175      7.3        14.6      29.2       58.3   \n",
       "7          8              190      7.9        15.8      31.7       63.3   \n",
       "8          9              205      8.5        17.1      34.2       68.3   \n",
       "9         10              220      9.2        18.3      36.7       73.3   \n",
       "10        11              235      9.8        19.6      39.2       78.3   \n",
       "11        12              250     10.4        20.8      41.7       83.3   \n",
       "12        13              265     11.0        22.1      44.2       88.3   \n",
       "13        14              280     11.7        23.3      46.7       93.3   \n",
       "14        15              295     12.3        24.6      49.2       98.3   \n",
       "15        16              310     12.9        25.8      51.7      103.3   \n",
       "16        17              325     13.5        27.1      54.2      108.3   \n",
       "17        18              340     14.2        28.3      56.7      113.3   \n",
       "18        19              355     14.8        29.6      59.2      118.3   \n",
       "19        20              400     16.7        33.3      66.7      133.3   \n",
       "\n",
       "    Warlock  TWF_Rogue  \n",
       "0      6.30      10.47  \n",
       "1      8.25      10.47  \n",
       "2      8.25      14.10  \n",
       "3      8.90      14.75  \n",
       "4     17.80      18.37  \n",
       "5     17.80      18.37  \n",
       "6     17.80      21.99  \n",
       "7     19.10      22.64  \n",
       "8     19.10      26.26  \n",
       "9     19.10      26.26  \n",
       "10    28.65      29.89  \n",
       "11    28.65      29.89  \n",
       "12    28.65      33.51  \n",
       "13    28.65      33.51  \n",
       "14    28.65      37.13  \n",
       "15    28.65      37.13  \n",
       "16    38.20      40.75  \n",
       "17    38.20      40.75  \n",
       "18    38.20      44.38  \n",
       "19    38.20      44.38  "
      ]
     },
     "execution_count": 15,
     "metadata": {},
     "output_type": "execute_result"
    }
   ],
   "source": [
    "dnd.damage_targets()"
   ]
  },
  {
   "cell_type": "code",
   "execution_count": 27,
   "metadata": {},
   "outputs": [
    {
     "data": {
      "text/plain": [
       "1d6"
      ]
     },
     "execution_count": 27,
     "metadata": {},
     "output_type": "execute_result"
    }
   ],
   "source": [
    "Dice(1,6)"
   ]
  },
  {
   "cell_type": "code",
   "execution_count": 29,
   "metadata": {},
   "outputs": [
    {
     "data": {
      "text/plain": [
       "12.5"
      ]
     },
     "execution_count": 29,
     "metadata": {},
     "output_type": "execute_result"
    }
   ],
   "source": [
    "(Dice(1,10) + Dice(2,6)).expectation()"
   ]
  },
  {
   "cell_type": "code",
   "execution_count": 35,
   "metadata": {},
   "outputs": [
    {
     "data": {
      "text/plain": [
       "array([7])"
      ]
     },
     "execution_count": 35,
     "metadata": {},
     "output_type": "execute_result"
    }
   ],
   "source": [
    "(Dice(1,10) + Dice(2,6)).roll()"
   ]
  },
  {
   "cell_type": "code",
   "execution_count": 37,
   "metadata": {},
   "outputs": [
    {
     "data": {
      "text/plain": [
       "array([16, 12, 11, 10, 13, 17,  9, 14,  9, 16])"
      ]
     },
     "execution_count": 37,
     "metadata": {},
     "output_type": "execute_result"
    }
   ],
   "source": [
    "(Dice(1,10) + Dice(2,6)).roll(num_simulations=10)"
   ]
  },
  {
   "cell_type": "code",
   "execution_count": 36,
   "metadata": {},
   "outputs": [
    {
     "data": {
      "text/plain": [
       "12.436"
      ]
     },
     "execution_count": 36,
     "metadata": {},
     "output_type": "execute_result"
    }
   ],
   "source": [
    "(Dice(1,10) + Dice(2,6)).roll(num_simulations=1000).mean()"
   ]
  },
  {
   "cell_type": "code",
   "execution_count": null,
   "metadata": {},
   "outputs": [],
   "source": []
  },
  {
   "cell_type": "code",
   "execution_count": 51,
   "metadata": {},
   "outputs": [
    {
     "name": "stdout",
     "output_type": "stream",
     "text": [
      "Chance to hit: 0.5486\n",
      "Damage for per round: 10.2929\n"
     ]
    },
    {
     "data": {
      "text/plain": [
       "Text(0, 0.5, 'count')"
      ]
     },
     "execution_count": 51,
     "metadata": {},
     "output_type": "execute_result"
    },
    {
     "data": {
      "image/png": "[encoded data removed]",
      "text/plain": [
       "<Figure size 640x480 with 1 Axes>"
      ]
     },
     "metadata": {},
     "output_type": "display_data"
    }
   ],
   "source": [
    "import dnd\n",
    "from dnd import Dice\n",
    "\n",
    "level = 6\n",
    "charisma = 3\n",
    "strength = 2\n",
    "\n",
    "pally_attack = dnd.roll_damage(\n",
    "    defender_AC=dnd.get_AC(level), \n",
    "    attack_modifier=dnd.proficency_bonus(level) + strength, \n",
    "    damage_dice=Dice(1,6), \n",
    "    bonus_damage=strength, \n",
    "    crit_added_damage_dice=Dice(2,8), #smite\n",
    "    advantage=False\n",
    ")\n",
    "\n",
    "pam_attack = dnd.roll_damage(\n",
    "    defender_AC=dnd.get_AC(level), \n",
    "    attack_modifier=dnd.proficency_bonus(level) + strength, \n",
    "    damage_dice=Dice(1,4), \n",
    "    bonus_damage=strength, \n",
    "    crit_added_damage_dice=Dice(2,8), #smite\n",
    "    advantage=False\n",
    ")\n",
    "\n",
    "\n",
    "print('Chance to hit:', (pally_attack > 0).mean())\n",
    "print('Damage for per round:', (pally_attack+pally_attack+pam_attack).mean())\n",
    "\n",
    "pd.Series(pally_attack).hist(bins=np.arange(0,30))\n",
    "plt.title(\"Distribution of damage across 10000 attacks\")\n",
    "plt.xlabel(\"damage\")\n",
    "plt.ylabel(\"count\")"
   ]
  },
  {
   "cell_type": "code",
   "execution_count": null,
   "metadata": {},
   "outputs": [],
   "source": []
  },
  {
   "cell_type": "code",
   "execution_count": 17,
   "metadata": {},
   "outputs": [
    {
     "name": "stdout",
     "output_type": "stream",
     "text": [
      "Chace to be hit 0.4939\n",
      "Wisdom saving throw success: 0.5563\n",
      "Dex saving throw success: 0.4036\n",
      "Chance to hit: 0.698\n",
      "Damage for first round: 20.2106\n",
      "Damage for second round: 28.231\n"
     ]
    }
   ],
   "source": [
    "level = 7\n",
    "charisma = 3\n",
    "strength = 2\n",
    "ability_score = strength\n",
    "melee_weapon = Dice(1,10)\n",
    "weapon_bonus = 3\n",
    "bonus_damage = ability_score + charisma + weapon_bonus\n",
    "smite = Dice(2,8)\n",
    "to_hit = dnd.proficency_bonus(level) + ability_score + weapon_bonus\n",
    "adv = {'advantage':False, 'crit_on':20}\n",
    "\n",
    "enemy_ac = dnd.get_AC(level)\n",
    "AC = 18\n",
    "attackers_disadvantage = False\n",
    "\n",
    "pally_attack = dnd.roll_damage(enemy_ac, to_hit, melee_weapon, bonus_damage=bonus_damage, crit_added_damage_dice=smite, **adv)\n",
    "pally_attack2 = dnd.roll_damage(enemy_ac, to_hit, melee_weapon, bonus_damage=bonus_damage, crit_added_damage_dice=smite, **adv)\n",
    "pam_attack = dnd.roll_damage(enemy_ac, to_hit, Dice(1,4), bonus_damage=bonus_damage, crit_added_damage_dice=smite, **adv)\n",
    "\n",
    "wis_saving_throw = dnd.spell_save(-1 + ability_score + dnd.proficency_bonus(level), 10+level/2)\n",
    "dex_saving_throw = dnd.spell_save(-1 + ability_score, 10+level/2)\n",
    "\n",
    "chance_to_be_hit = (dnd.roll_damage(AC, dnd.attack_bonus(level), Dice(1,2), disadvantage=attackers_disadvantage) > 0).mean()\n",
    "\n",
    "print('Chace to be hit', chance_to_be_hit)\n",
    "print('Wisdom saving throw success:', wis_saving_throw.mean())\n",
    "print('Dex saving throw success:',dex_saving_throw.mean())\n",
    "\n",
    "print('Chance to hit:', (pally_attack > 0).mean())\n",
    "print('Damage for first round:', (pally_attack + pally_attack2).mean())\n",
    "print('Damage for second round:', (pally_attack + pally_attack2 + pam_attack).mean())"
   ]
  },
  {
   "cell_type": "code",
   "execution_count": 18,
   "metadata": {},
   "outputs": [
    {
     "name": "stdout",
     "output_type": "stream",
     "text": [
      "Chace to be hit 0.4951\n",
      "Wisdom saving throw success: 0.5527\n",
      "Dex saving throw success: 0.3988\n",
      "Chance to hit: 0.698\n",
      "Damage for first round: 21.5134\n",
      "Damage for second round: 27.3676\n"
     ]
    }
   ],
   "source": [
    "level = 7\n",
    "charisma = 3\n",
    "strength = 2\n",
    "ability_score = strength\n",
    "melee_weapon = Dice(1,10)+Dice(1,6)\n",
    "weapon_bonus = 3\n",
    "bonus_damage = ability_score  + weapon_bonus\n",
    "smite = Dice(2,8)\n",
    "to_hit = dnd.proficency_bonus(level) + ability_score + weapon_bonus\n",
    "adv = {'advantage':False, 'crit_on':20}\n",
    "\n",
    "enemy_ac = dnd.get_AC(level)\n",
    "AC = 18\n",
    "attackers_disadvantage = False\n",
    "\n",
    "pally_attack = dnd.roll_damage(enemy_ac, to_hit, melee_weapon, bonus_damage=bonus_damage, crit_added_damage_dice=smite, **adv)\n",
    "pally_attack2 = dnd.roll_damage(enemy_ac, to_hit, melee_weapon, bonus_damage=bonus_damage, crit_added_damage_dice=smite, **adv)\n",
    "pam_attack = dnd.roll_damage(enemy_ac, to_hit, Dice(1,4), bonus_damage=bonus_damage, crit_added_damage_dice=smite, **adv)\n",
    "\n",
    "wis_saving_throw = dnd.spell_save(-1 + ability_score + dnd.proficency_bonus(level), 10+level/2)\n",
    "dex_saving_throw = dnd.spell_save(-1 + ability_score, 10+level/2)\n",
    "\n",
    "chance_to_be_hit = (dnd.roll_damage(AC, dnd.attack_bonus(level), Dice(1,2), disadvantage=attackers_disadvantage) > 0).mean()\n",
    "\n",
    "print('Chace to be hit', chance_to_be_hit)\n",
    "print('Wisdom saving throw success:', wis_saving_throw.mean())\n",
    "print('Dex saving throw success:', dex_saving_throw.mean())\n",
    "\n",
    "print('Chance to hit:', (pally_attack > 0).mean())\n",
    "print('Damage for first round:', (pally_attack + pally_attack2).mean())\n",
    "print('Damage for second round:', (pally_attack + pally_attack2 + pam_attack).mean())"
   ]
  },
  {
   "cell_type": "code",
   "execution_count": 19,
   "metadata": {},
   "outputs": [
    {
     "name": "stdout",
     "output_type": "stream",
     "text": [
      "Chace to be hit 0.5572\n",
      "Wisdom saving throw success: 0.6494\n",
      "Dex saving throw success: 0.4895\n",
      "Chance to hit: 0.6585\n",
      "Damege per  hit: 10.2747\n",
      "Damage for first round: 20.3829\n",
      "Damage for second round: 28.4394\n"
     ]
    }
   ],
   "source": [
    "level = 8\n",
    "charisma = 4\n",
    "strength = 2\n",
    "ability_score = strength\n",
    "melee_weapon = Dice(1,10)\n",
    "weapon_bonus = 3\n",
    "bonus_damage = ability_score + charisma + weapon_bonus \n",
    "smite = Dice(2,8)\n",
    "to_hit = dnd.proficency_bonus(level) + ability_score + weapon_bonus\n",
    "adv = {'advantage':False, 'crit_on':20}\n",
    "\n",
    "enemy_ac = dnd.get_AC(level)\n",
    "AC = 18\n",
    "attackers_disadvantage = False\n",
    "\n",
    "pally_attack = dnd.roll_damage(enemy_ac, to_hit, melee_weapon, bonus_damage=bonus_damage, crit_added_damage_dice=smite, **adv)\n",
    "pally_attack2 = dnd.roll_damage(enemy_ac, to_hit, melee_weapon, bonus_damage=bonus_damage, crit_added_damage_dice=smite, **adv)\n",
    "pam_attack = dnd.roll_damage(enemy_ac, to_hit, Dice(1,4), bonus_damage=bonus_damage, crit_added_damage_dice=smite, **adv)\n",
    "\n",
    "wis_saving_throw = dnd.spell_save(-1 + charisma + dnd.proficency_bonus(level), 10+level/2)\n",
    "dex_saving_throw = dnd.spell_save(-1 + charisma, 10+level/2)\n",
    "\n",
    "chance_to_be_hit = (dnd.roll_damage(AC, dnd.attack_bonus(level), Dice(1,2), disadvantage=attackers_disadvantage) > 0).mean()\n",
    "\n",
    "print('Chace to be hit', chance_to_be_hit)\n",
    "print('Wisdom saving throw success:', wis_saving_throw.mean())\n",
    "print('Dex saving throw success:',dex_saving_throw.mean())\n",
    "\n",
    "print('Chance to hit:', (pally_attack2 > 0).mean())\n",
    "print('Damege per  hit:', (pally_attack2).mean())\n",
    "print('Damage for first round:', (pally_attack + pally_attack2).mean())\n",
    "print('Damage for second round:', (pally_attack + pally_attack2 + pam_attack).mean())"
   ]
  },
  {
   "cell_type": "code",
   "execution_count": 20,
   "metadata": {},
   "outputs": [
    {
     "name": "stdout",
     "output_type": "stream",
     "text": [
      "Chace to be hit 0.551\n",
      "Wisdom saving throw success: 0.5949\n",
      "Dex saving throw success: 0.4576\n",
      "Chance to hit: 0.6526\n",
      "Damege per  hit: 12.0289\n",
      "Damage for first round: 24.0079\n",
      "Damage for second round: 31.4989\n"
     ]
    }
   ],
   "source": [
    "level = 8\n",
    "charisma = 3\n",
    "strength = 2\n",
    "ability_score = strength\n",
    "melee_weapon = Dice(1,10) + Dice(1,6)\n",
    "weapon_bonus = 3\n",
    "bonus_damage = ability_score + charisma + weapon_bonus \n",
    "smite = Dice(2,8)\n",
    "to_hit = dnd.proficency_bonus(level) + ability_score + weapon_bonus\n",
    "adv = {'advantage':False, 'crit_on':20}\n",
    "\n",
    "enemy_ac = dnd.get_AC(level)\n",
    "AC = 18\n",
    "attackers_disadvantage = False\n",
    "\n",
    "pally_attack = dnd.roll_damage(enemy_ac, to_hit, melee_weapon, bonus_damage=bonus_damage, crit_added_damage_dice=smite, **adv)\n",
    "pally_attack2 = dnd.roll_damage(enemy_ac, to_hit, melee_weapon, bonus_damage=bonus_damage, crit_added_damage_dice=smite, **adv)\n",
    "pam_attack = dnd.roll_damage(enemy_ac, to_hit, Dice(1,4), bonus_damage=bonus_damage, crit_added_damage_dice=smite, **adv)\n",
    "\n",
    "wis_saving_throw = dnd.spell_save(-1 + charisma + dnd.proficency_bonus(level), 10+level/2)\n",
    "dex_saving_throw = dnd.spell_save(-1 + charisma, 10+level/2)\n",
    "\n",
    "chance_to_be_hit = (dnd.roll_damage(AC, dnd.attack_bonus(level), Dice(1,2), disadvantage=attackers_disadvantage) > 0).mean()\n",
    "\n",
    "print('Chace to be hit', chance_to_be_hit)\n",
    "print('Wisdom saving throw success:', wis_saving_throw.mean())\n",
    "print('Dex saving throw success:',dex_saving_throw.mean())\n",
    "\n",
    "print('Chance to hit:', (pally_attack2 > 0).mean())\n",
    "print('Damege per  hit:', (pally_attack2).mean())\n",
    "print('Damage for first round:', (pally_attack + pally_attack2).mean())\n",
    "print('Damage for second round:', (pally_attack + pally_attack2 + pam_attack).mean())"
   ]
  },
  {
   "cell_type": "code",
   "execution_count": 21,
   "metadata": {},
   "outputs": [
    {
     "name": "stdout",
     "output_type": "stream",
     "text": [
      "Chace to be hit 0.5975\n",
      "Wisdom saving throw success: 0.6047\n",
      "Dex saving throw success: 0.41\n",
      "Chance to hit: 0.7041\n",
      "Damege per  hit: 12.8745\n",
      "Damage for first round: 25.7047\n",
      "Damage for second round: 33.6623\n"
     ]
    }
   ],
   "source": [
    "level = 9\n",
    "charisma = 3\n",
    "strength = 2\n",
    "ability_score = strength\n",
    "melee_weapon = Dice(1,10) + Dice(1,6)\n",
    "weapon_bonus = 3\n",
    "bonus_damage = ability_score + charisma + weapon_bonus \n",
    "smite = Dice(2,8)\n",
    "to_hit = dnd.proficency_bonus(level) + ability_score + weapon_bonus\n",
    "adv = {'advantage':False, 'crit_on':20}\n",
    "\n",
    "enemy_ac = dnd.get_AC(level)\n",
    "AC = 18\n",
    "attackers_disadvantage = False\n",
    "\n",
    "pally_attack = dnd.roll_damage(enemy_ac, to_hit, melee_weapon, bonus_damage=bonus_damage, crit_added_damage_dice=smite, **adv)\n",
    "pally_attack2 = dnd.roll_damage(enemy_ac, to_hit, melee_weapon, bonus_damage=bonus_damage, crit_added_damage_dice=smite, **adv)\n",
    "pam_attack = dnd.roll_damage(enemy_ac, to_hit, Dice(1,4), bonus_damage=bonus_damage, crit_added_damage_dice=smite, **adv)\n",
    "\n",
    "wis_saving_throw = dnd.spell_save(-1 + charisma + dnd.proficency_bonus(level), 10+level/2)\n",
    "dex_saving_throw = dnd.spell_save(-1 + charisma, 10+level/2)\n",
    "\n",
    "chance_to_be_hit = (dnd.roll_damage(AC, dnd.attack_bonus(level), Dice(1,2), disadvantage=attackers_disadvantage) > 0).mean()\n",
    "\n",
    "print('Chace to be hit', chance_to_be_hit)\n",
    "print('Wisdom saving throw success:', wis_saving_throw.mean())\n",
    "print('Dex saving throw success:',dex_saving_throw.mean())\n",
    "\n",
    "print('Chance to hit:', (pally_attack2 > 0).mean())\n",
    "print('Damege per  hit:', (pally_attack2).mean())\n",
    "print('Damage for first round:', (pally_attack + pally_attack2).mean())\n",
    "print('Damage for second round:', (pally_attack + pally_attack2 + pam_attack).mean())"
   ]
  },
  {
   "cell_type": "code",
   "execution_count": 22,
   "metadata": {},
   "outputs": [
    {
     "name": "stdout",
     "output_type": "stream",
     "text": [
      "Chace to be hit 0.5929\n",
      "Wisdom saving throw success: 0.6051\n",
      "Dex saving throw success: 0.4003\n",
      "Chance to hit: 0.6842\n",
      "Damege per  hit: 13.1678\n",
      "Damage for first round: 26.5701\n",
      "Damage for second round: 35.1545\n"
     ]
    }
   ],
   "source": [
    "level = 10\n",
    "charisma = 3\n",
    "strength = 2\n",
    "ability_score = charisma\n",
    "melee_weapon = Dice(1,10) + Dice(1,6)\n",
    "weapon_bonus = 3\n",
    "bonus_damage = ability_score + charisma + weapon_bonus \n",
    "smite = Dice(2,8)\n",
    "to_hit = dnd.proficency_bonus(level) + ability_score + weapon_bonus\n",
    "adv = {'advantage':False, 'crit_on':20}\n",
    "\n",
    "enemy_ac = dnd.get_AC(level)\n",
    "AC = 18\n",
    "attackers_disadvantage = False\n",
    "\n",
    "pally_attack = dnd.roll_damage(enemy_ac, to_hit, melee_weapon, bonus_damage=bonus_damage, crit_added_damage_dice=smite, **adv)\n",
    "pally_attack2 = dnd.roll_damage(enemy_ac, to_hit, melee_weapon, bonus_damage=bonus_damage, crit_added_damage_dice=smite, **adv)\n",
    "pam_attack = dnd.roll_damage(enemy_ac, to_hit, Dice(1,4), bonus_damage=bonus_damage, crit_added_damage_dice=smite, **adv)\n",
    "\n",
    "wis_saving_throw = dnd.spell_save(-1 + charisma + dnd.proficency_bonus(level), 10+level/2)\n",
    "dex_saving_throw = dnd.spell_save(-1 + charisma, 10+level/2)\n",
    "\n",
    "chance_to_be_hit = (dnd.roll_damage(AC, dnd.attack_bonus(level), Dice(1,2), disadvantage=attackers_disadvantage) > 0).mean()\n",
    "\n",
    "print('Chace to be hit', chance_to_be_hit)\n",
    "print('Wisdom saving throw success:', wis_saving_throw.mean())\n",
    "print('Dex saving throw success:',dex_saving_throw.mean())\n",
    "\n",
    "print('Chance to hit:', (pally_attack2 > 0).mean())\n",
    "print('Damege per  hit:', (pally_attack2).mean())\n",
    "print('Damage for first round:', (pally_attack + pally_attack2).mean())\n",
    "print('Damage for second round:', (pally_attack + pally_attack2 + pam_attack).mean())"
   ]
  },
  {
   "cell_type": "code",
   "execution_count": 23,
   "metadata": {},
   "outputs": [
    {
     "data": {
      "text/plain": [
       "array([15])"
      ]
     },
     "execution_count": 23,
     "metadata": {},
     "output_type": "execute_result"
    }
   ],
   "source": [
    "Dice(1,20).roll()+4"
   ]
  },
  {
   "cell_type": "code",
   "execution_count": 24,
   "metadata": {},
   "outputs": [
    {
     "name": "stdout",
     "output_type": "stream",
     "text": [
      "Chace to be hit 0.7035\n",
      "Wisdom saving throw success: 0.5517\n",
      "Dex saving throw success: 0.2378\n",
      "Chance to hit: 0.9621\n",
      "Damege per  hit: 47.9647\n",
      "Damage for first round: 95.9405\n",
      "Damage for second round: 116.8443\n"
     ]
    }
   ],
   "source": [
    "level = 20\n",
    "charisma = 5\n",
    "strength = 3\n",
    "ability_score = charisma \n",
    "melee_weapon = Dice(1,10) + Dice(1,8) + Dice(4,8)\n",
    "weapon_bonus = 3\n",
    "bonus_damage = ability_score + charisma + weapon_bonus + 6\n",
    "smite = None\n",
    "to_hit = dnd.proficency_bonus(level) + ability_score + weapon_bonus\n",
    "adv = {'advantage':True, 'crit_on':20}\n",
    "\n",
    "enemy_ac = dnd.get_AC(level)\n",
    "AC = 18\n",
    "attackers_disadvantage = False\n",
    "\n",
    "pally_attack = dnd.roll_damage(enemy_ac, to_hit, melee_weapon, bonus_damage=bonus_damage, crit_added_damage_dice=smite, **adv)\n",
    "pally_attack2 = dnd.roll_damage(enemy_ac, to_hit, melee_weapon, bonus_damage=bonus_damage, crit_added_damage_dice=smite, **adv)\n",
    "pam_attack = dnd.roll_damage(enemy_ac, to_hit, Dice(1,4), bonus_damage=bonus_damage, crit_added_damage_dice=smite, **adv)\n",
    "\n",
    "wis_saving_throw = dnd.spell_save(-1 + charisma + dnd.proficency_bonus(level), 10+level/2)\n",
    "dex_saving_throw = dnd.spell_save(-1 + charisma, 10+level/2)\n",
    "\n",
    "chance_to_be_hit = (dnd.roll_damage(AC, dnd.attack_bonus(level), Dice(1,2), disadvantage=attackers_disadvantage) > 0).mean()\n",
    "\n",
    "print('Chace to be hit', chance_to_be_hit)\n",
    "print('Wisdom saving throw success:', wis_saving_throw.mean())\n",
    "print('Dex saving throw success:', dex_saving_throw.mean())\n",
    "\n",
    "print('Chance to hit:', (pally_attack2 > 0).mean())\n",
    "print('Damege per  hit:', (pally_attack2).mean())\n",
    "print('Damage for first round:', (pally_attack + pally_attack2).mean())\n",
    "print('Damage for second round:', (pally_attack + pally_attack2 + pam_attack).mean())"
   ]
  },
  {
   "cell_type": "code",
   "execution_count": 25,
   "metadata": {},
   "outputs": [
    {
     "data": {
      "text/plain": [
       "0.5629"
      ]
     },
     "execution_count": 25,
     "metadata": {},
     "output_type": "execute_result"
    }
   ],
   "source": [
    "(dnd.roll_damage(18, 12, Dice(1,2), disadvantage=True) > 0).mean()"
   ]
  },
  {
   "cell_type": "code",
   "execution_count": 26,
   "metadata": {},
   "outputs": [
    {
     "data": {
      "text/plain": [
       "0.4495"
      ]
     },
     "execution_count": 26,
     "metadata": {},
     "output_type": "execute_result"
    }
   ],
   "source": [
    "dnd.spell_save(8, 10+level/2).mean()"
   ]
  },
  {
   "cell_type": "code",
   "execution_count": 257,
   "metadata": {},
   "outputs": [
    {
     "data": {
      "text/plain": [
       "0.8821"
      ]
     },
     "execution_count": 257,
     "metadata": {},
     "output_type": "execute_result"
    }
   ],
   "source": [
    "(dnd.roll_damage(22, to_hit, melee_weapon, bonus_damage=bonus_damage, crit_added_damage_dice=smite, **adv)>0).mean()"
   ]
  },
  {
   "cell_type": "code",
   "execution_count": 221,
   "metadata": {},
   "outputs": [
    {
     "name": "stdout",
     "output_type": "stream",
     "text": [
      "Chace to  hit 0.5442\n",
      "Chace to be hit 0.7058\n",
      "Damage per round: 64.0574\n"
     ]
    },
    {
     "data": {
      "text/plain": [
       "<Axes: >"
      ]
     },
     "execution_count": 221,
     "metadata": {},
     "output_type": "execute_result"
    },
    {
     "data": {
      "image/png": "[encoded data removed]",
      "text/plain": [
       "<Figure size 640x480 with 1 Axes>"
      ]
     },
     "metadata": {},
     "output_type": "display_data"
    }
   ],
   "source": [
    "# skeletons 2 short swords\n",
    "num_skeletons = 4\n",
    "level = 12\n",
    "charisma = 5\n",
    "dex = 2\n",
    "ability_score = None \n",
    "melee_weapon = Dice(1,6) + Dice(1,4)\n",
    "weapon_bonus = 2\n",
    "bonus_damage = None \n",
    "to_hit = 2 + dex + weapon_bonus\n",
    "adv = {'advantage':False, 'crit_on':20}\n",
    "enemy_ac = 16 #dnd.get_AC(level)\n",
    "\n",
    "AC = 16\n",
    "chance_to_be_hit = (dnd.roll_damage(AC, dnd.attack_bonus(level), Dice(1,2), disadvantage=attackers_disadvantage) > 0).mean()\n",
    "\n",
    "\n",
    "attacks = dnd.roll_damage(enemy_ac, to_hit, melee_weapon, bonus_damage=dex + charisma + weapon_bonus, **adv)\n",
    "print('Chace to  hit', (attacks>0).mean())\n",
    "attacks += dnd.roll_damage(enemy_ac, to_hit, melee_weapon, bonus_damage= charisma + weapon_bonus, **adv)\n",
    "for _ in range(num_skeletons -1):\n",
    "    attacks += dnd.roll_damage(enemy_ac, to_hit, melee_weapon, bonus_damage=dex + charisma + weapon_bonus, **adv)\n",
    "    attacks += dnd.roll_damage(enemy_ac, to_hit, melee_weapon, bonus_damage= charisma + weapon_bonus, **adv)\n",
    "\n",
    "print('Chace to be hit', chance_to_be_hit)\n",
    "print('Damage per round:', (attacks).mean())\n",
    "\n",
    "pd.Series(attacks).hist()"
   ]
  },
  {
   "cell_type": "code",
   "execution_count": 207,
   "metadata": {},
   "outputs": [
    {
     "name": "stdout",
     "output_type": "stream",
     "text": [
      "Chace to be hit 0.8032\n",
      "Damage per round: 112.1627\n"
     ]
    },
    {
     "data": {
      "text/plain": [
       "<Axes: >"
      ]
     },
     "execution_count": 207,
     "metadata": {},
     "output_type": "execute_result"
    },
    {
     "data": {
      "image/png": "[encoded data removed]",
      "text/plain": [
       "<Figure size 640x480 with 1 Axes>"
      ]
     },
     "metadata": {},
     "output_type": "display_data"
    }
   ],
   "source": [
    "# skeletons bows\n",
    "num_skeletons = 28\n",
    "level = 20\n",
    "charisma = 3\n",
    "dex = 2\n",
    "ability_score = None \n",
    "melee_weapon = Dice(1,6)\n",
    "weapon_bonus = 0\n",
    "bonus_damage = None \n",
    "to_hit = 7\n",
    "adv = {'advantage':False, 'crit_on':20}\n",
    "enemy_ac = dnd.get_AC(level)\n",
    "\n",
    "AC = 16\n",
    "chance_to_be_hit = (dnd.roll_damage(AC, dnd.attack_bonus(level), Dice(1,2), disadvantage=attackers_disadvantage) > 0).mean()\n",
    "\n",
    "\n",
    "attacks = dnd.roll_damage(enemy_ac, to_hit, melee_weapon, bonus_damage=dex + charisma+ weapon_bonus, **adv)\n",
    "\n",
    "\n",
    "for _ in range(num_skeletons -1):\n",
    "    attacks += dnd.roll_damage(enemy_ac, to_hit, melee_weapon, bonus_damage=dex + charisma+ weapon_bonus, **adv)\n",
    "\n",
    "print('Chace to be hit', chance_to_be_hit)\n",
    "print('Damage per round:', (attacks).mean())\n",
    "\n",
    "pd.Series(attacks).hist()"
   ]
  },
  {
   "cell_type": "code",
   "execution_count": 193,
   "metadata": {},
   "outputs": [
    {
     "name": "stdout",
     "output_type": "stream",
     "text": [
      "Chace to be hit 0.6949\n",
      "Damage per round: 7.0573\n"
     ]
    },
    {
     "data": {
      "text/plain": [
       "<Axes: >"
      ]
     },
     "execution_count": 193,
     "metadata": {},
     "output_type": "execute_result"
    },
    {
     "data": {
      "image/png": "[encoded data removed]",
      "text/plain": [
       "<Figure size 640x480 with 1 Axes>"
      ]
     },
     "metadata": {},
     "output_type": "display_data"
    }
   ],
   "source": [
    "# skeletons bows\n",
    "num_skeletons = 3\n",
    "level = 12\n",
    "charisma = 4\n",
    "dex = 2\n",
    "ability_score = None \n",
    "melee_weapon = Dice(1,6)\n",
    "weapon_bonus = 0\n",
    "bonus_damage = None \n",
    "to_hit = 2 + dex + weapon_bonus\n",
    "adv = {'advantage':False, 'crit_on':20}\n",
    "enemy_ac = dnd.get_AC(level)\n",
    "\n",
    "AC = 16\n",
    "chance_to_be_hit = (dnd.roll_damage(AC, dnd.attack_bonus(level), Dice(1,2), disadvantage=attackers_disadvantage) > 0).mean()\n",
    "\n",
    "\n",
    "attacks = dnd.roll_damage(enemy_ac, to_hit, melee_weapon, bonus_damage=dex + weapon_bonus, **adv)\n",
    "\n",
    "\n",
    "for _ in range(num_skeletons -1):\n",
    "    attacks += dnd.roll_damage(enemy_ac, to_hit, melee_weapon, bonus_damage=dex + weapon_bonus, **adv)\n",
    "\n",
    "print('Chace to be hit', chance_to_be_hit)\n",
    "print('Damage per round:', (attacks).mean())\n",
    "\n",
    "pd.Series(attacks).hist()"
   ]
  },
  {
   "cell_type": "code",
   "execution_count": 143,
   "metadata": {},
   "outputs": [
    {
     "name": "stdout",
     "output_type": "stream",
     "text": [
      "Chace to be hit 0.357\n",
      "Wisdom saving throw success: 0.5954\n",
      "Dex saving throw success: 0.3986\n",
      "Chance to hit: 0.7438\n",
      "Damege per  hit: 16.6003\n",
      "Damage for first round: 33.1268\n",
      "Damage for second round: 43.8057\n"
     ]
    }
   ],
   "source": [
    "level = 12\n",
    "charisma = 4\n",
    "strength = 4\n",
    "ability_score = strength\n",
    "melee_weapon = Dice(1,10) + Dice(1,8)\n",
    "weapon_bonus = 3\n",
    "bonus_damage = ability_score + charisma + weapon_bonus \n",
    "smite = Dice(2,8)\n",
    "to_hit = dnd.proficency_bonus(level) + ability_score + weapon_bonus\n",
    "adv = {'advantage':False, 'crit_on':20}\n",
    "\n",
    "enemy_ac = dnd.get_AC(level)\n",
    "AC = 18\n",
    "attackers_disadvantage = False\n",
    "\n",
    "pally_attack = dnd.roll_damage(enemy_ac, to_hit, melee_weapon, bonus_damage=bonus_damage, crit_added_damage_dice=smite, **adv)\n",
    "pally_attack2 = dnd.roll_damage(enemy_ac, to_hit, melee_weapon, bonus_damage=bonus_damage, crit_added_damage_dice=smite, **adv)\n",
    "pam_attack = dnd.roll_damage(enemy_ac, to_hit, Dice(1,4), bonus_damage=bonus_damage, crit_added_damage_dice=smite, **adv)\n",
    "\n",
    "wis_saving_throw = dnd.spell_save(-1 + charisma + dnd.proficency_bonus(level), 10+level/2)\n",
    "dex_saving_throw = dnd.spell_save(-1 + charisma, 10+level/2)\n",
    "\n",
    "chance_to_be_hit = (dnd.roll_damage(AC, dnd.attack_bonus(level), Dice(1,2), disadvantage=attackers_disadvantage) > 0).mean()\n",
    "\n",
    "print('Chace to be hit', chance_to_be_hit)\n",
    "print('Wisdom saving throw success:', wis_saving_throw.mean())\n",
    "print('Dex saving throw success:',dex_saving_throw.mean())\n",
    "\n",
    "print('Chance to hit:', (pally_attack2 > 0).mean())\n",
    "print('Damege per  hit:', (pally_attack2).mean())\n",
    "print('Damage for first round:', (pally_attack + pally_attack2).mean())\n",
    "print('Damage for second round:', (pally_attack + pally_attack2 + pam_attack).mean())"
   ]
  },
  {
   "cell_type": "code",
   "execution_count": 130,
   "metadata": {},
   "outputs": [
    {
     "name": "stdout",
     "output_type": "stream",
     "text": [
      "Chace to be hit 0.5979\n",
      "Wisdom saving throw success: 0.5988\n",
      "Dex saving throw success: 0.4072\n",
      "Chance to hit: 0.7462\n",
      "Damege per  hit: 16.6391\n",
      "Damage for first round: 33.3151\n",
      "Damage for second round: 43.9656\n"
     ]
    }
   ],
   "source": [
    "level = 12\n",
    "charisma = 4\n",
    "strength = 4\n",
    "ability_score = charisma\n",
    "melee_weapon = Dice(1,10) + Dice(1,8)\n",
    "weapon_bonus = 3\n",
    "bonus_damage = ability_score + charisma + weapon_bonus \n",
    "smite = Dice(2,8)\n",
    "to_hit = dnd.proficency_bonus(level) + ability_score + weapon_bonus\n",
    "adv = {'advantage':False, 'crit_on':20}\n",
    "\n",
    "enemy_ac = dnd.get_AC(level)\n",
    "AC = 18\n",
    "attackers_disadvantage = False\n",
    "\n",
    "pally_attack = dnd.roll_damage(enemy_ac, to_hit, melee_weapon, bonus_damage=bonus_damage, crit_added_damage_dice=smite, **adv)\n",
    "pally_attack2 = dnd.roll_damage(enemy_ac, to_hit, melee_weapon, bonus_damage=bonus_damage, crit_added_damage_dice=smite, **adv)\n",
    "pam_attack = dnd.roll_damage(enemy_ac, to_hit, Dice(1,4), bonus_damage=bonus_damage, crit_added_damage_dice=smite, **adv)\n",
    "\n",
    "wis_saving_throw = dnd.spell_save(-1 + charisma + dnd.proficency_bonus(level), 10+level/2)\n",
    "dex_saving_throw = dnd.spell_save(-1 + charisma, 10+level/2)\n",
    "\n",
    "chance_to_be_hit = (dnd.roll_damage(AC, dnd.attack_bonus(level), Dice(1,2), disadvantage=attackers_disadvantage) > 0).mean()\n",
    "\n",
    "print('Chace to be hit', chance_to_be_hit)\n",
    "print('Wisdom saving throw success:', wis_saving_throw.mean())\n",
    "print('Dex saving throw success:',dex_saving_throw.mean())\n",
    "\n",
    "print('Chance to hit:', (pally_attack2 > 0).mean())\n",
    "print('Damege per  hit:', (pally_attack2).mean())\n",
    "print('Damage for first round:', (pally_attack + pally_attack2).mean())\n",
    "print('Damage for second round:', (pally_attack + pally_attack2 + pam_attack).mean())"
   ]
  },
  {
   "cell_type": "code",
   "execution_count": 127,
   "metadata": {},
   "outputs": [
    {
     "name": "stdout",
     "output_type": "stream",
     "text": [
      "Chace to be hit 0.5895\n",
      "Wisdom saving throw success: 0.5897\n",
      "Dex saving throw success: 0.3966\n",
      "Chance to hit: 0.7035\n",
      "Damege per  hit: 15.0206\n",
      "Damage for first round: 29.8117\n",
      "Damage for second round: 39.1762\n"
     ]
    }
   ],
   "source": [
    "level = 11\n",
    "charisma = 4\n",
    "strength = 3\n",
    "ability_score = strength\n",
    "melee_weapon = Dice(1,10) + Dice(1,8) \n",
    "weapon_bonus = 3\n",
    "bonus_damage = ability_score + charisma + weapon_bonus \n",
    "smite = Dice(2,8)\n",
    "to_hit = dnd.proficency_bonus(level) + ability_score + weapon_bonus \n",
    "adv = {'advantage':False, 'crit_on':20}\n",
    "\n",
    "enemy_ac = dnd.get_AC(level)\n",
    "AC = 18\n",
    "attackers_disadvantage = False\n",
    "\n",
    "pally_attack = dnd.roll_damage(enemy_ac, to_hit, melee_weapon, bonus_damage=bonus_damage, crit_added_damage_dice=smite, **adv)\n",
    "pally_attack2 = dnd.roll_damage(enemy_ac, to_hit, melee_weapon, bonus_damage=bonus_damage, crit_added_damage_dice=smite, **adv)\n",
    "pam_attack = dnd.roll_damage(enemy_ac, to_hit, Dice(1,4), bonus_damage=bonus_damage, crit_added_damage_dice=smite, **adv)\n",
    "\n",
    "wis_saving_throw = dnd.spell_save(-1 + charisma + dnd.proficency_bonus(level), 10+level/2)\n",
    "dex_saving_throw = dnd.spell_save(-1 + charisma, 10+level/2)\n",
    "\n",
    "chance_to_be_hit = (dnd.roll_damage(AC, dnd.attack_bonus(level), Dice(1,2), disadvantage=attackers_disadvantage) > 0).mean()\n",
    "\n",
    "print('Chace to be hit', chance_to_be_hit)\n",
    "print('Wisdom saving throw success:', wis_saving_throw.mean())\n",
    "print('Dex saving throw success:',dex_saving_throw.mean())\n",
    "\n",
    "print('Chance to hit:', (pally_attack2 > 0).mean())\n",
    "print('Damege per  hit:', (pally_attack2).mean())\n",
    "print('Damage for first round:', (pally_attack + pally_attack2).mean())\n",
    "print('Damage for second round:', (pally_attack + pally_attack2 + pam_attack).mean())"
   ]
  },
  {
   "cell_type": "code",
   "execution_count": 5,
   "metadata": {},
   "outputs": [
    {
     "name": "stdout",
     "output_type": "stream",
     "text": [
      "Chace to be hit 0.3409\n",
      "Wisdom saving throw success: 0.6605\n",
      "Dex saving throw success: 0.49\n",
      "Damage per round: 10.2391\n"
     ]
    }
   ],
   "source": [
    "level = 6\n",
    "ability_score = 2\n",
    "melee_weapon = Dice(1,6)\n",
    "smite = Dice(2,8)\n",
    "to_hit = dnd.proficency_bonus(level)+ability_score\n",
    "bonus_damage = ability_score\n",
    "\n",
    "pally_attack = dnd.roll_damage(dnd.get_AC(level), to_hit, melee_weapon, bonus_damage=bonus_damage, crit_added_damage_dice=smite)\n",
    "pally_attack2 = dnd.roll_damage(dnd.get_AC(level), to_hit, melee_weapon, bonus_damage, crit_added_damage_dice=smite)\n",
    "pam_attack = dnd.roll_damage(dnd.get_AC(level), to_hit, Dice(1,4), bonus_damage, crit_added_damage_dice=smite)\n",
    "\n",
    "lvl_6_pally = pally_attack + pally_attack2 + pam_attack\n",
    "\n",
    "wis_saving_throw = dnd.spell_save(-1 + 3 + dnd.proficency_bonus(level), 10+level/2)\n",
    "dex_saving_throw = dnd.spell_save(-1 + 3, 10+level/2)\n",
    "\n",
    "chance_to_be_hit = (dnd.roll_damage(21, dnd.attack_bonus(level), Dice(1,2)) > 0).mean()\n",
    "\n",
    "print('Chace to be hit', chance_to_be_hit)\n",
    "print('Wisdom saving throw success:', wis_saving_throw.mean())\n",
    "print('Dex saving throw success:',dex_saving_throw.mean())\n",
    "\n",
    "print('Damage per round:', lvl_6_pally.mean())"
   ]
  },
  {
   "cell_type": "code",
   "execution_count": 6,
   "metadata": {},
   "outputs": [
    {
     "name": "stdout",
     "output_type": "stream",
     "text": [
      "Chace to be hit 0.3526\n",
      "Wisdom saving throw success: 0.5502\n",
      "Dex saving throw success: 0.3988\n",
      "Damage for first round: 10.5613\n",
      "Damage for second round: 15.2529\n"
     ]
    }
   ],
   "source": [
    "level = 7\n",
    "ability_score = 2\n",
    "melee_weapon = Dice(1,6)\n",
    "smite = Dice(2,8)\n",
    "to_hit = dnd.proficency_bonus(level)+ability_score\n",
    "bonus_damage = ability_score+3\n",
    "\n",
    "pally_attack = dnd.roll_damage(dnd.get_AC(level), to_hit, melee_weapon, bonus_damage=bonus_damage, crit_added_damage_dice=smite)\n",
    "pally_attack2 = dnd.roll_damage(dnd.get_AC(level), to_hit, melee_weapon, bonus_damage, crit_added_damage_dice=smite)\n",
    "pam_attack = dnd.roll_damage(dnd.get_AC(level), to_hit, Dice(1,4), bonus_damage, crit_added_damage_dice=smite)\n",
    "\n",
    "wis_saving_throw = dnd.spell_save(-1 + ability_score + dnd.proficency_bonus(level), 10+level/2)\n",
    "dex_saving_throw = dnd.spell_save(-1 + ability_score, 10+level/2)\n",
    "\n",
    "chance_to_be_hit = (dnd.roll_damage(21, dnd.attack_bonus(level), Dice(1,2)) > 0).mean()\n",
    "\n",
    "print('Chace to be hit', chance_to_be_hit)\n",
    "print('Wisdom saving throw success:', wis_saving_throw.mean())\n",
    "print('Dex saving throw success:',dex_saving_throw.mean())\n",
    "\n",
    "print('Damage for first round:', (pally_attack + pally_attack2).mean())\n",
    "print('Damage for second round:', (pally_attack + pally_attack2 + pam_attack).mean())"
   ]
  },
  {
   "cell_type": "code",
   "execution_count": 145,
   "metadata": {},
   "outputs": [
    {
     "data": {
      "text/plain": [
       "19.0823"
      ]
     },
     "execution_count": 145,
     "metadata": {},
     "output_type": "execute_result"
    }
   ],
   "source": [
    "dnd.roll_damage(dnd.get_AC(level), to_hit, Dice(2,10)+Dice(1,6), bonus_damage=10).mean()"
   ]
  },
  {
   "cell_type": "code",
   "execution_count": 7,
   "metadata": {},
   "outputs": [
    {
     "name": "stdout",
     "output_type": "stream",
     "text": [
      "Chace to be hit 0.3484\n",
      "Wisdom saving throw success: 0.5964\n",
      "Dex saving throw: 0.4451\n",
      "Edritch blast round: 9.2882\n",
      "Magic stone round: 8.2107\n",
      "Damage for first round: 13.6156\n",
      "Damage for second round: 17.5467\n"
     ]
    }
   ],
   "source": [
    "level = 7\n",
    "ability_score = 3\n",
    "melee_weapon = Dice(2,6)\n",
    "smite = Dice(2,8)\n",
    "to_hit = dnd.proficency_bonus(level)+ability_score\n",
    "bonus_damage = ability_score\n",
    "adv = {}#{'advantage':True, 'crit_on':19}\n",
    "\n",
    "pally_attack = dnd.roll_damage(dnd.get_AC(level), to_hit, melee_weapon, bonus_damage=bonus_damage, crit_added_damage_dice=smite, **adv)\n",
    "eldrith_blast = dnd.roll_damage(dnd.get_AC(level), to_hit, Dice(2,10)+Dice(1,6))\n",
    "magic_stone = dnd.roll_damage(dnd.get_AC(level), to_hit, Dice(2,6), bonus_damage=ability_score*2)\n",
    "pally_attack2 = dnd.roll_damage(dnd.get_AC(level), to_hit, melee_weapon, bonus_damage, crit_added_damage_dice=smite, **adv)\n",
    "pam_attack = dnd.roll_damage(dnd.get_AC(level), to_hit, Dice(1,4), bonus_damage, crit_added_damage_dice=smite, **adv)\n",
    "\n",
    "wis_saving_throw = dnd.spell_save(-1 + ability_score + dnd.proficency_bonus(level), 10+level/2)\n",
    "dex_saving_throw = dnd.spell_save(-1 + ability_score, 10+level/2)\n",
    "\n",
    "chance_to_be_hit = (dnd.roll_damage(21, dnd.attack_bonus(level), Dice(1,2)) > 0).mean()\n",
    "\n",
    "print('Chace to be hit', chance_to_be_hit)\n",
    "print('Wisdom saving throw success:', wis_saving_throw.mean())\n",
    "print('Dex saving throw:',dex_saving_throw.mean())\n",
    "\n",
    "print('Edritch blast round:', eldrith_blast.mean())\n",
    "print('Magic stone round:', magic_stone.mean())\n",
    "print('Damage for first round:', (pally_attack + pally_attack2).mean())\n",
    "print('Damage for second round:', (pally_attack + pally_attack2 + pam_attack).mean())"
   ]
  },
  {
   "cell_type": "code",
   "execution_count": 8,
   "metadata": {},
   "outputs": [
    {
     "name": "stdout",
     "output_type": "stream",
     "text": [
      "Chace to be hit 0.3984\n",
      "Wisdom saving throw success: 0.5916\n",
      "Dex saving throw success: 0.4553\n",
      "Magic stone round: 7.4949\n",
      "Edritch blast round: 8.7422\n",
      "Damage for first round: 15.7173\n",
      "Damage for second round: 20.9847\n"
     ]
    }
   ],
   "source": [
    "level = 8\n",
    "ability_score = 3\n",
    "melee_weapon = Dice(2,6)\n",
    "smite = Dice(2,8)\n",
    "to_hit = dnd.proficency_bonus(level)+ability_score\n",
    "bonus_damage = ability_score*2\n",
    "adv = {}#{'advantage':True, 'crit_on':19}\n",
    "\n",
    "pally_attack = dnd.roll_damage(dnd.get_AC(level), to_hit, melee_weapon, bonus_damage=bonus_damage, crit_added_damage_dice=smite, **adv)\n",
    "eldrith_blast = dnd.roll_damage(dnd.get_AC(level), to_hit, Dice(2,10)+Dice(1,6))\n",
    "magic_stone = dnd.roll_damage(dnd.get_AC(level), to_hit, Dice(2,6), bonus_damage=ability_score*2)\n",
    "pally_attack2 = dnd.roll_damage(dnd.get_AC(level), to_hit, melee_weapon, bonus_damage, crit_added_damage_dice=smite, **adv)\n",
    "pam_attack = dnd.roll_damage(dnd.get_AC(level), to_hit, Dice(1,4), bonus_damage, crit_added_damage_dice=smite, **adv)\n",
    "\n",
    "wis_saving_throw = dnd.spell_save(-1 + ability_score + dnd.proficency_bonus(level), 10+level/2)\n",
    "dex_saving_throw = dnd.spell_save(-1 + ability_score, 10+level/2)\n",
    "\n",
    "chance_to_be_hit = (dnd.roll_damage(21, dnd.attack_bonus(level), Dice(1,2)) > 0).mean()\n",
    "\n",
    "print('Chace to be hit', chance_to_be_hit)\n",
    "print('Wisdom saving throw success:', wis_saving_throw.mean())\n",
    "print('Dex saving throw success:',dex_saving_throw.mean())\n",
    "\n",
    "print('Magic stone round:', magic_stone.mean())\n",
    "print('Edritch blast round:', eldrith_blast.mean())\n",
    "print('Damage for first round:', (pally_attack + pally_attack2).mean())\n",
    "print('Damage for second round:', (pally_attack + pally_attack2 + pam_attack).mean())"
   ]
  },
  {
   "cell_type": "code",
   "execution_count": 9,
   "metadata": {},
   "outputs": [
    {
     "name": "stdout",
     "output_type": "stream",
     "text": [
      "Chace to be hit 0.4469\n",
      "Wisdom saving throw success: 0.6561\n",
      "Dex saving throw success: 0.4534\n",
      "Edritch blast round: 12.6362\n",
      "Damage for first round: 21.1131\n",
      "Damage for second round: 28.4732\n"
     ]
    }
   ],
   "source": [
    "level = 9\n",
    "ability_score = 4\n",
    "melee_weapon = Dice(2,6)\n",
    "smite = Dice(2,8)\n",
    "to_hit = dnd.proficency_bonus(level)+ability_score\n",
    "bonus_damage = ability_score*2\n",
    "adv = {}#{'advantage':True, 'crit_on':19}\n",
    "\n",
    "pally_attack = dnd.roll_damage(dnd.get_AC(level), to_hit, melee_weapon, bonus_damage=bonus_damage, crit_added_damage_dice=smite, **adv)\n",
    "eldrith_blast = dnd.roll_damage(dnd.get_AC(level), to_hit, Dice(2,10)+Dice(2,6))\n",
    "pally_attack2 = dnd.roll_damage(dnd.get_AC(level), to_hit, melee_weapon, bonus_damage, crit_added_damage_dice=smite, **adv)\n",
    "pam_attack = dnd.roll_damage(dnd.get_AC(level), to_hit, Dice(1,4), bonus_damage, crit_added_damage_dice=smite, **adv)\n",
    "\n",
    "wis_saving_throw = dnd.spell_save(-1 + ability_score + dnd.proficency_bonus(level), 10+level/2)\n",
    "dex_saving_throw = dnd.spell_save(-1 + ability_score, 10+level/2)\n",
    "\n",
    "chance_to_be_hit = (dnd.roll_damage(21, dnd.attack_bonus(level), Dice(1,2)) > 0).mean()\n",
    "\n",
    "print('Chace to be hit', chance_to_be_hit)\n",
    "print('Wisdom saving throw success:', wis_saving_throw.mean())\n",
    "print('Dex saving throw success:',dex_saving_throw.mean())\n",
    "\n",
    "print('Edritch blast round:', eldrith_blast.mean())\n",
    "print('Damage for first round:', (pally_attack + pally_attack2).mean())\n",
    "print('Damage for second round:', (pally_attack + pally_attack2 + pam_attack).mean())"
   ]
  },
  {
   "cell_type": "code",
   "execution_count": 10,
   "metadata": {},
   "outputs": [
    {
     "name": "stdout",
     "output_type": "stream",
     "text": [
      "Chace to be hit 0.4517\n",
      "Wisdom saving throw success: 0.6502\n",
      "Dex saving throw success: 0.454\n",
      "Edritch blast round: 16.4005\n",
      "Magic stone round: 13.9873\n",
      "Damage for first round: 19.6675\n",
      "Damage for second round: 26.4957\n"
     ]
    }
   ],
   "source": [
    "level = 10\n",
    "ability_score = 4\n",
    "melee_weapon = Dice(2,6)\n",
    "smite = Dice(2,8)\n",
    "to_hit = dnd.proficency_bonus(level)+ability_score\n",
    "bonus_damage = ability_score*2\n",
    "adv = {}#{'advantage':True, 'crit_on':19}\n",
    "\n",
    "pally_attack = dnd.roll_damage(dnd.get_AC(level), to_hit, melee_weapon, bonus_damage=bonus_damage, crit_added_damage_dice=smite, **adv)\n",
    "eldrith_blast = dnd.roll_damage(dnd.get_AC(level), to_hit, Dice(2,10)+Dice(2,6), bonus_damage=ability_score*2) \n",
    "magic_stone = dnd.roll_damage(dnd.get_AC(level), to_hit, Dice(2,6)+Dice(2,6), bonus_damage=ability_score*2)\n",
    "pally_attack2 = dnd.roll_damage(dnd.get_AC(level), to_hit, melee_weapon, bonus_damage, crit_added_damage_dice=smite, **adv)\n",
    "pam_attack = dnd.roll_damage(dnd.get_AC(level), to_hit, Dice(1,4), bonus_damage, crit_added_damage_dice=smite, **adv)\n",
    "\n",
    "wis_saving_throw = dnd.spell_save(-1 + ability_score + dnd.proficency_bonus(level), 10+level/2)\n",
    "dex_saving_throw = dnd.spell_save(-1 + ability_score, 10+level/2)\n",
    "\n",
    "chance_to_be_hit = (dnd.roll_damage(21, dnd.attack_bonus(level), Dice(1,2)) > 0).mean()\n",
    "\n",
    "print('Chace to be hit', chance_to_be_hit)\n",
    "print('Wisdom saving throw success:', wis_saving_throw.mean())\n",
    "print('Dex saving throw success:',dex_saving_throw.mean())\n",
    "\n",
    "print('Edritch blast round:', eldrith_blast.mean())\n",
    "print('Magic stone round:', magic_stone.mean())\n",
    "print('Damage for first round:', (pally_attack + pally_attack2).mean())\n",
    "print('Damage for second round:', (pally_attack + pally_attack2 + pam_attack).mean())"
   ]
  },
  {
   "cell_type": "code",
   "execution_count": null,
   "metadata": {},
   "outputs": [],
   "source": [
    "level = 14\n",
    "ability_score = 5\n",
    "melee_weapon = Dice(1,6) + Dice(1,8)\n",
    "smite = Dice(2,8)\n",
    "to_hit = dnd.proficency_bonus(level) + ability_score\n",
    "bonus_damage = ability_score * 2\n",
    "adv = {'advantage':False, 'crit_on':19}\n",
    "enemy_ac = dnd.get_AC(level)\n",
    "attackers_disadvantage = False\n",
    "\n",
    "pally_attack = dnd.roll_damage(enemy_ac, to_hit, melee_weapon, bonus_damage=bonus_damage, crit_added_damage_dice=smite, **adv)\n",
    "eldrith_blast = dnd.roll_damage(enemy_ac, to_hit, Dice(3,10)+Dice(3,6), bonus_damage=ability_score*3) \n",
    "normal_skele = dnd.roll_damage(enemy_ac, 2, Dice(3,6), bonus_damage=2) \n",
    "\n",
    "magic_stone = dnd.roll_damage(enemy_ac, to_hit, Dice(3,6), bonus_damage=ability_score*3)\n",
    "magic_stone_eldrith_blast = dnd.roll_damage(enemy_ac, to_hit, Dice(3,10), bonus_damage=ability_score*3) \n",
    "\n",
    "pally_attack2 = dnd.roll_damage(enemy_ac, to_hit, melee_weapon, bonus_damage=bonus_damage, crit_added_damage_dice=smite, **adv)\n",
    "pam_attack = dnd.roll_damage(enemy_ac, to_hit, Dice(1,4), bonus_damage=bonus_damage, crit_added_damage_dice=smite, **adv)\n",
    "\n",
    "wis_saving_throw = dnd.spell_save(-1 + ability_score + dnd.proficency_bonus(level), 10+level/2)\n",
    "dex_saving_throw = dnd.spell_save(-1 + ability_score, 10+level/2)\n",
    "\n",
    "chance_to_be_hit = (dnd.roll_damage(21, dnd.attack_bonus(level), Dice(1,2), disadvantage=attackers_disadvantage) > 0).mean()\n",
    "\n",
    "print('Chace to be hit', chance_to_be_hit)\n",
    "print('Wisdom saving throw success:', wis_saving_throw.mean())\n",
    "print('Dex saving throw success:',dex_saving_throw.mean())\n",
    "\n",
    "print('Edritch blast round:', eldrith_blast.mean())\n",
    "print('Magic stone round:', (magic_stone_eldrith_blast+magic_stone).mean())\n",
    "print('Damage for first round:', (pally_attack + pally_attack2).mean())\n",
    "print('Damage for second round:', (pally_attack + pally_attack2 + pam_attack).mean())"
   ]
  },
  {
   "cell_type": "code",
   "execution_count": null,
   "metadata": {},
   "outputs": [],
   "source": []
  },
  {
   "cell_type": "code",
   "execution_count": 33,
   "metadata": {},
   "outputs": [
    {
     "name": "stdout",
     "output_type": "stream",
     "text": [
      "Chace to be hit 0.4907\n",
      "Wisdom saving throw success: 0.6573\n",
      "Dex saving throw success: 0.3969\n",
      "Edritch blast round: 28.882\n",
      "Magic stone round: 38.2805\n",
      "Damage for first round: 26.8412\n",
      "Damage for second round: 36.2194\n"
     ]
    }
   ],
   "source": [
    "level = 14\n",
    "ability_score = 5\n",
    "melee_weapon = Dice(1,6)+Dice(1,8)\n",
    "smite = Dice(2,8)\n",
    "to_hit = dnd.proficency_bonus(level)+ability_score\n",
    "bonus_damage = ability_score*2\n",
    "adv = {'advantage':False, 'crit_on':19}\n",
    "enemy_ac = dnd.get_AC(level)\n",
    "attackers_disadvantage = False\n",
    "\n",
    "pally_attack = dnd.roll_damage(enemy_ac, to_hit, melee_weapon, bonus_damage=bonus_damage, crit_added_damage_dice=smite, **adv)\n",
    "eldrith_blast = dnd.roll_damage(enemy_ac, to_hit, Dice(3,10)+Dice(3,6), bonus_damage=ability_score*3) \n",
    "normal_skele = dnd.roll_damage(enemy_ac, 2, Dice(3,6), bonus_damage=2) \n",
    "\n",
    "magic_stone = dnd.roll_damage(enemy_ac, to_hit, Dice(3,6), bonus_damage=ability_score*3)\n",
    "magic_stone_eldrith_blast = dnd.roll_damage(enemy_ac, to_hit, Dice(3,10), bonus_damage=ability_score*3) \n",
    "\n",
    "pally_attack2 = dnd.roll_damage(enemy_ac, to_hit, melee_weapon, bonus_damage=bonus_damage, crit_added_damage_dice=smite, **adv)\n",
    "pam_attack = dnd.roll_damage(enemy_ac, to_hit, Dice(1,4), bonus_damage=bonus_damage, crit_added_damage_dice=smite, **adv)\n",
    "\n",
    "wis_saving_throw = dnd.spell_save(-1 + ability_score + dnd.proficency_bonus(level), 10+level/2)\n",
    "dex_saving_throw = dnd.spell_save(-1 + ability_score, 10+level/2)\n",
    "\n",
    "chance_to_be_hit = (dnd.roll_damage(21, dnd.attack_bonus(level), Dice(1,2), disadvantage=attackers_disadvantage) > 0).mean()\n",
    "\n",
    "print('Chace to be hit', chance_to_be_hit)\n",
    "print('Wisdom saving throw success:', wis_saving_throw.mean())\n",
    "print('Dex saving throw success:',dex_saving_throw.mean())\n",
    "\n",
    "print('Edritch blast round:', eldrith_blast.mean())\n",
    "print('Magic stone round:', (magic_stone_eldrith_blast+magic_stone).mean())\n",
    "print('Damage for first round:', (pally_attack + pally_attack2).mean())\n",
    "print('Damage for second round:', (pally_attack + pally_attack2 + pam_attack).mean())"
   ]
  },
  {
   "cell_type": "code",
   "execution_count": 34,
   "metadata": {},
   "outputs": [
    {
     "name": "stdout",
     "output_type": "stream",
     "text": [
      "Chace to be hit 0.2512\n",
      "Wisdom saving throw success: 0.6517\n",
      "Dex saving throw success: 0.3972\n",
      "Edritch blast round: 28.3892\n",
      "Magic stone round: 38.684\n",
      "Damage for first round: 38.2526\n",
      "Damage for second round: 51.295\n"
     ]
    }
   ],
   "source": [
    "level = 14\n",
    "ability_score = 5\n",
    "melee_weapon = Dice(1,6)+Dice(1,8)\n",
    "smite = Dice(2,8)\n",
    "to_hit = dnd.proficency_bonus(level)+ability_score\n",
    "bonus_damage = ability_score*2\n",
    "adv = {'advantage':True, 'crit_on':19}\n",
    "enemy_ac = dnd.get_AC(level)\n",
    "attackers_disadvantage = True\n",
    "\n",
    "pally_attack = dnd.roll_damage(enemy_ac, to_hit, melee_weapon, bonus_damage=bonus_damage, crit_added_damage_dice=smite, **adv)\n",
    "eldrith_blast = dnd.roll_damage(enemy_ac, to_hit, Dice(3,10)+Dice(3,6), bonus_damage=ability_score*3) \n",
    "normal_skele = dnd.roll_damage(enemy_ac, 2, Dice(3,6), bonus_damage=2) \n",
    "\n",
    "magic_stone = dnd.roll_damage(enemy_ac, to_hit, Dice(3,6), bonus_damage=ability_score*3)\n",
    "magic_stone_eldrith_blast = dnd.roll_damage(enemy_ac, to_hit, Dice(3,10), bonus_damage=ability_score*3) \n",
    "\n",
    "pally_attack2 = dnd.roll_damage(enemy_ac, to_hit, melee_weapon, bonus_damage=bonus_damage, crit_added_damage_dice=smite, **adv)\n",
    "pam_attack = dnd.roll_damage(enemy_ac, to_hit, Dice(1,4), bonus_damage=bonus_damage, crit_added_damage_dice=smite, **adv)\n",
    "\n",
    "wis_saving_throw = dnd.spell_save(-1 + ability_score + dnd.proficency_bonus(level), 10+level/2)\n",
    "dex_saving_throw = dnd.spell_save(-1 + ability_score, 10+level/2)\n",
    "\n",
    "chance_to_be_hit = (dnd.roll_damage(21, dnd.attack_bonus(level), Dice(1,2), disadvantage=attackers_disadvantage) > 0).mean()\n",
    "\n",
    "print('Chace to be hit', chance_to_be_hit)\n",
    "print('Wisdom saving throw success:', wis_saving_throw.mean())\n",
    "print('Dex saving throw success:',dex_saving_throw.mean())\n",
    "\n",
    "print('Edritch blast round:', eldrith_blast.mean())\n",
    "print('Magic stone round:', (magic_stone_eldrith_blast+magic_stone).mean())\n",
    "print('Damage for first round:', (pally_attack + pally_attack2).mean())\n",
    "print('Damage for second round:', (pally_attack + pally_attack2 + pam_attack).mean())"
   ]
  },
  {
   "cell_type": "code",
   "execution_count": 91,
   "metadata": {},
   "outputs": [
    {
     "name": "stdout",
     "output_type": "stream",
     "text": [
      "probablity to lose concentration (attack) 0.20191420000000004\n",
      "probablity to lose concentration (dex save) 0.3551165\n"
     ]
    }
   ],
   "source": [
    "damage = 50.0 \n",
    "level = 15\n",
    "con = 8 \n",
    "dex = 4\n",
    "chance_to_be_hit = (dnd.roll_damage(21, dnd.attack_bonus(level), Dice(1,2), disadvantage=True) > 0).mean()\n",
    "\n",
    "spell_save = dnd.advantage_roll(advantage=False, disadvantage=False, num_simulations=4000)\n",
    "\n",
    "fail_spell_save = (19 > (dex + spell_save)).mean()\n",
    "\n",
    "con_save = dnd.advantage_roll(advantage=False, disadvantage=False, num_simulations=4000)\n",
    "con_DC = max(10.0, damage/2.0)\n",
    "fail_con_check = (con_DC > (con_save+con)).mean() \n",
    "\n",
    "print('probablity to lose concentration (attack)', chance_to_be_hit * fail_con_check)\n",
    "print('probablity to lose concentration (dex save)', fail_spell_save * fail_con_check)"
   ]
  },
  {
   "cell_type": "code",
   "execution_count": 92,
   "metadata": {},
   "outputs": [
    {
     "name": "stdout",
     "output_type": "stream",
     "text": [
      "Chace to be hit 0.5423\n",
      "Wisdom saving throw success: 0.5462\n",
      "Dex saving throw success: 0.2522\n",
      "Edritch blast round: 28.2727\n",
      "Magic stone round: 38.1506\n",
      "Damage for first round: 26.997\n",
      "Damage for second round: 36.2165\n"
     ]
    }
   ],
   "source": [
    "level = 20\n",
    "ability_score = 5\n",
    "melee_weapon = Dice(1,6)+Dice(1,8)\n",
    "smite = Dice(2,8)\n",
    "to_hit = dnd.proficency_bonus(level)+ability_score\n",
    "bonus_damage = ability_score*2\n",
    "adv = {'advantage':False, 'crit_on':19}\n",
    "enemy_ac = dnd.get_AC(level)\n",
    "attackers_disadvantage = False\n",
    "\n",
    "pally_attack = dnd.roll_damage(enemy_ac, to_hit, melee_weapon, bonus_damage=bonus_damage, crit_added_damage_dice=smite, **adv)\n",
    "eldrith_blast = dnd.roll_damage(enemy_ac, to_hit, Dice(3,10)+Dice(3,6), bonus_damage=ability_score*3) \n",
    "normal_skele = dnd.roll_damage(enemy_ac, 2, Dice(3,6), bonus_damage=2) \n",
    "\n",
    "magic_stone = dnd.roll_damage(enemy_ac, to_hit, Dice(3,6), bonus_damage=ability_score*3)\n",
    "magic_stone_eldrith_blast = dnd.roll_damage(enemy_ac, to_hit, Dice(3,10), bonus_damage=ability_score*3) \n",
    "\n",
    "pally_attack2 = dnd.roll_damage(enemy_ac, to_hit, melee_weapon, bonus_damage=bonus_damage, crit_added_damage_dice=smite, **adv)\n",
    "pam_attack = dnd.roll_damage(enemy_ac, to_hit, Dice(1,4), bonus_damage=bonus_damage, crit_added_damage_dice=smite, **adv)\n",
    "\n",
    "wis_saving_throw = dnd.spell_save(-1 + ability_score + dnd.proficency_bonus(level), 10+level/2)\n",
    "dex_saving_throw = dnd.spell_save(-1 + ability_score, 10+level/2)\n",
    "\n",
    "chance_to_be_hit = (dnd.roll_damage(21, dnd.attack_bonus(level), Dice(1,2), disadvantage=attackers_disadvantage) > 0).mean()\n",
    "\n",
    "print('Chace to be hit', chance_to_be_hit)\n",
    "print('Wisdom saving throw success:', wis_saving_throw.mean())\n",
    "print('Dex saving throw success:',dex_saving_throw.mean())\n",
    "\n",
    "print('Edritch blast round:', eldrith_blast.mean())\n",
    "print('Magic stone round:', (magic_stone_eldrith_blast+magic_stone).mean())\n",
    "print('Damage for first round:', (pally_attack + pally_attack2).mean())\n",
    "print('Damage for second round:', (pally_attack + pally_attack2 + pam_attack).mean())"
   ]
  }
 ],
 "metadata": {
  "kernelspec": {
   "display_name": "Python 3",
   "language": "python",
   "name": "python3"
  },
  "language_info": {
   "codemirror_mode": {
    "name": "ipython",
    "version": 3
   },
   "file_extension": ".py",
   "mimetype": "text/x-python",
   "name": "python",
   "nbconvert_exporter": "python",
   "pygments_lexer": "ipython3",
   "version": "3.9.6"
  },
  "orig_nbformat": 4
 },
 "nbformat": 4,
 "nbformat_minor": 2
}
